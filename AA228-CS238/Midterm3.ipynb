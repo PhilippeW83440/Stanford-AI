{
 "cells": [
  {
   "cell_type": "markdown",
   "metadata": {},
   "source": [
    "**AA228/CS238 Midterm3 2018 - Philippe Weingertner **\n",
    "  \n",
    "pweinger@stanford.edu"
   ]
  },
  {
   "cell_type": "code",
   "execution_count": 1,
   "metadata": {
    "collapsed": true
   },
   "outputs": [],
   "source": [
    "using ImageMagick\n",
    "using Images\n",
    "using Plots"
   ]
  },
  {
   "cell_type": "code",
   "execution_count": 2,
   "metadata": {
    "collapsed": false
   },
   "outputs": [],
   "source": [
    "using LaTeXStrings"
   ]
  },
  {
   "cell_type": "markdown",
   "metadata": {},
   "source": [
    "* 4 States: $\\theta \\in \\{20, 40, 60, 80\\}$\n",
    "* 10 Actions: $d \\in \\{10,20,...,100\\}$ \n",
    "* 2 Observations: $c^1, c^0$"
   ]
  },
  {
   "cell_type": "code",
   "execution_count": 3,
   "metadata": {
    "collapsed": false
   },
   "outputs": [],
   "source": [
    "states  = [20, 40, 60, 80]\n",
    "actions = [10, 20, 30, 40, 50, 60, 70, 80, 90, 100]\n",
    "observations = [:c0, :c1];"
   ]
  },
  {
   "cell_type": "code",
   "execution_count": 4,
   "metadata": {
    "collapsed": false
   },
   "outputs": [],
   "source": [
    "belief_uniform = [1/4, 1/4, 1/4, 1/4]\n",
    "belief_θ20 = [1.0, 0, 0, 0]\n",
    "belief_θ80 = [0,   0, 0, 1.0];"
   ]
  },
  {
   "cell_type": "markdown",
   "metadata": {},
   "source": [
    "# Question 1"
   ]
  },
  {
   "cell_type": "code",
   "execution_count": 5,
   "metadata": {
    "collapsed": false
   },
   "outputs": [],
   "source": [
    "\"\"\"\n",
    "    proba_obs_c1(θ::Int64, d::Int64)\n",
    "\n",
    "OBSERVATION MODEL: return P(c1|s,a). With c1=catch successful, s=θ, a=d\n",
    "\"\"\"\n",
    "function proba_obs_c1(θ::Int64, d::Int64)\n",
    "    p = 1-1/(1+exp(-(d-θ)/15))\n",
    "end;"
   ]
  },
  {
   "cell_type": "code",
   "execution_count": 6,
   "metadata": {
    "collapsed": false
   },
   "outputs": [],
   "source": [
    "thetas = [20, 40, 60, 80]\n",
    "colors = [:red, :green, :blue, :black]\n",
    "\n",
    "plt = scatter([0], [0], color=:black, markersize=0.5, xlim=(0,100), \n",
    "                ylim=(0,1), xlabel=\"d\", ylabel=\"\\$ P(c^1  \\\\mid d) \\$\", \n",
    "                label=\"Question 1\")\n",
    "\n",
    "for i in 1:length(thetas)\n",
    "    θ = thetas[i]\n",
    "    d_vals = Float64[]\n",
    "    p_vals = Float64[] \n",
    "    for d in 0:100\n",
    "        p = proba_obs_c1(θ, d)\n",
    "        push!(d_vals, d)\n",
    "        push!(p_vals, p)\n",
    "    end\n",
    "    \n",
    "    scatter!(plt, [d_vals], [p_vals], marker=:circle, color=colors[i], \n",
    "            markersize=2,xlim=(0,100),ylim=(0,1),label=\"\\$\\\\theta=$θ\\$\")\n",
    "end"
   ]
  },
  {
   "cell_type": "code",
   "execution_count": 7,
   "metadata": {
    "collapsed": false
   },
   "outputs": [
    {
     "data": {
      "image/svg+xml": [
       "<?xml version=\"1.0\" encoding=\"utf-8\"?>\n",
       "<svg xmlns=\"http://www.w3.org/2000/svg\" xmlns:xlink=\"http://www.w3.org/1999/xlink\" width=\"600\" height=\"400\" viewBox=\"0 0 2400 1600\">\n",
       "<defs>\n",
       "  <clipPath id=\"clip1400\">\n",
       "    <rect x=\"0\" y=\"0\" width=\"2000\" height=\"2000\"/>\n",
       "  </clipPath>\n",
       "</defs>\n",
       "<defs>\n",
       "  <clipPath id=\"clip1401\">\n",
       "    <rect x=\"0\" y=\"0\" width=\"2400\" height=\"1600\"/>\n",
       "  </clipPath>\n",
       "</defs>\n",
       "<polygon clip-path=\"url(#clip1401)\" points=\"\n",
       "0,1600 2400,1600 2400,0 0,0 \n",
       "  \" fill=\"#ffffff\" fill-rule=\"evenodd\" fill-opacity=\"1\"/>\n",
       "<defs>\n",
       "  <clipPath id=\"clip1402\">\n",
       "    <rect x=\"480\" y=\"0\" width=\"1681\" height=\"1600\"/>\n",
       "  </clipPath>\n",
       "</defs>\n",
       "<polygon clip-path=\"url(#clip1401)\" points=\"\n",
       "224.386,1440.48 2321.26,1440.48 2321.26,47.2441 224.386,47.2441 \n",
       "  \" fill=\"#ffffff\" fill-rule=\"evenodd\" fill-opacity=\"1\"/>\n",
       "<defs>\n",
       "  <clipPath id=\"clip1403\">\n",
       "    <rect x=\"224\" y=\"47\" width=\"2098\" height=\"1394\"/>\n",
       "  </clipPath>\n",
       "</defs>\n",
       "<polyline clip-path=\"url(#clip1403)\" style=\"stroke:#000000; stroke-width:2; stroke-opacity:0.1; fill:none\" points=\"\n",
       "  224.386,1440.48 224.386,47.2441 \n",
       "  \"/>\n",
       "<polyline clip-path=\"url(#clip1403)\" style=\"stroke:#000000; stroke-width:2; stroke-opacity:0.1; fill:none\" points=\"\n",
       "  643.761,1440.48 643.761,47.2441 \n",
       "  \"/>\n",
       "<polyline clip-path=\"url(#clip1403)\" style=\"stroke:#000000; stroke-width:2; stroke-opacity:0.1; fill:none\" points=\"\n",
       "  1063.14,1440.48 1063.14,47.2441 \n",
       "  \"/>\n",
       "<polyline clip-path=\"url(#clip1403)\" style=\"stroke:#000000; stroke-width:2; stroke-opacity:0.1; fill:none\" points=\"\n",
       "  1482.51,1440.48 1482.51,47.2441 \n",
       "  \"/>\n",
       "<polyline clip-path=\"url(#clip1403)\" style=\"stroke:#000000; stroke-width:2; stroke-opacity:0.1; fill:none\" points=\"\n",
       "  1901.89,1440.48 1901.89,47.2441 \n",
       "  \"/>\n",
       "<polyline clip-path=\"url(#clip1403)\" style=\"stroke:#000000; stroke-width:2; stroke-opacity:0.1; fill:none\" points=\"\n",
       "  2321.26,1440.48 2321.26,47.2441 \n",
       "  \"/>\n",
       "<polyline clip-path=\"url(#clip1403)\" style=\"stroke:#000000; stroke-width:2; stroke-opacity:0.1; fill:none\" points=\"\n",
       "  224.386,1440.48 2321.26,1440.48 \n",
       "  \"/>\n",
       "<polyline clip-path=\"url(#clip1403)\" style=\"stroke:#000000; stroke-width:2; stroke-opacity:0.1; fill:none\" points=\"\n",
       "  224.386,1161.83 2321.26,1161.83 \n",
       "  \"/>\n",
       "<polyline clip-path=\"url(#clip1403)\" style=\"stroke:#000000; stroke-width:2; stroke-opacity:0.1; fill:none\" points=\"\n",
       "  224.386,883.187 2321.26,883.187 \n",
       "  \"/>\n",
       "<polyline clip-path=\"url(#clip1403)\" style=\"stroke:#000000; stroke-width:2; stroke-opacity:0.1; fill:none\" points=\"\n",
       "  224.386,604.539 2321.26,604.539 \n",
       "  \"/>\n",
       "<polyline clip-path=\"url(#clip1403)\" style=\"stroke:#000000; stroke-width:2; stroke-opacity:0.1; fill:none\" points=\"\n",
       "  224.386,325.892 2321.26,325.892 \n",
       "  \"/>\n",
       "<polyline clip-path=\"url(#clip1403)\" style=\"stroke:#000000; stroke-width:2; stroke-opacity:0.1; fill:none\" points=\"\n",
       "  224.386,47.2441 2321.26,47.2441 \n",
       "  \"/>\n",
       "<polyline clip-path=\"url(#clip1401)\" style=\"stroke:#000000; stroke-width:4; stroke-opacity:1; fill:none\" points=\"\n",
       "  224.386,1440.48 2321.26,1440.48 \n",
       "  \"/>\n",
       "<polyline clip-path=\"url(#clip1401)\" style=\"stroke:#000000; stroke-width:4; stroke-opacity:1; fill:none\" points=\"\n",
       "  224.386,1440.48 224.386,47.2441 \n",
       "  \"/>\n",
       "<polyline clip-path=\"url(#clip1401)\" style=\"stroke:#000000; stroke-width:4; stroke-opacity:1; fill:none\" points=\"\n",
       "  224.386,1440.48 224.386,1419.58 \n",
       "  \"/>\n",
       "<polyline clip-path=\"url(#clip1401)\" style=\"stroke:#000000; stroke-width:4; stroke-opacity:1; fill:none\" points=\"\n",
       "  643.761,1440.48 643.761,1419.58 \n",
       "  \"/>\n",
       "<polyline clip-path=\"url(#clip1401)\" style=\"stroke:#000000; stroke-width:4; stroke-opacity:1; fill:none\" points=\"\n",
       "  1063.14,1440.48 1063.14,1419.58 \n",
       "  \"/>\n",
       "<polyline clip-path=\"url(#clip1401)\" style=\"stroke:#000000; stroke-width:4; stroke-opacity:1; fill:none\" points=\"\n",
       "  1482.51,1440.48 1482.51,1419.58 \n",
       "  \"/>\n",
       "<polyline clip-path=\"url(#clip1401)\" style=\"stroke:#000000; stroke-width:4; stroke-opacity:1; fill:none\" points=\"\n",
       "  1901.89,1440.48 1901.89,1419.58 \n",
       "  \"/>\n",
       "<polyline clip-path=\"url(#clip1401)\" style=\"stroke:#000000; stroke-width:4; stroke-opacity:1; fill:none\" points=\"\n",
       "  2321.26,1440.48 2321.26,1419.58 \n",
       "  \"/>\n",
       "<polyline clip-path=\"url(#clip1401)\" style=\"stroke:#000000; stroke-width:4; stroke-opacity:1; fill:none\" points=\"\n",
       "  224.386,1440.48 255.839,1440.48 \n",
       "  \"/>\n",
       "<polyline clip-path=\"url(#clip1401)\" style=\"stroke:#000000; stroke-width:4; stroke-opacity:1; fill:none\" points=\"\n",
       "  224.386,1161.83 255.839,1161.83 \n",
       "  \"/>\n",
       "<polyline clip-path=\"url(#clip1401)\" style=\"stroke:#000000; stroke-width:4; stroke-opacity:1; fill:none\" points=\"\n",
       "  224.386,883.187 255.839,883.187 \n",
       "  \"/>\n",
       "<polyline clip-path=\"url(#clip1401)\" style=\"stroke:#000000; stroke-width:4; stroke-opacity:1; fill:none\" points=\"\n",
       "  224.386,604.539 255.839,604.539 \n",
       "  \"/>\n",
       "<polyline clip-path=\"url(#clip1401)\" style=\"stroke:#000000; stroke-width:4; stroke-opacity:1; fill:none\" points=\"\n",
       "  224.386,325.892 255.839,325.892 \n",
       "  \"/>\n",
       "<polyline clip-path=\"url(#clip1401)\" style=\"stroke:#000000; stroke-width:4; stroke-opacity:1; fill:none\" points=\"\n",
       "  224.386,47.2441 255.839,47.2441 \n",
       "  \"/>\n",
       "<g clip-path=\"url(#clip1401)\">\n",
       "<text style=\"fill:#000000; fill-opacity:1; font-family:Arial,Helvetica Neue,Helvetica,sans-serif; font-size:48px; text-anchor:middle;\" transform=\"rotate(0, 224.386, 1494.48)\" x=\"224.386\" y=\"1494.48\">0</text>\n",
       "</g>\n",
       "<g clip-path=\"url(#clip1401)\">\n",
       "<text style=\"fill:#000000; fill-opacity:1; font-family:Arial,Helvetica Neue,Helvetica,sans-serif; font-size:48px; text-anchor:middle;\" transform=\"rotate(0, 643.761, 1494.48)\" x=\"643.761\" y=\"1494.48\">20</text>\n",
       "</g>\n",
       "<g clip-path=\"url(#clip1401)\">\n",
       "<text style=\"fill:#000000; fill-opacity:1; font-family:Arial,Helvetica Neue,Helvetica,sans-serif; font-size:48px; text-anchor:middle;\" transform=\"rotate(0, 1063.14, 1494.48)\" x=\"1063.14\" y=\"1494.48\">40</text>\n",
       "</g>\n",
       "<g clip-path=\"url(#clip1401)\">\n",
       "<text style=\"fill:#000000; fill-opacity:1; font-family:Arial,Helvetica Neue,Helvetica,sans-serif; font-size:48px; text-anchor:middle;\" transform=\"rotate(0, 1482.51, 1494.48)\" x=\"1482.51\" y=\"1494.48\">60</text>\n",
       "</g>\n",
       "<g clip-path=\"url(#clip1401)\">\n",
       "<text style=\"fill:#000000; fill-opacity:1; font-family:Arial,Helvetica Neue,Helvetica,sans-serif; font-size:48px; text-anchor:middle;\" transform=\"rotate(0, 1901.89, 1494.48)\" x=\"1901.89\" y=\"1494.48\">80</text>\n",
       "</g>\n",
       "<g clip-path=\"url(#clip1401)\">\n",
       "<text style=\"fill:#000000; fill-opacity:1; font-family:Arial,Helvetica Neue,Helvetica,sans-serif; font-size:48px; text-anchor:middle;\" transform=\"rotate(0, 2321.26, 1494.48)\" x=\"2321.26\" y=\"1494.48\">100</text>\n",
       "</g>\n",
       "<g clip-path=\"url(#clip1401)\">\n",
       "<text style=\"fill:#000000; fill-opacity:1; font-family:Arial,Helvetica Neue,Helvetica,sans-serif; font-size:48px; text-anchor:end;\" transform=\"rotate(0, 200.386, 1457.98)\" x=\"200.386\" y=\"1457.98\">0.0</text>\n",
       "</g>\n",
       "<g clip-path=\"url(#clip1401)\">\n",
       "<text style=\"fill:#000000; fill-opacity:1; font-family:Arial,Helvetica Neue,Helvetica,sans-serif; font-size:48px; text-anchor:end;\" transform=\"rotate(0, 200.386, 1179.33)\" x=\"200.386\" y=\"1179.33\">0.2</text>\n",
       "</g>\n",
       "<g clip-path=\"url(#clip1401)\">\n",
       "<text style=\"fill:#000000; fill-opacity:1; font-family:Arial,Helvetica Neue,Helvetica,sans-serif; font-size:48px; text-anchor:end;\" transform=\"rotate(0, 200.386, 900.687)\" x=\"200.386\" y=\"900.687\">0.4</text>\n",
       "</g>\n",
       "<g clip-path=\"url(#clip1401)\">\n",
       "<text style=\"fill:#000000; fill-opacity:1; font-family:Arial,Helvetica Neue,Helvetica,sans-serif; font-size:48px; text-anchor:end;\" transform=\"rotate(0, 200.386, 622.039)\" x=\"200.386\" y=\"622.039\">0.6</text>\n",
       "</g>\n",
       "<g clip-path=\"url(#clip1401)\">\n",
       "<text style=\"fill:#000000; fill-opacity:1; font-family:Arial,Helvetica Neue,Helvetica,sans-serif; font-size:48px; text-anchor:end;\" transform=\"rotate(0, 200.386, 343.392)\" x=\"200.386\" y=\"343.392\">0.8</text>\n",
       "</g>\n",
       "<g clip-path=\"url(#clip1401)\">\n",
       "<text style=\"fill:#000000; fill-opacity:1; font-family:Arial,Helvetica Neue,Helvetica,sans-serif; font-size:48px; text-anchor:end;\" transform=\"rotate(0, 200.386, 64.7441)\" x=\"200.386\" y=\"64.7441\">1.0</text>\n",
       "</g>\n",
       "<g clip-path=\"url(#clip1401)\">\n",
       "<text style=\"fill:#000000; fill-opacity:1; font-family:Arial,Helvetica Neue,Helvetica,sans-serif; font-size:66px; text-anchor:middle;\" transform=\"rotate(0, 1272.82, 1590.4)\" x=\"1272.82\" y=\"1590.4\">d</text>\n",
       "</g>\n",
       "<g clip-path=\"url(#clip1401)\">\n",
       "<image width=\"73\" height=\"238\" xlink:href=\"data:image/png;base64,\n",
       "iVBORw0KGgoAAAANSUhEUgAAAEkAAADuCAYAAAB1aiqKAAALu0lEQVR4nO2d/XHqOhOHlzunAOES\n",
       "RAeCEkwHPinBpALnlOBJBeaU4NwKDCUYKjCUIOhg3z9y5VcQA2tLsk2i38xOZjJgm8f63F1JE0SE\n",
       "IXU6nfB4PIJuUko4n88AACClBACAIAiAMQYAAJzzC5vNZhOXz/jL5cWbtNvtcLvdgjJLQs45hGFY\n",
       "23Q6tQcOEZ1blmUohEAA6M045xjHMZZliabP7wxMWZYYx3GvYG6ZEAKzLEMpZSdgE9tt0nq9xvf3\n",
       "dzgej3c/xzkHIQRwziEIgrp9YYxBEAQAAF+qzOl0QoDPdup4PML5fK7bsbIs6//dUxRFkKZpu3bM\n",
       "VsnJ8xw5541vkjGGURRhlmVWiv89k1JiURSYJMndKh7HMblkGT9UVVUYhmFjm5AkiXMoFGh5njc+\n",
       "IwBglmUPn8/oAbIs+3LTKIqwKIpBwdwDlqbplxIvhLhbqjrf8LpRblN8x2BZll3AYozdLPWd3oZe\n",
       "158NThMsxlj9e/I8//JbWl2wqqr6goyx0VarLi8+iqIaVJIkF7+rE6A4jr8FnGvL87z+jTooMmlV\n",
       "fym9wTNbVVX1b03TFMmQVBvUVF+/o+ntblEUj7+Q5zkCwODjnSEsiiLknOPDacnpdEIppXN3xFi1\n",
       "2+0eQ/IC+GfoB3gGeUgEtYK0Xq/x4+MDlcvip6hVmzSZTOoP6+5SIcQgDfvhcMDz+Qzz+dztvdt0\n",
       "ifoc59p0n1FVVb0MF/Q5ZBiGmOe5k3lk54d6ZH042qSUmGUZRlF0MUkNw9DqvLLVh285rqgWhiGm\n",
       "aeoM2rVfPQxDKyWr1Yf1mTLnHIUQeK8KDgktSZL6OXuFpG4MABdvqKqqxmLf1oQQmCSJtapSFEWj\n",
       "68MppDRN6/bm3udcQOtabeI4Ni5NrT6sJrttb1pVFeZ5juqBu0JTAcc2vZgq/b1BKsuyfsMmN1UR\n",
       "DNPgpQ6tadihfEO9liRVmmy0GVVV4fU4J45jo3A4Y6yxQzH1pBr90K6mSiRj7Gb4mRJgpJrpMKB3\n",
       "QFLKuqq0efiu0Gx4U3uHpBpS06nLI2hCCGvjr94hCSEwiiIrD6+bHj+zHazoHZKNwd0t06M6g83d\n",
       "bJia+Lq6/nWk4ykhhWH4cMRuwxQoGxPc3t23Qgg4n8+wXq/R5X222y0wxiCOY/OL9V2SqqqqeyDX\n",
       "zjmVGmTay/UOCfH/finGmHNQjLHnHnErUC6zU3r3Atg03TcF4C7PSbl3nhIS4lefOWMMkySxWgXj\n",
       "ODbuTQeFpA/+rk3lXpsAk1IiY8zYtTMoJPVDHk1auzjbdFeMyjPqaqNImDidTvjy8kJea8IYg8Vi\n",
       "USfLq4R5lfie5zns9/v681JKs7UmQ5ck3ZpSnk3NxmR3cDBN1cQ0vqfM1kR6cCj3YOlxvjbGGLOa\n",
       "ujg4jEemh7IfwVE9ou1nGEXD3Ub6SkspZb2icrFY2F0IqOnpIA0hn+lGkIdEkIdEkIdEkIdEkIdE\n",
       "kIdEkIdEkIdEkIdEkIdEkIdEkIdEkIdEkIdEkIdEkIdEkIdEkIdEkIdEkIdEkIdEkIdEkIdEkIdE\n",
       "kIdE0MMNgvXY+0+TShB7mFFhsmb2OxjnHH11I4iUVXI4HPCnVrfZbDbxqTcE+epGkIdEkIdEkIdE\n",
       "kIdEkIdEkIdEkIdEkIdEkIdEkIdEkIdEkIdEkIdEkIdEkIdEkIdEkIdEkIdEkIdEkIdEkIdEkIdE\n",
       "kIdEkIdEkIdEkIdEkIdEkIdEkIdEkIdEUO+QNpsNvr29PVVSVO+QttstvL+/931bI/nqRlDvkM7n\n",
       "c9+3NJYvSQT1Dqksy75vaaxfAJ8H4vZxs+12e7Hd6tPIxVaqFBt6/8o29g/nvJeX8dRCvDwmsS8b\n",
       "unS03rH0dDphEAT1ubauVJYl/Pvvv+rlPM2B6PWyifl8jgAAu93O6cPPZjM8Ho9PBakeAry8vMB+\n",
       "vwfXR0oLIVxe3olqSOrhXY9jgiBwen0XqiGpXs71OIYx5vT6LlRDUgeQSymHe5qR6su0xPUEdLFY\n",
       "OO1BXcgvCiTIewEI8pAI8pAI8pAIGhTS4XDAt7c3XC6XuFqtsOsRi+v1GpfLJR4OBze90FAza3Xu\n",
       "2rW1PWkZ8fJQPRcH6g0CSDn6hBCNR5d1OQK2LMv6sGBbJykPCkmdxo7Y7MvqemhdVVXIGEPGmNVT\n",
       "BwcrRept61XFFJJ+PdOD7waFFEXRl4My8zyvqwqA+XFj6kXYOlepd0hCiMYjV6WUWBSFtfMmhRDW\n",
       "Tm7uHRKA+fGGFFPVzkZp6n2cxBjrZVev+Xw+EUJYSc7oHRLnvLcobhzHcDwewXSQOQikvqK4Ly8v\n",
       "AADkAz9vqXdIi8UCAAD6SOSaTqcTxpgxpN4bbill3dW7OGb62qIoMh4z9V6SptPpRLlv+3Djcs6N\n",
       "O4pBvABJkgDAZ2RmuVw6rXZBEBj77QeBtFwuJ1EUAcBno7pcLtFVUNRK9KfvNklvm/SpCABYPbtW\n",
       "WRiGX6ZBbW0wSIifcza4mtwKIazBqqqqs+tlNJAQb5/HzRjDJEk6+4b00+NNoQ8OCfG2l1IHFscx\n",
       "5nlOmgBnWVZXZRuT3NEEJ9frNb6+vpI/H4YhMMbqHIbz+QzH4xHKsrzozbIsg9VqZZbmM3Qp0k13\n",
       "wdow07ZoVNVNNyklJkliDCgMQyuARglJh9U1l9P2Se+Dw6DAyvMcwzC8C0YIgWmaOpkPjqbhpkpt\n",
       "x69G0kEQAOccptOpsxzMp4M0hHwuAEEeEkEeEkEeEkEPIR0OB9xsNj+ydT+dTp/pQI/GCEVRIPQU\n",
       "UByTVVWFnPNPTwLlC2rk2xSe/o52ncZD/qIa8dqcE43RdEegSghrdQHlxOKcW0+UGoPpE2vdUdfq\n",
       "IlLKizlUkiTfAlRZlhcZd9eezE4XjeO4viDn3IkDvw+TUqL+WxhjjTWk8w2ufdPPBKuqqgs48J8X\n",
       "4ZYHwehm18VUwXLlsjC1oigafVSPmg0rN7/lSQzDELMss5a91hVMHMeNbmFqB2TtYaqquutJ5JzX\n",
       "EQ9XPWNVVVgUBSZJUoeTmowx1sp7ad2fdDgc8M+fP/Wq7XtSZzpyzuvIRxAE9epKfSmqlBLO53Pj\n",
       "3/1+T0qK4JxDkiTtoycui3qWZXffaF8Wx7FR6e2lXaiq6mEVsGmMMYyiyFpAYBD37WazQbW5y3Uw\n",
       "sYs45yCEqDd/UOuJbWk0Pm51+OfxeKyh6Wkzqn1ijNXOf9cBAKXRQBqzvGeSIA+JIA+JIA+JIA+J\n",
       "IA+JIA+JIGuQNpsNrlYrnM1mOJlMcDqd1kvZnS1F70s25mWPcofgP9/SswYPjL7ctMj4kT1jkNOo\n",
       "BLUFpMxWwufoIZm6PZ4pGtzpS7a2gn2WuF2nL11HSMIwrLP1pZSofM1pmj5s1J+hMW/9hevGmur9\n",
       "y/O80TNpuoJolJD0dSBd2pWmWN3Ye7zWX9Crj0kAUg8/2doJYjSQVCmw0Y3rwG1n8du01tMS5XdW\n",
       "S9dNlOd5HWP7+/ev8fVcqTUk5aS3sdn5dDqdpGkKANDL5sRd1XmCa2tH+NVqNVGlyXiTA0fqDMnm\n",
       "Rr9xHAPAN4Rkc8totafIWI/rGIXTbT6fTwDGezrOKCABfLZxY93mejSQGGO+JD3SmLfFHw2kMctD\n",
       "IqgzpLE2si7UGdJYB34u1BnS6+sr/P79Gz8+PpztfTQatfat3HDD6inIXfxMym0ytFuk8TfbgmQK\n",
       "7UdCujY9I7ZphYALSHmeW9nEvDdIj6C5gKSWSgwKyUVetkm7dutZB4OkL9sqy5IUY2trpp3B4JDu\n",
       "rTzSodncNOpRu6abvjPqKCE1QcuyDKMocgbtOhKsB1EHg2TSZlRV5QQawGfIPUmSiwCoKaTWKwKm\n",
       "0ymqJVS2liwcDgfcbregzLZfCQ3Pt2wN6e3tDff7PWw2G2drOnRo1LVs99Q7pCF0Op0uSlpbaD8C\n",
       "0rXaQvuRkK71CJqH1KDdbodhGNYdgCmkb+m+nc/ndY6BDX1LSAB2t9b/ltVNaTKZfI5+fXVzLw+J\n",
       "oG8NyVYO1S8rVxmp8jy3Eh/8H2OG8ZD1/pSqAAAAAElFTkSuQmCC\n",
       "\" transform=\"translate(-1, 625)\"/>\n",
       "</g>\n",
       "<circle clip-path=\"url(#clip1403)\" style=\"fill:#000000; stroke:none; fill-opacity:1\" cx=\"224.386\" cy=\"1440.48\" r=\"5\"/>\n",
       "<circle clip-path=\"url(#clip1403)\" style=\"fill:#000000; stroke:none; fill-opacity:1\" cx=\"224.386\" cy=\"1440.48\" r=\"1\"/>\n",
       "<circle clip-path=\"url(#clip1403)\" style=\"fill:#000000; stroke:none; fill-opacity:1\" cx=\"224.386\" cy=\"337.886\" r=\"10\"/>\n",
       "<circle clip-path=\"url(#clip1403)\" style=\"fill:#ff0000; stroke:none; fill-opacity:1\" cx=\"224.386\" cy=\"337.886\" r=\"7\"/>\n",
       "<circle clip-path=\"url(#clip1403)\" style=\"fill:#000000; stroke:none; fill-opacity:1\" cx=\"245.355\" cy=\"353.517\" r=\"10\"/>\n",
       "<circle clip-path=\"url(#clip1403)\" style=\"fill:#ff0000; stroke:none; fill-opacity:1\" cx=\"245.355\" cy=\"353.517\" r=\"7\"/>\n",
       "<circle clip-path=\"url(#clip1403)\" style=\"fill:#000000; stroke:none; fill-opacity:1\" cx=\"266.324\" cy=\"369.744\" r=\"10\"/>\n",
       "<circle clip-path=\"url(#clip1403)\" style=\"fill:#ff0000; stroke:none; fill-opacity:1\" cx=\"266.324\" cy=\"369.744\" r=\"7\"/>\n",
       "<circle clip-path=\"url(#clip1403)\" style=\"fill:#000000; stroke:none; fill-opacity:1\" cx=\"287.292\" cy=\"386.562\" r=\"10\"/>\n",
       "<circle clip-path=\"url(#clip1403)\" style=\"fill:#ff0000; stroke:none; fill-opacity:1\" cx=\"287.292\" cy=\"386.562\" r=\"7\"/>\n",
       "<circle clip-path=\"url(#clip1403)\" style=\"fill:#000000; stroke:none; fill-opacity:1\" cx=\"308.261\" cy=\"403.965\" r=\"10\"/>\n",
       "<circle clip-path=\"url(#clip1403)\" style=\"fill:#ff0000; stroke:none; fill-opacity:1\" cx=\"308.261\" cy=\"403.965\" r=\"7\"/>\n",
       "<circle clip-path=\"url(#clip1403)\" style=\"fill:#000000; stroke:none; fill-opacity:1\" cx=\"329.23\" cy=\"421.944\" r=\"10\"/>\n",
       "<circle clip-path=\"url(#clip1403)\" style=\"fill:#ff0000; stroke:none; fill-opacity:1\" cx=\"329.23\" cy=\"421.944\" r=\"7\"/>\n",
       "<circle clip-path=\"url(#clip1403)\" style=\"fill:#000000; stroke:none; fill-opacity:1\" cx=\"350.199\" cy=\"440.484\" r=\"10\"/>\n",
       "<circle clip-path=\"url(#clip1403)\" style=\"fill:#ff0000; stroke:none; fill-opacity:1\" cx=\"350.199\" cy=\"440.484\" r=\"7\"/>\n",
       "<circle clip-path=\"url(#clip1403)\" style=\"fill:#000000; stroke:none; fill-opacity:1\" cx=\"371.167\" cy=\"459.571\" r=\"10\"/>\n",
       "<circle clip-path=\"url(#clip1403)\" style=\"fill:#ff0000; stroke:none; fill-opacity:1\" cx=\"371.167\" cy=\"459.571\" r=\"7\"/>\n",
       "<circle clip-path=\"url(#clip1403)\" style=\"fill:#000000; stroke:none; fill-opacity:1\" cx=\"392.136\" cy=\"479.184\" r=\"10\"/>\n",
       "<circle clip-path=\"url(#clip1403)\" style=\"fill:#ff0000; stroke:none; fill-opacity:1\" cx=\"392.136\" cy=\"479.184\" r=\"7\"/>\n",
       "<circle clip-path=\"url(#clip1403)\" style=\"fill:#000000; stroke:none; fill-opacity:1\" cx=\"413.105\" cy=\"499.299\" r=\"10\"/>\n",
       "<circle clip-path=\"url(#clip1403)\" style=\"fill:#ff0000; stroke:none; fill-opacity:1\" cx=\"413.105\" cy=\"499.299\" r=\"7\"/>\n",
       "<circle clip-path=\"url(#clip1403)\" style=\"fill:#000000; stroke:none; fill-opacity:1\" cx=\"434.074\" cy=\"519.891\" r=\"10\"/>\n",
       "<circle clip-path=\"url(#clip1403)\" style=\"fill:#ff0000; stroke:none; fill-opacity:1\" cx=\"434.074\" cy=\"519.891\" r=\"7\"/>\n",
       "<circle clip-path=\"url(#clip1403)\" style=\"fill:#000000; stroke:none; fill-opacity:1\" cx=\"455.042\" cy=\"540.929\" r=\"10\"/>\n",
       "<circle clip-path=\"url(#clip1403)\" style=\"fill:#ff0000; stroke:none; fill-opacity:1\" cx=\"455.042\" cy=\"540.929\" r=\"7\"/>\n",
       "<circle clip-path=\"url(#clip1403)\" style=\"fill:#000000; stroke:none; fill-opacity:1\" cx=\"476.011\" cy=\"562.38\" r=\"10\"/>\n",
       "<circle clip-path=\"url(#clip1403)\" style=\"fill:#ff0000; stroke:none; fill-opacity:1\" cx=\"476.011\" cy=\"562.38\" r=\"7\"/>\n",
       "<circle clip-path=\"url(#clip1403)\" style=\"fill:#000000; stroke:none; fill-opacity:1\" cx=\"496.98\" cy=\"584.206\" r=\"10\"/>\n",
       "<circle clip-path=\"url(#clip1403)\" style=\"fill:#ff0000; stroke:none; fill-opacity:1\" cx=\"496.98\" cy=\"584.206\" r=\"7\"/>\n",
       "<circle clip-path=\"url(#clip1403)\" style=\"fill:#000000; stroke:none; fill-opacity:1\" cx=\"517.948\" cy=\"606.368\" r=\"10\"/>\n",
       "<circle clip-path=\"url(#clip1403)\" style=\"fill:#ff0000; stroke:none; fill-opacity:1\" cx=\"517.948\" cy=\"606.368\" r=\"7\"/>\n",
       "<circle clip-path=\"url(#clip1403)\" style=\"fill:#000000; stroke:none; fill-opacity:1\" cx=\"538.917\" cy=\"628.823\" r=\"10\"/>\n",
       "<circle clip-path=\"url(#clip1403)\" style=\"fill:#ff0000; stroke:none; fill-opacity:1\" cx=\"538.917\" cy=\"628.823\" r=\"7\"/>\n",
       "<circle clip-path=\"url(#clip1403)\" style=\"fill:#000000; stroke:none; fill-opacity:1\" cx=\"559.886\" cy=\"651.527\" r=\"10\"/>\n",
       "<circle clip-path=\"url(#clip1403)\" style=\"fill:#ff0000; stroke:none; fill-opacity:1\" cx=\"559.886\" cy=\"651.527\" r=\"7\"/>\n",
       "<circle clip-path=\"url(#clip1403)\" style=\"fill:#000000; stroke:none; fill-opacity:1\" cx=\"580.855\" cy=\"674.433\" r=\"10\"/>\n",
       "<circle clip-path=\"url(#clip1403)\" style=\"fill:#ff0000; stroke:none; fill-opacity:1\" cx=\"580.855\" cy=\"674.433\" r=\"7\"/>\n",
       "<circle clip-path=\"url(#clip1403)\" style=\"fill:#000000; stroke:none; fill-opacity:1\" cx=\"601.823\" cy=\"697.491\" r=\"10\"/>\n",
       "<circle clip-path=\"url(#clip1403)\" style=\"fill:#ff0000; stroke:none; fill-opacity:1\" cx=\"601.823\" cy=\"697.491\" r=\"7\"/>\n",
       "<circle clip-path=\"url(#clip1403)\" style=\"fill:#000000; stroke:none; fill-opacity:1\" cx=\"622.792\" cy=\"720.651\" r=\"10\"/>\n",
       "<circle clip-path=\"url(#clip1403)\" style=\"fill:#ff0000; stroke:none; fill-opacity:1\" cx=\"622.792\" cy=\"720.651\" r=\"7\"/>\n",
       "<circle clip-path=\"url(#clip1403)\" style=\"fill:#000000; stroke:none; fill-opacity:1\" cx=\"643.761\" cy=\"743.863\" r=\"10\"/>\n",
       "<circle clip-path=\"url(#clip1403)\" style=\"fill:#ff0000; stroke:none; fill-opacity:1\" cx=\"643.761\" cy=\"743.863\" r=\"7\"/>\n",
       "<circle clip-path=\"url(#clip1403)\" style=\"fill:#000000; stroke:none; fill-opacity:1\" cx=\"664.73\" cy=\"767.075\" r=\"10\"/>\n",
       "<circle clip-path=\"url(#clip1403)\" style=\"fill:#ff0000; stroke:none; fill-opacity:1\" cx=\"664.73\" cy=\"767.075\" r=\"7\"/>\n",
       "<circle clip-path=\"url(#clip1403)\" style=\"fill:#000000; stroke:none; fill-opacity:1\" cx=\"685.698\" cy=\"790.236\" r=\"10\"/>\n",
       "<circle clip-path=\"url(#clip1403)\" style=\"fill:#ff0000; stroke:none; fill-opacity:1\" cx=\"685.698\" cy=\"790.236\" r=\"7\"/>\n",
       "<circle clip-path=\"url(#clip1403)\" style=\"fill:#000000; stroke:none; fill-opacity:1\" cx=\"706.667\" cy=\"813.294\" r=\"10\"/>\n",
       "<circle clip-path=\"url(#clip1403)\" style=\"fill:#ff0000; stroke:none; fill-opacity:1\" cx=\"706.667\" cy=\"813.294\" r=\"7\"/>\n",
       "<circle clip-path=\"url(#clip1403)\" style=\"fill:#000000; stroke:none; fill-opacity:1\" cx=\"727.636\" cy=\"836.199\" r=\"10\"/>\n",
       "<circle clip-path=\"url(#clip1403)\" style=\"fill:#ff0000; stroke:none; fill-opacity:1\" cx=\"727.636\" cy=\"836.199\" r=\"7\"/>\n",
       "<circle clip-path=\"url(#clip1403)\" style=\"fill:#000000; stroke:none; fill-opacity:1\" cx=\"748.605\" cy=\"858.903\" r=\"10\"/>\n",
       "<circle clip-path=\"url(#clip1403)\" style=\"fill:#ff0000; stroke:none; fill-opacity:1\" cx=\"748.605\" cy=\"858.903\" r=\"7\"/>\n",
       "<circle clip-path=\"url(#clip1403)\" style=\"fill:#000000; stroke:none; fill-opacity:1\" cx=\"769.573\" cy=\"881.359\" r=\"10\"/>\n",
       "<circle clip-path=\"url(#clip1403)\" style=\"fill:#ff0000; stroke:none; fill-opacity:1\" cx=\"769.573\" cy=\"881.359\" r=\"7\"/>\n",
       "<circle clip-path=\"url(#clip1403)\" style=\"fill:#000000; stroke:none; fill-opacity:1\" cx=\"790.542\" cy=\"903.521\" r=\"10\"/>\n",
       "<circle clip-path=\"url(#clip1403)\" style=\"fill:#ff0000; stroke:none; fill-opacity:1\" cx=\"790.542\" cy=\"903.521\" r=\"7\"/>\n",
       "<circle clip-path=\"url(#clip1403)\" style=\"fill:#000000; stroke:none; fill-opacity:1\" cx=\"811.511\" cy=\"925.347\" r=\"10\"/>\n",
       "<circle clip-path=\"url(#clip1403)\" style=\"fill:#ff0000; stroke:none; fill-opacity:1\" cx=\"811.511\" cy=\"925.347\" r=\"7\"/>\n",
       "<circle clip-path=\"url(#clip1403)\" style=\"fill:#000000; stroke:none; fill-opacity:1\" cx=\"832.48\" cy=\"946.797\" r=\"10\"/>\n",
       "<circle clip-path=\"url(#clip1403)\" style=\"fill:#ff0000; stroke:none; fill-opacity:1\" cx=\"832.48\" cy=\"946.797\" r=\"7\"/>\n",
       "<circle clip-path=\"url(#clip1403)\" style=\"fill:#000000; stroke:none; fill-opacity:1\" cx=\"853.448\" cy=\"967.835\" r=\"10\"/>\n",
       "<circle clip-path=\"url(#clip1403)\" style=\"fill:#ff0000; stroke:none; fill-opacity:1\" cx=\"853.448\" cy=\"967.835\" r=\"7\"/>\n",
       "<circle clip-path=\"url(#clip1403)\" style=\"fill:#000000; stroke:none; fill-opacity:1\" cx=\"874.417\" cy=\"988.427\" r=\"10\"/>\n",
       "<circle clip-path=\"url(#clip1403)\" style=\"fill:#ff0000; stroke:none; fill-opacity:1\" cx=\"874.417\" cy=\"988.427\" r=\"7\"/>\n",
       "<circle clip-path=\"url(#clip1403)\" style=\"fill:#000000; stroke:none; fill-opacity:1\" cx=\"895.386\" cy=\"1008.54\" r=\"10\"/>\n",
       "<circle clip-path=\"url(#clip1403)\" style=\"fill:#ff0000; stroke:none; fill-opacity:1\" cx=\"895.386\" cy=\"1008.54\" r=\"7\"/>\n",
       "<circle clip-path=\"url(#clip1403)\" style=\"fill:#000000; stroke:none; fill-opacity:1\" cx=\"916.354\" cy=\"1028.16\" r=\"10\"/>\n",
       "<circle clip-path=\"url(#clip1403)\" style=\"fill:#ff0000; stroke:none; fill-opacity:1\" cx=\"916.354\" cy=\"1028.16\" r=\"7\"/>\n",
       "<circle clip-path=\"url(#clip1403)\" style=\"fill:#000000; stroke:none; fill-opacity:1\" cx=\"937.323\" cy=\"1047.24\" r=\"10\"/>\n",
       "<circle clip-path=\"url(#clip1403)\" style=\"fill:#ff0000; stroke:none; fill-opacity:1\" cx=\"937.323\" cy=\"1047.24\" r=\"7\"/>\n",
       "<circle clip-path=\"url(#clip1403)\" style=\"fill:#000000; stroke:none; fill-opacity:1\" cx=\"958.292\" cy=\"1065.78\" r=\"10\"/>\n",
       "<circle clip-path=\"url(#clip1403)\" style=\"fill:#ff0000; stroke:none; fill-opacity:1\" cx=\"958.292\" cy=\"1065.78\" r=\"7\"/>\n",
       "<circle clip-path=\"url(#clip1403)\" style=\"fill:#000000; stroke:none; fill-opacity:1\" cx=\"979.261\" cy=\"1083.76\" r=\"10\"/>\n",
       "<circle clip-path=\"url(#clip1403)\" style=\"fill:#ff0000; stroke:none; fill-opacity:1\" cx=\"979.261\" cy=\"1083.76\" r=\"7\"/>\n",
       "<circle clip-path=\"url(#clip1403)\" style=\"fill:#000000; stroke:none; fill-opacity:1\" cx=\"1000.23\" cy=\"1101.16\" r=\"10\"/>\n",
       "<circle clip-path=\"url(#clip1403)\" style=\"fill:#ff0000; stroke:none; fill-opacity:1\" cx=\"1000.23\" cy=\"1101.16\" r=\"7\"/>\n",
       "<circle clip-path=\"url(#clip1403)\" style=\"fill:#000000; stroke:none; fill-opacity:1\" cx=\"1021.2\" cy=\"1117.98\" r=\"10\"/>\n",
       "<circle clip-path=\"url(#clip1403)\" style=\"fill:#ff0000; stroke:none; fill-opacity:1\" cx=\"1021.2\" cy=\"1117.98\" r=\"7\"/>\n",
       "<circle clip-path=\"url(#clip1403)\" style=\"fill:#000000; stroke:none; fill-opacity:1\" cx=\"1042.17\" cy=\"1134.21\" r=\"10\"/>\n",
       "<circle clip-path=\"url(#clip1403)\" style=\"fill:#ff0000; stroke:none; fill-opacity:1\" cx=\"1042.17\" cy=\"1134.21\" r=\"7\"/>\n",
       "<circle clip-path=\"url(#clip1403)\" style=\"fill:#000000; stroke:none; fill-opacity:1\" cx=\"1063.14\" cy=\"1149.84\" r=\"10\"/>\n",
       "<circle clip-path=\"url(#clip1403)\" style=\"fill:#ff0000; stroke:none; fill-opacity:1\" cx=\"1063.14\" cy=\"1149.84\" r=\"7\"/>\n",
       "<circle clip-path=\"url(#clip1403)\" style=\"fill:#000000; stroke:none; fill-opacity:1\" cx=\"1084.1\" cy=\"1164.88\" r=\"10\"/>\n",
       "<circle clip-path=\"url(#clip1403)\" style=\"fill:#ff0000; stroke:none; fill-opacity:1\" cx=\"1084.1\" cy=\"1164.88\" r=\"7\"/>\n",
       "<circle clip-path=\"url(#clip1403)\" style=\"fill:#000000; stroke:none; fill-opacity:1\" cx=\"1105.07\" cy=\"1179.32\" r=\"10\"/>\n",
       "<circle clip-path=\"url(#clip1403)\" style=\"fill:#ff0000; stroke:none; fill-opacity:1\" cx=\"1105.07\" cy=\"1179.32\" r=\"7\"/>\n",
       "<circle clip-path=\"url(#clip1403)\" style=\"fill:#000000; stroke:none; fill-opacity:1\" cx=\"1126.04\" cy=\"1193.17\" r=\"10\"/>\n",
       "<circle clip-path=\"url(#clip1403)\" style=\"fill:#ff0000; stroke:none; fill-opacity:1\" cx=\"1126.04\" cy=\"1193.17\" r=\"7\"/>\n",
       "<circle clip-path=\"url(#clip1403)\" style=\"fill:#000000; stroke:none; fill-opacity:1\" cx=\"1147.01\" cy=\"1206.44\" r=\"10\"/>\n",
       "<circle clip-path=\"url(#clip1403)\" style=\"fill:#ff0000; stroke:none; fill-opacity:1\" cx=\"1147.01\" cy=\"1206.44\" r=\"7\"/>\n",
       "<circle clip-path=\"url(#clip1403)\" style=\"fill:#000000; stroke:none; fill-opacity:1\" cx=\"1167.98\" cy=\"1219.14\" r=\"10\"/>\n",
       "<circle clip-path=\"url(#clip1403)\" style=\"fill:#ff0000; stroke:none; fill-opacity:1\" cx=\"1167.98\" cy=\"1219.14\" r=\"7\"/>\n",
       "<circle clip-path=\"url(#clip1403)\" style=\"fill:#000000; stroke:none; fill-opacity:1\" cx=\"1188.95\" cy=\"1231.27\" r=\"10\"/>\n",
       "<circle clip-path=\"url(#clip1403)\" style=\"fill:#ff0000; stroke:none; fill-opacity:1\" cx=\"1188.95\" cy=\"1231.27\" r=\"7\"/>\n",
       "<circle clip-path=\"url(#clip1403)\" style=\"fill:#000000; stroke:none; fill-opacity:1\" cx=\"1209.92\" cy=\"1242.85\" r=\"10\"/>\n",
       "<circle clip-path=\"url(#clip1403)\" style=\"fill:#ff0000; stroke:none; fill-opacity:1\" cx=\"1209.92\" cy=\"1242.85\" r=\"7\"/>\n",
       "<circle clip-path=\"url(#clip1403)\" style=\"fill:#000000; stroke:none; fill-opacity:1\" cx=\"1230.89\" cy=\"1253.89\" r=\"10\"/>\n",
       "<circle clip-path=\"url(#clip1403)\" style=\"fill:#ff0000; stroke:none; fill-opacity:1\" cx=\"1230.89\" cy=\"1253.89\" r=\"7\"/>\n",
       "<circle clip-path=\"url(#clip1403)\" style=\"fill:#000000; stroke:none; fill-opacity:1\" cx=\"1251.85\" cy=\"1264.4\" r=\"10\"/>\n",
       "<circle clip-path=\"url(#clip1403)\" style=\"fill:#ff0000; stroke:none; fill-opacity:1\" cx=\"1251.85\" cy=\"1264.4\" r=\"7\"/>\n",
       "<circle clip-path=\"url(#clip1403)\" style=\"fill:#000000; stroke:none; fill-opacity:1\" cx=\"1272.82\" cy=\"1274.4\" r=\"10\"/>\n",
       "<circle clip-path=\"url(#clip1403)\" style=\"fill:#ff0000; stroke:none; fill-opacity:1\" cx=\"1272.82\" cy=\"1274.4\" r=\"7\"/>\n",
       "<circle clip-path=\"url(#clip1403)\" style=\"fill:#000000; stroke:none; fill-opacity:1\" cx=\"1293.79\" cy=\"1283.91\" r=\"10\"/>\n",
       "<circle clip-path=\"url(#clip1403)\" style=\"fill:#ff0000; stroke:none; fill-opacity:1\" cx=\"1293.79\" cy=\"1283.91\" r=\"7\"/>\n",
       "<circle clip-path=\"url(#clip1403)\" style=\"fill:#000000; stroke:none; fill-opacity:1\" cx=\"1314.76\" cy=\"1292.94\" r=\"10\"/>\n",
       "<circle clip-path=\"url(#clip1403)\" style=\"fill:#ff0000; stroke:none; fill-opacity:1\" cx=\"1314.76\" cy=\"1292.94\" r=\"7\"/>\n",
       "<circle clip-path=\"url(#clip1403)\" style=\"fill:#000000; stroke:none; fill-opacity:1\" cx=\"1335.73\" cy=\"1301.51\" r=\"10\"/>\n",
       "<circle clip-path=\"url(#clip1403)\" style=\"fill:#ff0000; stroke:none; fill-opacity:1\" cx=\"1335.73\" cy=\"1301.51\" r=\"7\"/>\n",
       "<circle clip-path=\"url(#clip1403)\" style=\"fill:#000000; stroke:none; fill-opacity:1\" cx=\"1356.7\" cy=\"1309.63\" r=\"10\"/>\n",
       "<circle clip-path=\"url(#clip1403)\" style=\"fill:#ff0000; stroke:none; fill-opacity:1\" cx=\"1356.7\" cy=\"1309.63\" r=\"7\"/>\n",
       "<circle clip-path=\"url(#clip1403)\" style=\"fill:#000000; stroke:none; fill-opacity:1\" cx=\"1377.67\" cy=\"1317.32\" r=\"10\"/>\n",
       "<circle clip-path=\"url(#clip1403)\" style=\"fill:#ff0000; stroke:none; fill-opacity:1\" cx=\"1377.67\" cy=\"1317.32\" r=\"7\"/>\n",
       "<circle clip-path=\"url(#clip1403)\" style=\"fill:#000000; stroke:none; fill-opacity:1\" cx=\"1398.64\" cy=\"1324.6\" r=\"10\"/>\n",
       "<circle clip-path=\"url(#clip1403)\" style=\"fill:#ff0000; stroke:none; fill-opacity:1\" cx=\"1398.64\" cy=\"1324.6\" r=\"7\"/>\n",
       "<circle clip-path=\"url(#clip1403)\" style=\"fill:#000000; stroke:none; fill-opacity:1\" cx=\"1419.6\" cy=\"1331.49\" r=\"10\"/>\n",
       "<circle clip-path=\"url(#clip1403)\" style=\"fill:#ff0000; stroke:none; fill-opacity:1\" cx=\"1419.6\" cy=\"1331.49\" r=\"7\"/>\n",
       "<circle clip-path=\"url(#clip1403)\" style=\"fill:#000000; stroke:none; fill-opacity:1\" cx=\"1440.57\" cy=\"1338\" r=\"10\"/>\n",
       "<circle clip-path=\"url(#clip1403)\" style=\"fill:#ff0000; stroke:none; fill-opacity:1\" cx=\"1440.57\" cy=\"1338\" r=\"7\"/>\n",
       "<circle clip-path=\"url(#clip1403)\" style=\"fill:#000000; stroke:none; fill-opacity:1\" cx=\"1461.54\" cy=\"1344.16\" r=\"10\"/>\n",
       "<circle clip-path=\"url(#clip1403)\" style=\"fill:#ff0000; stroke:none; fill-opacity:1\" cx=\"1461.54\" cy=\"1344.16\" r=\"7\"/>\n",
       "<circle clip-path=\"url(#clip1403)\" style=\"fill:#000000; stroke:none; fill-opacity:1\" cx=\"1482.51\" cy=\"1349.97\" r=\"10\"/>\n",
       "<circle clip-path=\"url(#clip1403)\" style=\"fill:#ff0000; stroke:none; fill-opacity:1\" cx=\"1482.51\" cy=\"1349.97\" r=\"7\"/>\n",
       "<circle clip-path=\"url(#clip1403)\" style=\"fill:#000000; stroke:none; fill-opacity:1\" cx=\"1503.48\" cy=\"1355.45\" r=\"10\"/>\n",
       "<circle clip-path=\"url(#clip1403)\" style=\"fill:#ff0000; stroke:none; fill-opacity:1\" cx=\"1503.48\" cy=\"1355.45\" r=\"7\"/>\n",
       "<circle clip-path=\"url(#clip1403)\" style=\"fill:#000000; stroke:none; fill-opacity:1\" cx=\"1524.45\" cy=\"1360.62\" r=\"10\"/>\n",
       "<circle clip-path=\"url(#clip1403)\" style=\"fill:#ff0000; stroke:none; fill-opacity:1\" cx=\"1524.45\" cy=\"1360.62\" r=\"7\"/>\n",
       "<circle clip-path=\"url(#clip1403)\" style=\"fill:#000000; stroke:none; fill-opacity:1\" cx=\"1545.42\" cy=\"1365.49\" r=\"10\"/>\n",
       "<circle clip-path=\"url(#clip1403)\" style=\"fill:#ff0000; stroke:none; fill-opacity:1\" cx=\"1545.42\" cy=\"1365.49\" r=\"7\"/>\n",
       "<circle clip-path=\"url(#clip1403)\" style=\"fill:#000000; stroke:none; fill-opacity:1\" cx=\"1566.39\" cy=\"1370.08\" r=\"10\"/>\n",
       "<circle clip-path=\"url(#clip1403)\" style=\"fill:#ff0000; stroke:none; fill-opacity:1\" cx=\"1566.39\" cy=\"1370.08\" r=\"7\"/>\n",
       "<circle clip-path=\"url(#clip1403)\" style=\"fill:#000000; stroke:none; fill-opacity:1\" cx=\"1587.35\" cy=\"1374.41\" r=\"10\"/>\n",
       "<circle clip-path=\"url(#clip1403)\" style=\"fill:#ff0000; stroke:none; fill-opacity:1\" cx=\"1587.35\" cy=\"1374.41\" r=\"7\"/>\n",
       "<circle clip-path=\"url(#clip1403)\" style=\"fill:#000000; stroke:none; fill-opacity:1\" cx=\"1608.32\" cy=\"1378.48\" r=\"10\"/>\n",
       "<circle clip-path=\"url(#clip1403)\" style=\"fill:#ff0000; stroke:none; fill-opacity:1\" cx=\"1608.32\" cy=\"1378.48\" r=\"7\"/>\n",
       "<circle clip-path=\"url(#clip1403)\" style=\"fill:#000000; stroke:none; fill-opacity:1\" cx=\"1629.29\" cy=\"1382.31\" r=\"10\"/>\n",
       "<circle clip-path=\"url(#clip1403)\" style=\"fill:#ff0000; stroke:none; fill-opacity:1\" cx=\"1629.29\" cy=\"1382.31\" r=\"7\"/>\n",
       "<circle clip-path=\"url(#clip1403)\" style=\"fill:#000000; stroke:none; fill-opacity:1\" cx=\"1650.26\" cy=\"1385.92\" r=\"10\"/>\n",
       "<circle clip-path=\"url(#clip1403)\" style=\"fill:#ff0000; stroke:none; fill-opacity:1\" cx=\"1650.26\" cy=\"1385.92\" r=\"7\"/>\n",
       "<circle clip-path=\"url(#clip1403)\" style=\"fill:#000000; stroke:none; fill-opacity:1\" cx=\"1671.23\" cy=\"1389.31\" r=\"10\"/>\n",
       "<circle clip-path=\"url(#clip1403)\" style=\"fill:#ff0000; stroke:none; fill-opacity:1\" cx=\"1671.23\" cy=\"1389.31\" r=\"7\"/>\n",
       "<circle clip-path=\"url(#clip1403)\" style=\"fill:#000000; stroke:none; fill-opacity:1\" cx=\"1692.2\" cy=\"1392.49\" r=\"10\"/>\n",
       "<circle clip-path=\"url(#clip1403)\" style=\"fill:#ff0000; stroke:none; fill-opacity:1\" cx=\"1692.2\" cy=\"1392.49\" r=\"7\"/>\n",
       "<circle clip-path=\"url(#clip1403)\" style=\"fill:#000000; stroke:none; fill-opacity:1\" cx=\"1713.17\" cy=\"1395.49\" r=\"10\"/>\n",
       "<circle clip-path=\"url(#clip1403)\" style=\"fill:#ff0000; stroke:none; fill-opacity:1\" cx=\"1713.17\" cy=\"1395.49\" r=\"7\"/>\n",
       "<circle clip-path=\"url(#clip1403)\" style=\"fill:#000000; stroke:none; fill-opacity:1\" cx=\"1734.14\" cy=\"1398.3\" r=\"10\"/>\n",
       "<circle clip-path=\"url(#clip1403)\" style=\"fill:#ff0000; stroke:none; fill-opacity:1\" cx=\"1734.14\" cy=\"1398.3\" r=\"7\"/>\n",
       "<circle clip-path=\"url(#clip1403)\" style=\"fill:#000000; stroke:none; fill-opacity:1\" cx=\"1755.1\" cy=\"1400.94\" r=\"10\"/>\n",
       "<circle clip-path=\"url(#clip1403)\" style=\"fill:#ff0000; stroke:none; fill-opacity:1\" cx=\"1755.1\" cy=\"1400.94\" r=\"7\"/>\n",
       "<circle clip-path=\"url(#clip1403)\" style=\"fill:#000000; stroke:none; fill-opacity:1\" cx=\"1776.07\" cy=\"1403.43\" r=\"10\"/>\n",
       "<circle clip-path=\"url(#clip1403)\" style=\"fill:#ff0000; stroke:none; fill-opacity:1\" cx=\"1776.07\" cy=\"1403.43\" r=\"7\"/>\n",
       "<circle clip-path=\"url(#clip1403)\" style=\"fill:#000000; stroke:none; fill-opacity:1\" cx=\"1797.04\" cy=\"1405.76\" r=\"10\"/>\n",
       "<circle clip-path=\"url(#clip1403)\" style=\"fill:#ff0000; stroke:none; fill-opacity:1\" cx=\"1797.04\" cy=\"1405.76\" r=\"7\"/>\n",
       "<circle clip-path=\"url(#clip1403)\" style=\"fill:#000000; stroke:none; fill-opacity:1\" cx=\"1818.01\" cy=\"1407.94\" r=\"10\"/>\n",
       "<circle clip-path=\"url(#clip1403)\" style=\"fill:#ff0000; stroke:none; fill-opacity:1\" cx=\"1818.01\" cy=\"1407.94\" r=\"7\"/>\n",
       "<circle clip-path=\"url(#clip1403)\" style=\"fill:#000000; stroke:none; fill-opacity:1\" cx=\"1838.98\" cy=\"1410\" r=\"10\"/>\n",
       "<circle clip-path=\"url(#clip1403)\" style=\"fill:#ff0000; stroke:none; fill-opacity:1\" cx=\"1838.98\" cy=\"1410\" r=\"7\"/>\n",
       "<circle clip-path=\"url(#clip1403)\" style=\"fill:#000000; stroke:none; fill-opacity:1\" cx=\"1859.95\" cy=\"1411.92\" r=\"10\"/>\n",
       "<circle clip-path=\"url(#clip1403)\" style=\"fill:#ff0000; stroke:none; fill-opacity:1\" cx=\"1859.95\" cy=\"1411.92\" r=\"7\"/>\n",
       "<circle clip-path=\"url(#clip1403)\" style=\"fill:#000000; stroke:none; fill-opacity:1\" cx=\"1880.92\" cy=\"1413.73\" r=\"10\"/>\n",
       "<circle clip-path=\"url(#clip1403)\" style=\"fill:#ff0000; stroke:none; fill-opacity:1\" cx=\"1880.92\" cy=\"1413.73\" r=\"7\"/>\n",
       "<circle clip-path=\"url(#clip1403)\" style=\"fill:#000000; stroke:none; fill-opacity:1\" cx=\"1901.89\" cy=\"1415.42\" r=\"10\"/>\n",
       "<circle clip-path=\"url(#clip1403)\" style=\"fill:#ff0000; stroke:none; fill-opacity:1\" cx=\"1901.89\" cy=\"1415.42\" r=\"7\"/>\n",
       "<circle clip-path=\"url(#clip1403)\" style=\"fill:#000000; stroke:none; fill-opacity:1\" cx=\"1922.85\" cy=\"1417.01\" r=\"10\"/>\n",
       "<circle clip-path=\"url(#clip1403)\" style=\"fill:#ff0000; stroke:none; fill-opacity:1\" cx=\"1922.85\" cy=\"1417.01\" r=\"7\"/>\n",
       "<circle clip-path=\"url(#clip1403)\" style=\"fill:#000000; stroke:none; fill-opacity:1\" cx=\"1943.82\" cy=\"1418.5\" r=\"10\"/>\n",
       "<circle clip-path=\"url(#clip1403)\" style=\"fill:#ff0000; stroke:none; fill-opacity:1\" cx=\"1943.82\" cy=\"1418.5\" r=\"7\"/>\n",
       "<circle clip-path=\"url(#clip1403)\" style=\"fill:#000000; stroke:none; fill-opacity:1\" cx=\"1964.79\" cy=\"1419.9\" r=\"10\"/>\n",
       "<circle clip-path=\"url(#clip1403)\" style=\"fill:#ff0000; stroke:none; fill-opacity:1\" cx=\"1964.79\" cy=\"1419.9\" r=\"7\"/>\n",
       "<circle clip-path=\"url(#clip1403)\" style=\"fill:#000000; stroke:none; fill-opacity:1\" cx=\"1985.76\" cy=\"1421.21\" r=\"10\"/>\n",
       "<circle clip-path=\"url(#clip1403)\" style=\"fill:#ff0000; stroke:none; fill-opacity:1\" cx=\"1985.76\" cy=\"1421.21\" r=\"7\"/>\n",
       "<circle clip-path=\"url(#clip1403)\" style=\"fill:#000000; stroke:none; fill-opacity:1\" cx=\"2006.73\" cy=\"1422.43\" r=\"10\"/>\n",
       "<circle clip-path=\"url(#clip1403)\" style=\"fill:#ff0000; stroke:none; fill-opacity:1\" cx=\"2006.73\" cy=\"1422.43\" r=\"7\"/>\n",
       "<circle clip-path=\"url(#clip1403)\" style=\"fill:#000000; stroke:none; fill-opacity:1\" cx=\"2027.7\" cy=\"1423.58\" r=\"10\"/>\n",
       "<circle clip-path=\"url(#clip1403)\" style=\"fill:#ff0000; stroke:none; fill-opacity:1\" cx=\"2027.7\" cy=\"1423.58\" r=\"7\"/>\n",
       "<circle clip-path=\"url(#clip1403)\" style=\"fill:#000000; stroke:none; fill-opacity:1\" cx=\"2048.67\" cy=\"1424.66\" r=\"10\"/>\n",
       "<circle clip-path=\"url(#clip1403)\" style=\"fill:#ff0000; stroke:none; fill-opacity:1\" cx=\"2048.67\" cy=\"1424.66\" r=\"7\"/>\n",
       "<circle clip-path=\"url(#clip1403)\" style=\"fill:#000000; stroke:none; fill-opacity:1\" cx=\"2069.64\" cy=\"1425.67\" r=\"10\"/>\n",
       "<circle clip-path=\"url(#clip1403)\" style=\"fill:#ff0000; stroke:none; fill-opacity:1\" cx=\"2069.64\" cy=\"1425.67\" r=\"7\"/>\n",
       "<circle clip-path=\"url(#clip1403)\" style=\"fill:#000000; stroke:none; fill-opacity:1\" cx=\"2090.6\" cy=\"1426.62\" r=\"10\"/>\n",
       "<circle clip-path=\"url(#clip1403)\" style=\"fill:#ff0000; stroke:none; fill-opacity:1\" cx=\"2090.6\" cy=\"1426.62\" r=\"7\"/>\n",
       "<circle clip-path=\"url(#clip1403)\" style=\"fill:#000000; stroke:none; fill-opacity:1\" cx=\"2111.57\" cy=\"1427.5\" r=\"10\"/>\n",
       "<circle clip-path=\"url(#clip1403)\" style=\"fill:#ff0000; stroke:none; fill-opacity:1\" cx=\"2111.57\" cy=\"1427.5\" r=\"7\"/>\n",
       "<circle clip-path=\"url(#clip1403)\" style=\"fill:#000000; stroke:none; fill-opacity:1\" cx=\"2132.54\" cy=\"1428.33\" r=\"10\"/>\n",
       "<circle clip-path=\"url(#clip1403)\" style=\"fill:#ff0000; stroke:none; fill-opacity:1\" cx=\"2132.54\" cy=\"1428.33\" r=\"7\"/>\n",
       "<circle clip-path=\"url(#clip1403)\" style=\"fill:#000000; stroke:none; fill-opacity:1\" cx=\"2153.51\" cy=\"1429.11\" r=\"10\"/>\n",
       "<circle clip-path=\"url(#clip1403)\" style=\"fill:#ff0000; stroke:none; fill-opacity:1\" cx=\"2153.51\" cy=\"1429.11\" r=\"7\"/>\n",
       "<circle clip-path=\"url(#clip1403)\" style=\"fill:#000000; stroke:none; fill-opacity:1\" cx=\"2174.48\" cy=\"1429.84\" r=\"10\"/>\n",
       "<circle clip-path=\"url(#clip1403)\" style=\"fill:#ff0000; stroke:none; fill-opacity:1\" cx=\"2174.48\" cy=\"1429.84\" r=\"7\"/>\n",
       "<circle clip-path=\"url(#clip1403)\" style=\"fill:#000000; stroke:none; fill-opacity:1\" cx=\"2195.45\" cy=\"1430.52\" r=\"10\"/>\n",
       "<circle clip-path=\"url(#clip1403)\" style=\"fill:#ff0000; stroke:none; fill-opacity:1\" cx=\"2195.45\" cy=\"1430.52\" r=\"7\"/>\n",
       "<circle clip-path=\"url(#clip1403)\" style=\"fill:#000000; stroke:none; fill-opacity:1\" cx=\"2216.42\" cy=\"1431.16\" r=\"10\"/>\n",
       "<circle clip-path=\"url(#clip1403)\" style=\"fill:#ff0000; stroke:none; fill-opacity:1\" cx=\"2216.42\" cy=\"1431.16\" r=\"7\"/>\n",
       "<circle clip-path=\"url(#clip1403)\" style=\"fill:#000000; stroke:none; fill-opacity:1\" cx=\"2237.38\" cy=\"1431.76\" r=\"10\"/>\n",
       "<circle clip-path=\"url(#clip1403)\" style=\"fill:#ff0000; stroke:none; fill-opacity:1\" cx=\"2237.38\" cy=\"1431.76\" r=\"7\"/>\n",
       "<circle clip-path=\"url(#clip1403)\" style=\"fill:#000000; stroke:none; fill-opacity:1\" cx=\"2258.35\" cy=\"1432.32\" r=\"10\"/>\n",
       "<circle clip-path=\"url(#clip1403)\" style=\"fill:#ff0000; stroke:none; fill-opacity:1\" cx=\"2258.35\" cy=\"1432.32\" r=\"7\"/>\n",
       "<circle clip-path=\"url(#clip1403)\" style=\"fill:#000000; stroke:none; fill-opacity:1\" cx=\"2279.32\" cy=\"1432.84\" r=\"10\"/>\n",
       "<circle clip-path=\"url(#clip1403)\" style=\"fill:#ff0000; stroke:none; fill-opacity:1\" cx=\"2279.32\" cy=\"1432.84\" r=\"7\"/>\n",
       "<circle clip-path=\"url(#clip1403)\" style=\"fill:#000000; stroke:none; fill-opacity:1\" cx=\"2300.29\" cy=\"1433.33\" r=\"10\"/>\n",
       "<circle clip-path=\"url(#clip1403)\" style=\"fill:#ff0000; stroke:none; fill-opacity:1\" cx=\"2300.29\" cy=\"1433.33\" r=\"7\"/>\n",
       "<circle clip-path=\"url(#clip1403)\" style=\"fill:#000000; stroke:none; fill-opacity:1\" cx=\"2321.26\" cy=\"1433.79\" r=\"10\"/>\n",
       "<circle clip-path=\"url(#clip1403)\" style=\"fill:#ff0000; stroke:none; fill-opacity:1\" cx=\"2321.26\" cy=\"1433.79\" r=\"7\"/>\n",
       "<circle clip-path=\"url(#clip1403)\" style=\"fill:#000000; stroke:none; fill-opacity:1\" cx=\"224.386\" cy=\"137.762\" r=\"10\"/>\n",
       "<circle clip-path=\"url(#clip1403)\" style=\"fill:#008000; stroke:none; fill-opacity:1\" cx=\"224.386\" cy=\"137.762\" r=\"7\"/>\n",
       "<circle clip-path=\"url(#clip1403)\" style=\"fill:#000000; stroke:none; fill-opacity:1\" cx=\"245.355\" cy=\"143.57\" r=\"10\"/>\n",
       "<circle clip-path=\"url(#clip1403)\" style=\"fill:#008000; stroke:none; fill-opacity:1\" cx=\"245.355\" cy=\"143.57\" r=\"7\"/>\n",
       "<circle clip-path=\"url(#clip1403)\" style=\"fill:#000000; stroke:none; fill-opacity:1\" cx=\"266.324\" cy=\"149.723\" r=\"10\"/>\n",
       "<circle clip-path=\"url(#clip1403)\" style=\"fill:#008000; stroke:none; fill-opacity:1\" cx=\"266.324\" cy=\"149.723\" r=\"7\"/>\n",
       "<circle clip-path=\"url(#clip1403)\" style=\"fill:#000000; stroke:none; fill-opacity:1\" cx=\"287.292\" cy=\"156.235\" r=\"10\"/>\n",
       "<circle clip-path=\"url(#clip1403)\" style=\"fill:#008000; stroke:none; fill-opacity:1\" cx=\"287.292\" cy=\"156.235\" r=\"7\"/>\n",
       "<circle clip-path=\"url(#clip1403)\" style=\"fill:#000000; stroke:none; fill-opacity:1\" cx=\"308.261\" cy=\"163.123\" r=\"10\"/>\n",
       "<circle clip-path=\"url(#clip1403)\" style=\"fill:#008000; stroke:none; fill-opacity:1\" cx=\"308.261\" cy=\"163.123\" r=\"7\"/>\n",
       "<circle clip-path=\"url(#clip1403)\" style=\"fill:#000000; stroke:none; fill-opacity:1\" cx=\"329.23\" cy=\"170.406\" r=\"10\"/>\n",
       "<circle clip-path=\"url(#clip1403)\" style=\"fill:#008000; stroke:none; fill-opacity:1\" cx=\"329.23\" cy=\"170.406\" r=\"7\"/>\n",
       "<circle clip-path=\"url(#clip1403)\" style=\"fill:#000000; stroke:none; fill-opacity:1\" cx=\"350.199\" cy=\"178.099\" r=\"10\"/>\n",
       "<circle clip-path=\"url(#clip1403)\" style=\"fill:#008000; stroke:none; fill-opacity:1\" cx=\"350.199\" cy=\"178.099\" r=\"7\"/>\n",
       "<circle clip-path=\"url(#clip1403)\" style=\"fill:#000000; stroke:none; fill-opacity:1\" cx=\"371.167\" cy=\"186.22\" r=\"10\"/>\n",
       "<circle clip-path=\"url(#clip1403)\" style=\"fill:#008000; stroke:none; fill-opacity:1\" cx=\"371.167\" cy=\"186.22\" r=\"7\"/>\n",
       "<circle clip-path=\"url(#clip1403)\" style=\"fill:#000000; stroke:none; fill-opacity:1\" cx=\"392.136\" cy=\"194.787\" r=\"10\"/>\n",
       "<circle clip-path=\"url(#clip1403)\" style=\"fill:#008000; stroke:none; fill-opacity:1\" cx=\"392.136\" cy=\"194.787\" r=\"7\"/>\n",
       "<circle clip-path=\"url(#clip1403)\" style=\"fill:#000000; stroke:none; fill-opacity:1\" cx=\"413.105\" cy=\"203.815\" r=\"10\"/>\n",
       "<circle clip-path=\"url(#clip1403)\" style=\"fill:#008000; stroke:none; fill-opacity:1\" cx=\"413.105\" cy=\"203.815\" r=\"7\"/>\n",
       "<circle clip-path=\"url(#clip1403)\" style=\"fill:#000000; stroke:none; fill-opacity:1\" cx=\"434.074\" cy=\"213.322\" r=\"10\"/>\n",
       "<circle clip-path=\"url(#clip1403)\" style=\"fill:#008000; stroke:none; fill-opacity:1\" cx=\"434.074\" cy=\"213.322\" r=\"7\"/>\n",
       "<circle clip-path=\"url(#clip1403)\" style=\"fill:#000000; stroke:none; fill-opacity:1\" cx=\"455.042\" cy=\"223.324\" r=\"10\"/>\n",
       "<circle clip-path=\"url(#clip1403)\" style=\"fill:#008000; stroke:none; fill-opacity:1\" cx=\"455.042\" cy=\"223.324\" r=\"7\"/>\n",
       "<circle clip-path=\"url(#clip1403)\" style=\"fill:#000000; stroke:none; fill-opacity:1\" cx=\"476.011\" cy=\"233.838\" r=\"10\"/>\n",
       "<circle clip-path=\"url(#clip1403)\" style=\"fill:#008000; stroke:none; fill-opacity:1\" cx=\"476.011\" cy=\"233.838\" r=\"7\"/>\n",
       "<circle clip-path=\"url(#clip1403)\" style=\"fill:#000000; stroke:none; fill-opacity:1\" cx=\"496.98\" cy=\"244.876\" r=\"10\"/>\n",
       "<circle clip-path=\"url(#clip1403)\" style=\"fill:#008000; stroke:none; fill-opacity:1\" cx=\"496.98\" cy=\"244.876\" r=\"7\"/>\n",
       "<circle clip-path=\"url(#clip1403)\" style=\"fill:#000000; stroke:none; fill-opacity:1\" cx=\"517.948\" cy=\"256.455\" r=\"10\"/>\n",
       "<circle clip-path=\"url(#clip1403)\" style=\"fill:#008000; stroke:none; fill-opacity:1\" cx=\"517.948\" cy=\"256.455\" r=\"7\"/>\n",
       "<circle clip-path=\"url(#clip1403)\" style=\"fill:#000000; stroke:none; fill-opacity:1\" cx=\"538.917\" cy=\"268.587\" r=\"10\"/>\n",
       "<circle clip-path=\"url(#clip1403)\" style=\"fill:#008000; stroke:none; fill-opacity:1\" cx=\"538.917\" cy=\"268.587\" r=\"7\"/>\n",
       "<circle clip-path=\"url(#clip1403)\" style=\"fill:#000000; stroke:none; fill-opacity:1\" cx=\"559.886\" cy=\"281.283\" r=\"10\"/>\n",
       "<circle clip-path=\"url(#clip1403)\" style=\"fill:#008000; stroke:none; fill-opacity:1\" cx=\"559.886\" cy=\"281.283\" r=\"7\"/>\n",
       "<circle clip-path=\"url(#clip1403)\" style=\"fill:#000000; stroke:none; fill-opacity:1\" cx=\"580.855\" cy=\"294.553\" r=\"10\"/>\n",
       "<circle clip-path=\"url(#clip1403)\" style=\"fill:#008000; stroke:none; fill-opacity:1\" cx=\"580.855\" cy=\"294.553\" r=\"7\"/>\n",
       "<circle clip-path=\"url(#clip1403)\" style=\"fill:#000000; stroke:none; fill-opacity:1\" cx=\"601.823\" cy=\"308.406\" r=\"10\"/>\n",
       "<circle clip-path=\"url(#clip1403)\" style=\"fill:#008000; stroke:none; fill-opacity:1\" cx=\"601.823\" cy=\"308.406\" r=\"7\"/>\n",
       "<circle clip-path=\"url(#clip1403)\" style=\"fill:#000000; stroke:none; fill-opacity:1\" cx=\"622.792\" cy=\"322.849\" r=\"10\"/>\n",
       "<circle clip-path=\"url(#clip1403)\" style=\"fill:#008000; stroke:none; fill-opacity:1\" cx=\"622.792\" cy=\"322.849\" r=\"7\"/>\n",
       "<circle clip-path=\"url(#clip1403)\" style=\"fill:#000000; stroke:none; fill-opacity:1\" cx=\"643.761\" cy=\"337.886\" r=\"10\"/>\n",
       "<circle clip-path=\"url(#clip1403)\" style=\"fill:#008000; stroke:none; fill-opacity:1\" cx=\"643.761\" cy=\"337.886\" r=\"7\"/>\n",
       "<circle clip-path=\"url(#clip1403)\" style=\"fill:#000000; stroke:none; fill-opacity:1\" cx=\"664.73\" cy=\"353.517\" r=\"10\"/>\n",
       "<circle clip-path=\"url(#clip1403)\" style=\"fill:#008000; stroke:none; fill-opacity:1\" cx=\"664.73\" cy=\"353.517\" r=\"7\"/>\n",
       "<circle clip-path=\"url(#clip1403)\" style=\"fill:#000000; stroke:none; fill-opacity:1\" cx=\"685.698\" cy=\"369.744\" r=\"10\"/>\n",
       "<circle clip-path=\"url(#clip1403)\" style=\"fill:#008000; stroke:none; fill-opacity:1\" cx=\"685.698\" cy=\"369.744\" r=\"7\"/>\n",
       "<circle clip-path=\"url(#clip1403)\" style=\"fill:#000000; stroke:none; fill-opacity:1\" cx=\"706.667\" cy=\"386.562\" r=\"10\"/>\n",
       "<circle clip-path=\"url(#clip1403)\" style=\"fill:#008000; stroke:none; fill-opacity:1\" cx=\"706.667\" cy=\"386.562\" r=\"7\"/>\n",
       "<circle clip-path=\"url(#clip1403)\" style=\"fill:#000000; stroke:none; fill-opacity:1\" cx=\"727.636\" cy=\"403.965\" r=\"10\"/>\n",
       "<circle clip-path=\"url(#clip1403)\" style=\"fill:#008000; stroke:none; fill-opacity:1\" cx=\"727.636\" cy=\"403.965\" r=\"7\"/>\n",
       "<circle clip-path=\"url(#clip1403)\" style=\"fill:#000000; stroke:none; fill-opacity:1\" cx=\"748.605\" cy=\"421.944\" r=\"10\"/>\n",
       "<circle clip-path=\"url(#clip1403)\" style=\"fill:#008000; stroke:none; fill-opacity:1\" cx=\"748.605\" cy=\"421.944\" r=\"7\"/>\n",
       "<circle clip-path=\"url(#clip1403)\" style=\"fill:#000000; stroke:none; fill-opacity:1\" cx=\"769.573\" cy=\"440.484\" r=\"10\"/>\n",
       "<circle clip-path=\"url(#clip1403)\" style=\"fill:#008000; stroke:none; fill-opacity:1\" cx=\"769.573\" cy=\"440.484\" r=\"7\"/>\n",
       "<circle clip-path=\"url(#clip1403)\" style=\"fill:#000000; stroke:none; fill-opacity:1\" cx=\"790.542\" cy=\"459.571\" r=\"10\"/>\n",
       "<circle clip-path=\"url(#clip1403)\" style=\"fill:#008000; stroke:none; fill-opacity:1\" cx=\"790.542\" cy=\"459.571\" r=\"7\"/>\n",
       "<circle clip-path=\"url(#clip1403)\" style=\"fill:#000000; stroke:none; fill-opacity:1\" cx=\"811.511\" cy=\"479.184\" r=\"10\"/>\n",
       "<circle clip-path=\"url(#clip1403)\" style=\"fill:#008000; stroke:none; fill-opacity:1\" cx=\"811.511\" cy=\"479.184\" r=\"7\"/>\n",
       "<circle clip-path=\"url(#clip1403)\" style=\"fill:#000000; stroke:none; fill-opacity:1\" cx=\"832.48\" cy=\"499.299\" r=\"10\"/>\n",
       "<circle clip-path=\"url(#clip1403)\" style=\"fill:#008000; stroke:none; fill-opacity:1\" cx=\"832.48\" cy=\"499.299\" r=\"7\"/>\n",
       "<circle clip-path=\"url(#clip1403)\" style=\"fill:#000000; stroke:none; fill-opacity:1\" cx=\"853.448\" cy=\"519.891\" r=\"10\"/>\n",
       "<circle clip-path=\"url(#clip1403)\" style=\"fill:#008000; stroke:none; fill-opacity:1\" cx=\"853.448\" cy=\"519.891\" r=\"7\"/>\n",
       "<circle clip-path=\"url(#clip1403)\" style=\"fill:#000000; stroke:none; fill-opacity:1\" cx=\"874.417\" cy=\"540.929\" r=\"10\"/>\n",
       "<circle clip-path=\"url(#clip1403)\" style=\"fill:#008000; stroke:none; fill-opacity:1\" cx=\"874.417\" cy=\"540.929\" r=\"7\"/>\n",
       "<circle clip-path=\"url(#clip1403)\" style=\"fill:#000000; stroke:none; fill-opacity:1\" cx=\"895.386\" cy=\"562.38\" r=\"10\"/>\n",
       "<circle clip-path=\"url(#clip1403)\" style=\"fill:#008000; stroke:none; fill-opacity:1\" cx=\"895.386\" cy=\"562.38\" r=\"7\"/>\n",
       "<circle clip-path=\"url(#clip1403)\" style=\"fill:#000000; stroke:none; fill-opacity:1\" cx=\"916.354\" cy=\"584.206\" r=\"10\"/>\n",
       "<circle clip-path=\"url(#clip1403)\" style=\"fill:#008000; stroke:none; fill-opacity:1\" cx=\"916.354\" cy=\"584.206\" r=\"7\"/>\n",
       "<circle clip-path=\"url(#clip1403)\" style=\"fill:#000000; stroke:none; fill-opacity:1\" cx=\"937.323\" cy=\"606.368\" r=\"10\"/>\n",
       "<circle clip-path=\"url(#clip1403)\" style=\"fill:#008000; stroke:none; fill-opacity:1\" cx=\"937.323\" cy=\"606.368\" r=\"7\"/>\n",
       "<circle clip-path=\"url(#clip1403)\" style=\"fill:#000000; stroke:none; fill-opacity:1\" cx=\"958.292\" cy=\"628.823\" r=\"10\"/>\n",
       "<circle clip-path=\"url(#clip1403)\" style=\"fill:#008000; stroke:none; fill-opacity:1\" cx=\"958.292\" cy=\"628.823\" r=\"7\"/>\n",
       "<circle clip-path=\"url(#clip1403)\" style=\"fill:#000000; stroke:none; fill-opacity:1\" cx=\"979.261\" cy=\"651.527\" r=\"10\"/>\n",
       "<circle clip-path=\"url(#clip1403)\" style=\"fill:#008000; stroke:none; fill-opacity:1\" cx=\"979.261\" cy=\"651.527\" r=\"7\"/>\n",
       "<circle clip-path=\"url(#clip1403)\" style=\"fill:#000000; stroke:none; fill-opacity:1\" cx=\"1000.23\" cy=\"674.433\" r=\"10\"/>\n",
       "<circle clip-path=\"url(#clip1403)\" style=\"fill:#008000; stroke:none; fill-opacity:1\" cx=\"1000.23\" cy=\"674.433\" r=\"7\"/>\n",
       "<circle clip-path=\"url(#clip1403)\" style=\"fill:#000000; stroke:none; fill-opacity:1\" cx=\"1021.2\" cy=\"697.491\" r=\"10\"/>\n",
       "<circle clip-path=\"url(#clip1403)\" style=\"fill:#008000; stroke:none; fill-opacity:1\" cx=\"1021.2\" cy=\"697.491\" r=\"7\"/>\n",
       "<circle clip-path=\"url(#clip1403)\" style=\"fill:#000000; stroke:none; fill-opacity:1\" cx=\"1042.17\" cy=\"720.651\" r=\"10\"/>\n",
       "<circle clip-path=\"url(#clip1403)\" style=\"fill:#008000; stroke:none; fill-opacity:1\" cx=\"1042.17\" cy=\"720.651\" r=\"7\"/>\n",
       "<circle clip-path=\"url(#clip1403)\" style=\"fill:#000000; stroke:none; fill-opacity:1\" cx=\"1063.14\" cy=\"743.863\" r=\"10\"/>\n",
       "<circle clip-path=\"url(#clip1403)\" style=\"fill:#008000; stroke:none; fill-opacity:1\" cx=\"1063.14\" cy=\"743.863\" r=\"7\"/>\n",
       "<circle clip-path=\"url(#clip1403)\" style=\"fill:#000000; stroke:none; fill-opacity:1\" cx=\"1084.1\" cy=\"767.075\" r=\"10\"/>\n",
       "<circle clip-path=\"url(#clip1403)\" style=\"fill:#008000; stroke:none; fill-opacity:1\" cx=\"1084.1\" cy=\"767.075\" r=\"7\"/>\n",
       "<circle clip-path=\"url(#clip1403)\" style=\"fill:#000000; stroke:none; fill-opacity:1\" cx=\"1105.07\" cy=\"790.236\" r=\"10\"/>\n",
       "<circle clip-path=\"url(#clip1403)\" style=\"fill:#008000; stroke:none; fill-opacity:1\" cx=\"1105.07\" cy=\"790.236\" r=\"7\"/>\n",
       "<circle clip-path=\"url(#clip1403)\" style=\"fill:#000000; stroke:none; fill-opacity:1\" cx=\"1126.04\" cy=\"813.294\" r=\"10\"/>\n",
       "<circle clip-path=\"url(#clip1403)\" style=\"fill:#008000; stroke:none; fill-opacity:1\" cx=\"1126.04\" cy=\"813.294\" r=\"7\"/>\n",
       "<circle clip-path=\"url(#clip1403)\" style=\"fill:#000000; stroke:none; fill-opacity:1\" cx=\"1147.01\" cy=\"836.199\" r=\"10\"/>\n",
       "<circle clip-path=\"url(#clip1403)\" style=\"fill:#008000; stroke:none; fill-opacity:1\" cx=\"1147.01\" cy=\"836.199\" r=\"7\"/>\n",
       "<circle clip-path=\"url(#clip1403)\" style=\"fill:#000000; stroke:none; fill-opacity:1\" cx=\"1167.98\" cy=\"858.903\" r=\"10\"/>\n",
       "<circle clip-path=\"url(#clip1403)\" style=\"fill:#008000; stroke:none; fill-opacity:1\" cx=\"1167.98\" cy=\"858.903\" r=\"7\"/>\n",
       "<circle clip-path=\"url(#clip1403)\" style=\"fill:#000000; stroke:none; fill-opacity:1\" cx=\"1188.95\" cy=\"881.359\" r=\"10\"/>\n",
       "<circle clip-path=\"url(#clip1403)\" style=\"fill:#008000; stroke:none; fill-opacity:1\" cx=\"1188.95\" cy=\"881.359\" r=\"7\"/>\n",
       "<circle clip-path=\"url(#clip1403)\" style=\"fill:#000000; stroke:none; fill-opacity:1\" cx=\"1209.92\" cy=\"903.521\" r=\"10\"/>\n",
       "<circle clip-path=\"url(#clip1403)\" style=\"fill:#008000; stroke:none; fill-opacity:1\" cx=\"1209.92\" cy=\"903.521\" r=\"7\"/>\n",
       "<circle clip-path=\"url(#clip1403)\" style=\"fill:#000000; stroke:none; fill-opacity:1\" cx=\"1230.89\" cy=\"925.347\" r=\"10\"/>\n",
       "<circle clip-path=\"url(#clip1403)\" style=\"fill:#008000; stroke:none; fill-opacity:1\" cx=\"1230.89\" cy=\"925.347\" r=\"7\"/>\n",
       "<circle clip-path=\"url(#clip1403)\" style=\"fill:#000000; stroke:none; fill-opacity:1\" cx=\"1251.85\" cy=\"946.797\" r=\"10\"/>\n",
       "<circle clip-path=\"url(#clip1403)\" style=\"fill:#008000; stroke:none; fill-opacity:1\" cx=\"1251.85\" cy=\"946.797\" r=\"7\"/>\n",
       "<circle clip-path=\"url(#clip1403)\" style=\"fill:#000000; stroke:none; fill-opacity:1\" cx=\"1272.82\" cy=\"967.835\" r=\"10\"/>\n",
       "<circle clip-path=\"url(#clip1403)\" style=\"fill:#008000; stroke:none; fill-opacity:1\" cx=\"1272.82\" cy=\"967.835\" r=\"7\"/>\n",
       "<circle clip-path=\"url(#clip1403)\" style=\"fill:#000000; stroke:none; fill-opacity:1\" cx=\"1293.79\" cy=\"988.427\" r=\"10\"/>\n",
       "<circle clip-path=\"url(#clip1403)\" style=\"fill:#008000; stroke:none; fill-opacity:1\" cx=\"1293.79\" cy=\"988.427\" r=\"7\"/>\n",
       "<circle clip-path=\"url(#clip1403)\" style=\"fill:#000000; stroke:none; fill-opacity:1\" cx=\"1314.76\" cy=\"1008.54\" r=\"10\"/>\n",
       "<circle clip-path=\"url(#clip1403)\" style=\"fill:#008000; stroke:none; fill-opacity:1\" cx=\"1314.76\" cy=\"1008.54\" r=\"7\"/>\n",
       "<circle clip-path=\"url(#clip1403)\" style=\"fill:#000000; stroke:none; fill-opacity:1\" cx=\"1335.73\" cy=\"1028.16\" r=\"10\"/>\n",
       "<circle clip-path=\"url(#clip1403)\" style=\"fill:#008000; stroke:none; fill-opacity:1\" cx=\"1335.73\" cy=\"1028.16\" r=\"7\"/>\n",
       "<circle clip-path=\"url(#clip1403)\" style=\"fill:#000000; stroke:none; fill-opacity:1\" cx=\"1356.7\" cy=\"1047.24\" r=\"10\"/>\n",
       "<circle clip-path=\"url(#clip1403)\" style=\"fill:#008000; stroke:none; fill-opacity:1\" cx=\"1356.7\" cy=\"1047.24\" r=\"7\"/>\n",
       "<circle clip-path=\"url(#clip1403)\" style=\"fill:#000000; stroke:none; fill-opacity:1\" cx=\"1377.67\" cy=\"1065.78\" r=\"10\"/>\n",
       "<circle clip-path=\"url(#clip1403)\" style=\"fill:#008000; stroke:none; fill-opacity:1\" cx=\"1377.67\" cy=\"1065.78\" r=\"7\"/>\n",
       "<circle clip-path=\"url(#clip1403)\" style=\"fill:#000000; stroke:none; fill-opacity:1\" cx=\"1398.64\" cy=\"1083.76\" r=\"10\"/>\n",
       "<circle clip-path=\"url(#clip1403)\" style=\"fill:#008000; stroke:none; fill-opacity:1\" cx=\"1398.64\" cy=\"1083.76\" r=\"7\"/>\n",
       "<circle clip-path=\"url(#clip1403)\" style=\"fill:#000000; stroke:none; fill-opacity:1\" cx=\"1419.6\" cy=\"1101.16\" r=\"10\"/>\n",
       "<circle clip-path=\"url(#clip1403)\" style=\"fill:#008000; stroke:none; fill-opacity:1\" cx=\"1419.6\" cy=\"1101.16\" r=\"7\"/>\n",
       "<circle clip-path=\"url(#clip1403)\" style=\"fill:#000000; stroke:none; fill-opacity:1\" cx=\"1440.57\" cy=\"1117.98\" r=\"10\"/>\n",
       "<circle clip-path=\"url(#clip1403)\" style=\"fill:#008000; stroke:none; fill-opacity:1\" cx=\"1440.57\" cy=\"1117.98\" r=\"7\"/>\n",
       "<circle clip-path=\"url(#clip1403)\" style=\"fill:#000000; stroke:none; fill-opacity:1\" cx=\"1461.54\" cy=\"1134.21\" r=\"10\"/>\n",
       "<circle clip-path=\"url(#clip1403)\" style=\"fill:#008000; stroke:none; fill-opacity:1\" cx=\"1461.54\" cy=\"1134.21\" r=\"7\"/>\n",
       "<circle clip-path=\"url(#clip1403)\" style=\"fill:#000000; stroke:none; fill-opacity:1\" cx=\"1482.51\" cy=\"1149.84\" r=\"10\"/>\n",
       "<circle clip-path=\"url(#clip1403)\" style=\"fill:#008000; stroke:none; fill-opacity:1\" cx=\"1482.51\" cy=\"1149.84\" r=\"7\"/>\n",
       "<circle clip-path=\"url(#clip1403)\" style=\"fill:#000000; stroke:none; fill-opacity:1\" cx=\"1503.48\" cy=\"1164.88\" r=\"10\"/>\n",
       "<circle clip-path=\"url(#clip1403)\" style=\"fill:#008000; stroke:none; fill-opacity:1\" cx=\"1503.48\" cy=\"1164.88\" r=\"7\"/>\n",
       "<circle clip-path=\"url(#clip1403)\" style=\"fill:#000000; stroke:none; fill-opacity:1\" cx=\"1524.45\" cy=\"1179.32\" r=\"10\"/>\n",
       "<circle clip-path=\"url(#clip1403)\" style=\"fill:#008000; stroke:none; fill-opacity:1\" cx=\"1524.45\" cy=\"1179.32\" r=\"7\"/>\n",
       "<circle clip-path=\"url(#clip1403)\" style=\"fill:#000000; stroke:none; fill-opacity:1\" cx=\"1545.42\" cy=\"1193.17\" r=\"10\"/>\n",
       "<circle clip-path=\"url(#clip1403)\" style=\"fill:#008000; stroke:none; fill-opacity:1\" cx=\"1545.42\" cy=\"1193.17\" r=\"7\"/>\n",
       "<circle clip-path=\"url(#clip1403)\" style=\"fill:#000000; stroke:none; fill-opacity:1\" cx=\"1566.39\" cy=\"1206.44\" r=\"10\"/>\n",
       "<circle clip-path=\"url(#clip1403)\" style=\"fill:#008000; stroke:none; fill-opacity:1\" cx=\"1566.39\" cy=\"1206.44\" r=\"7\"/>\n",
       "<circle clip-path=\"url(#clip1403)\" style=\"fill:#000000; stroke:none; fill-opacity:1\" cx=\"1587.35\" cy=\"1219.14\" r=\"10\"/>\n",
       "<circle clip-path=\"url(#clip1403)\" style=\"fill:#008000; stroke:none; fill-opacity:1\" cx=\"1587.35\" cy=\"1219.14\" r=\"7\"/>\n",
       "<circle clip-path=\"url(#clip1403)\" style=\"fill:#000000; stroke:none; fill-opacity:1\" cx=\"1608.32\" cy=\"1231.27\" r=\"10\"/>\n",
       "<circle clip-path=\"url(#clip1403)\" style=\"fill:#008000; stroke:none; fill-opacity:1\" cx=\"1608.32\" cy=\"1231.27\" r=\"7\"/>\n",
       "<circle clip-path=\"url(#clip1403)\" style=\"fill:#000000; stroke:none; fill-opacity:1\" cx=\"1629.29\" cy=\"1242.85\" r=\"10\"/>\n",
       "<circle clip-path=\"url(#clip1403)\" style=\"fill:#008000; stroke:none; fill-opacity:1\" cx=\"1629.29\" cy=\"1242.85\" r=\"7\"/>\n",
       "<circle clip-path=\"url(#clip1403)\" style=\"fill:#000000; stroke:none; fill-opacity:1\" cx=\"1650.26\" cy=\"1253.89\" r=\"10\"/>\n",
       "<circle clip-path=\"url(#clip1403)\" style=\"fill:#008000; stroke:none; fill-opacity:1\" cx=\"1650.26\" cy=\"1253.89\" r=\"7\"/>\n",
       "<circle clip-path=\"url(#clip1403)\" style=\"fill:#000000; stroke:none; fill-opacity:1\" cx=\"1671.23\" cy=\"1264.4\" r=\"10\"/>\n",
       "<circle clip-path=\"url(#clip1403)\" style=\"fill:#008000; stroke:none; fill-opacity:1\" cx=\"1671.23\" cy=\"1264.4\" r=\"7\"/>\n",
       "<circle clip-path=\"url(#clip1403)\" style=\"fill:#000000; stroke:none; fill-opacity:1\" cx=\"1692.2\" cy=\"1274.4\" r=\"10\"/>\n",
       "<circle clip-path=\"url(#clip1403)\" style=\"fill:#008000; stroke:none; fill-opacity:1\" cx=\"1692.2\" cy=\"1274.4\" r=\"7\"/>\n",
       "<circle clip-path=\"url(#clip1403)\" style=\"fill:#000000; stroke:none; fill-opacity:1\" cx=\"1713.17\" cy=\"1283.91\" r=\"10\"/>\n",
       "<circle clip-path=\"url(#clip1403)\" style=\"fill:#008000; stroke:none; fill-opacity:1\" cx=\"1713.17\" cy=\"1283.91\" r=\"7\"/>\n",
       "<circle clip-path=\"url(#clip1403)\" style=\"fill:#000000; stroke:none; fill-opacity:1\" cx=\"1734.14\" cy=\"1292.94\" r=\"10\"/>\n",
       "<circle clip-path=\"url(#clip1403)\" style=\"fill:#008000; stroke:none; fill-opacity:1\" cx=\"1734.14\" cy=\"1292.94\" r=\"7\"/>\n",
       "<circle clip-path=\"url(#clip1403)\" style=\"fill:#000000; stroke:none; fill-opacity:1\" cx=\"1755.1\" cy=\"1301.51\" r=\"10\"/>\n",
       "<circle clip-path=\"url(#clip1403)\" style=\"fill:#008000; stroke:none; fill-opacity:1\" cx=\"1755.1\" cy=\"1301.51\" r=\"7\"/>\n",
       "<circle clip-path=\"url(#clip1403)\" style=\"fill:#000000; stroke:none; fill-opacity:1\" cx=\"1776.07\" cy=\"1309.63\" r=\"10\"/>\n",
       "<circle clip-path=\"url(#clip1403)\" style=\"fill:#008000; stroke:none; fill-opacity:1\" cx=\"1776.07\" cy=\"1309.63\" r=\"7\"/>\n",
       "<circle clip-path=\"url(#clip1403)\" style=\"fill:#000000; stroke:none; fill-opacity:1\" cx=\"1797.04\" cy=\"1317.32\" r=\"10\"/>\n",
       "<circle clip-path=\"url(#clip1403)\" style=\"fill:#008000; stroke:none; fill-opacity:1\" cx=\"1797.04\" cy=\"1317.32\" r=\"7\"/>\n",
       "<circle clip-path=\"url(#clip1403)\" style=\"fill:#000000; stroke:none; fill-opacity:1\" cx=\"1818.01\" cy=\"1324.6\" r=\"10\"/>\n",
       "<circle clip-path=\"url(#clip1403)\" style=\"fill:#008000; stroke:none; fill-opacity:1\" cx=\"1818.01\" cy=\"1324.6\" r=\"7\"/>\n",
       "<circle clip-path=\"url(#clip1403)\" style=\"fill:#000000; stroke:none; fill-opacity:1\" cx=\"1838.98\" cy=\"1331.49\" r=\"10\"/>\n",
       "<circle clip-path=\"url(#clip1403)\" style=\"fill:#008000; stroke:none; fill-opacity:1\" cx=\"1838.98\" cy=\"1331.49\" r=\"7\"/>\n",
       "<circle clip-path=\"url(#clip1403)\" style=\"fill:#000000; stroke:none; fill-opacity:1\" cx=\"1859.95\" cy=\"1338\" r=\"10\"/>\n",
       "<circle clip-path=\"url(#clip1403)\" style=\"fill:#008000; stroke:none; fill-opacity:1\" cx=\"1859.95\" cy=\"1338\" r=\"7\"/>\n",
       "<circle clip-path=\"url(#clip1403)\" style=\"fill:#000000; stroke:none; fill-opacity:1\" cx=\"1880.92\" cy=\"1344.16\" r=\"10\"/>\n",
       "<circle clip-path=\"url(#clip1403)\" style=\"fill:#008000; stroke:none; fill-opacity:1\" cx=\"1880.92\" cy=\"1344.16\" r=\"7\"/>\n",
       "<circle clip-path=\"url(#clip1403)\" style=\"fill:#000000; stroke:none; fill-opacity:1\" cx=\"1901.89\" cy=\"1349.97\" r=\"10\"/>\n",
       "<circle clip-path=\"url(#clip1403)\" style=\"fill:#008000; stroke:none; fill-opacity:1\" cx=\"1901.89\" cy=\"1349.97\" r=\"7\"/>\n",
       "<circle clip-path=\"url(#clip1403)\" style=\"fill:#000000; stroke:none; fill-opacity:1\" cx=\"1922.85\" cy=\"1355.45\" r=\"10\"/>\n",
       "<circle clip-path=\"url(#clip1403)\" style=\"fill:#008000; stroke:none; fill-opacity:1\" cx=\"1922.85\" cy=\"1355.45\" r=\"7\"/>\n",
       "<circle clip-path=\"url(#clip1403)\" style=\"fill:#000000; stroke:none; fill-opacity:1\" cx=\"1943.82\" cy=\"1360.62\" r=\"10\"/>\n",
       "<circle clip-path=\"url(#clip1403)\" style=\"fill:#008000; stroke:none; fill-opacity:1\" cx=\"1943.82\" cy=\"1360.62\" r=\"7\"/>\n",
       "<circle clip-path=\"url(#clip1403)\" style=\"fill:#000000; stroke:none; fill-opacity:1\" cx=\"1964.79\" cy=\"1365.49\" r=\"10\"/>\n",
       "<circle clip-path=\"url(#clip1403)\" style=\"fill:#008000; stroke:none; fill-opacity:1\" cx=\"1964.79\" cy=\"1365.49\" r=\"7\"/>\n",
       "<circle clip-path=\"url(#clip1403)\" style=\"fill:#000000; stroke:none; fill-opacity:1\" cx=\"1985.76\" cy=\"1370.08\" r=\"10\"/>\n",
       "<circle clip-path=\"url(#clip1403)\" style=\"fill:#008000; stroke:none; fill-opacity:1\" cx=\"1985.76\" cy=\"1370.08\" r=\"7\"/>\n",
       "<circle clip-path=\"url(#clip1403)\" style=\"fill:#000000; stroke:none; fill-opacity:1\" cx=\"2006.73\" cy=\"1374.41\" r=\"10\"/>\n",
       "<circle clip-path=\"url(#clip1403)\" style=\"fill:#008000; stroke:none; fill-opacity:1\" cx=\"2006.73\" cy=\"1374.41\" r=\"7\"/>\n",
       "<circle clip-path=\"url(#clip1403)\" style=\"fill:#000000; stroke:none; fill-opacity:1\" cx=\"2027.7\" cy=\"1378.48\" r=\"10\"/>\n",
       "<circle clip-path=\"url(#clip1403)\" style=\"fill:#008000; stroke:none; fill-opacity:1\" cx=\"2027.7\" cy=\"1378.48\" r=\"7\"/>\n",
       "<circle clip-path=\"url(#clip1403)\" style=\"fill:#000000; stroke:none; fill-opacity:1\" cx=\"2048.67\" cy=\"1382.31\" r=\"10\"/>\n",
       "<circle clip-path=\"url(#clip1403)\" style=\"fill:#008000; stroke:none; fill-opacity:1\" cx=\"2048.67\" cy=\"1382.31\" r=\"7\"/>\n",
       "<circle clip-path=\"url(#clip1403)\" style=\"fill:#000000; stroke:none; fill-opacity:1\" cx=\"2069.64\" cy=\"1385.92\" r=\"10\"/>\n",
       "<circle clip-path=\"url(#clip1403)\" style=\"fill:#008000; stroke:none; fill-opacity:1\" cx=\"2069.64\" cy=\"1385.92\" r=\"7\"/>\n",
       "<circle clip-path=\"url(#clip1403)\" style=\"fill:#000000; stroke:none; fill-opacity:1\" cx=\"2090.6\" cy=\"1389.31\" r=\"10\"/>\n",
       "<circle clip-path=\"url(#clip1403)\" style=\"fill:#008000; stroke:none; fill-opacity:1\" cx=\"2090.6\" cy=\"1389.31\" r=\"7\"/>\n",
       "<circle clip-path=\"url(#clip1403)\" style=\"fill:#000000; stroke:none; fill-opacity:1\" cx=\"2111.57\" cy=\"1392.49\" r=\"10\"/>\n",
       "<circle clip-path=\"url(#clip1403)\" style=\"fill:#008000; stroke:none; fill-opacity:1\" cx=\"2111.57\" cy=\"1392.49\" r=\"7\"/>\n",
       "<circle clip-path=\"url(#clip1403)\" style=\"fill:#000000; stroke:none; fill-opacity:1\" cx=\"2132.54\" cy=\"1395.49\" r=\"10\"/>\n",
       "<circle clip-path=\"url(#clip1403)\" style=\"fill:#008000; stroke:none; fill-opacity:1\" cx=\"2132.54\" cy=\"1395.49\" r=\"7\"/>\n",
       "<circle clip-path=\"url(#clip1403)\" style=\"fill:#000000; stroke:none; fill-opacity:1\" cx=\"2153.51\" cy=\"1398.3\" r=\"10\"/>\n",
       "<circle clip-path=\"url(#clip1403)\" style=\"fill:#008000; stroke:none; fill-opacity:1\" cx=\"2153.51\" cy=\"1398.3\" r=\"7\"/>\n",
       "<circle clip-path=\"url(#clip1403)\" style=\"fill:#000000; stroke:none; fill-opacity:1\" cx=\"2174.48\" cy=\"1400.94\" r=\"10\"/>\n",
       "<circle clip-path=\"url(#clip1403)\" style=\"fill:#008000; stroke:none; fill-opacity:1\" cx=\"2174.48\" cy=\"1400.94\" r=\"7\"/>\n",
       "<circle clip-path=\"url(#clip1403)\" style=\"fill:#000000; stroke:none; fill-opacity:1\" cx=\"2195.45\" cy=\"1403.43\" r=\"10\"/>\n",
       "<circle clip-path=\"url(#clip1403)\" style=\"fill:#008000; stroke:none; fill-opacity:1\" cx=\"2195.45\" cy=\"1403.43\" r=\"7\"/>\n",
       "<circle clip-path=\"url(#clip1403)\" style=\"fill:#000000; stroke:none; fill-opacity:1\" cx=\"2216.42\" cy=\"1405.76\" r=\"10\"/>\n",
       "<circle clip-path=\"url(#clip1403)\" style=\"fill:#008000; stroke:none; fill-opacity:1\" cx=\"2216.42\" cy=\"1405.76\" r=\"7\"/>\n",
       "<circle clip-path=\"url(#clip1403)\" style=\"fill:#000000; stroke:none; fill-opacity:1\" cx=\"2237.38\" cy=\"1407.94\" r=\"10\"/>\n",
       "<circle clip-path=\"url(#clip1403)\" style=\"fill:#008000; stroke:none; fill-opacity:1\" cx=\"2237.38\" cy=\"1407.94\" r=\"7\"/>\n",
       "<circle clip-path=\"url(#clip1403)\" style=\"fill:#000000; stroke:none; fill-opacity:1\" cx=\"2258.35\" cy=\"1410\" r=\"10\"/>\n",
       "<circle clip-path=\"url(#clip1403)\" style=\"fill:#008000; stroke:none; fill-opacity:1\" cx=\"2258.35\" cy=\"1410\" r=\"7\"/>\n",
       "<circle clip-path=\"url(#clip1403)\" style=\"fill:#000000; stroke:none; fill-opacity:1\" cx=\"2279.32\" cy=\"1411.92\" r=\"10\"/>\n",
       "<circle clip-path=\"url(#clip1403)\" style=\"fill:#008000; stroke:none; fill-opacity:1\" cx=\"2279.32\" cy=\"1411.92\" r=\"7\"/>\n",
       "<circle clip-path=\"url(#clip1403)\" style=\"fill:#000000; stroke:none; fill-opacity:1\" cx=\"2300.29\" cy=\"1413.73\" r=\"10\"/>\n",
       "<circle clip-path=\"url(#clip1403)\" style=\"fill:#008000; stroke:none; fill-opacity:1\" cx=\"2300.29\" cy=\"1413.73\" r=\"7\"/>\n",
       "<circle clip-path=\"url(#clip1403)\" style=\"fill:#000000; stroke:none; fill-opacity:1\" cx=\"2321.26\" cy=\"1415.42\" r=\"10\"/>\n",
       "<circle clip-path=\"url(#clip1403)\" style=\"fill:#008000; stroke:none; fill-opacity:1\" cx=\"2321.26\" cy=\"1415.42\" r=\"7\"/>\n",
       "<circle clip-path=\"url(#clip1403)\" style=\"fill:#000000; stroke:none; fill-opacity:1\" cx=\"224.386\" cy=\"72.3032\" r=\"10\"/>\n",
       "<circle clip-path=\"url(#clip1403)\" style=\"fill:#0000ff; stroke:none; fill-opacity:1\" cx=\"224.386\" cy=\"72.3032\" r=\"7\"/>\n",
       "<circle clip-path=\"url(#clip1403)\" style=\"fill:#000000; stroke:none; fill-opacity:1\" cx=\"245.355\" cy=\"73.9976\" r=\"10\"/>\n",
       "<circle clip-path=\"url(#clip1403)\" style=\"fill:#0000ff; stroke:none; fill-opacity:1\" cx=\"245.355\" cy=\"73.9976\" r=\"7\"/>\n",
       "<circle clip-path=\"url(#clip1403)\" style=\"fill:#000000; stroke:none; fill-opacity:1\" cx=\"266.324\" cy=\"75.8041\" r=\"10\"/>\n",
       "<circle clip-path=\"url(#clip1403)\" style=\"fill:#0000ff; stroke:none; fill-opacity:1\" cx=\"266.324\" cy=\"75.8041\" r=\"7\"/>\n",
       "<circle clip-path=\"url(#clip1403)\" style=\"fill:#000000; stroke:none; fill-opacity:1\" cx=\"287.292\" cy=\"77.7299\" r=\"10\"/>\n",
       "<circle clip-path=\"url(#clip1403)\" style=\"fill:#0000ff; stroke:none; fill-opacity:1\" cx=\"287.292\" cy=\"77.7299\" r=\"7\"/>\n",
       "<circle clip-path=\"url(#clip1403)\" style=\"fill:#000000; stroke:none; fill-opacity:1\" cx=\"308.261\" cy=\"79.7825\" r=\"10\"/>\n",
       "<circle clip-path=\"url(#clip1403)\" style=\"fill:#0000ff; stroke:none; fill-opacity:1\" cx=\"308.261\" cy=\"79.7825\" r=\"7\"/>\n",
       "<circle clip-path=\"url(#clip1403)\" style=\"fill:#000000; stroke:none; fill-opacity:1\" cx=\"329.23\" cy=\"81.9698\" r=\"10\"/>\n",
       "<circle clip-path=\"url(#clip1403)\" style=\"fill:#0000ff; stroke:none; fill-opacity:1\" cx=\"329.23\" cy=\"81.9698\" r=\"7\"/>\n",
       "<circle clip-path=\"url(#clip1403)\" style=\"fill:#000000; stroke:none; fill-opacity:1\" cx=\"350.199\" cy=\"84.3001\" r=\"10\"/>\n",
       "<circle clip-path=\"url(#clip1403)\" style=\"fill:#0000ff; stroke:none; fill-opacity:1\" cx=\"350.199\" cy=\"84.3001\" r=\"7\"/>\n",
       "<circle clip-path=\"url(#clip1403)\" style=\"fill:#000000; stroke:none; fill-opacity:1\" cx=\"371.167\" cy=\"86.7822\" r=\"10\"/>\n",
       "<circle clip-path=\"url(#clip1403)\" style=\"fill:#0000ff; stroke:none; fill-opacity:1\" cx=\"371.167\" cy=\"86.7822\" r=\"7\"/>\n",
       "<circle clip-path=\"url(#clip1403)\" style=\"fill:#000000; stroke:none; fill-opacity:1\" cx=\"392.136\" cy=\"89.4254\" r=\"10\"/>\n",
       "<circle clip-path=\"url(#clip1403)\" style=\"fill:#0000ff; stroke:none; fill-opacity:1\" cx=\"392.136\" cy=\"89.4254\" r=\"7\"/>\n",
       "<circle clip-path=\"url(#clip1403)\" style=\"fill:#000000; stroke:none; fill-opacity:1\" cx=\"413.105\" cy=\"92.2394\" r=\"10\"/>\n",
       "<circle clip-path=\"url(#clip1403)\" style=\"fill:#0000ff; stroke:none; fill-opacity:1\" cx=\"413.105\" cy=\"92.2394\" r=\"7\"/>\n",
       "<circle clip-path=\"url(#clip1403)\" style=\"fill:#000000; stroke:none; fill-opacity:1\" cx=\"434.074\" cy=\"95.2345\" r=\"10\"/>\n",
       "<circle clip-path=\"url(#clip1403)\" style=\"fill:#0000ff; stroke:none; fill-opacity:1\" cx=\"434.074\" cy=\"95.2345\" r=\"7\"/>\n",
       "<circle clip-path=\"url(#clip1403)\" style=\"fill:#000000; stroke:none; fill-opacity:1\" cx=\"455.042\" cy=\"98.4214\" r=\"10\"/>\n",
       "<circle clip-path=\"url(#clip1403)\" style=\"fill:#0000ff; stroke:none; fill-opacity:1\" cx=\"455.042\" cy=\"98.4214\" r=\"7\"/>\n",
       "<circle clip-path=\"url(#clip1403)\" style=\"fill:#000000; stroke:none; fill-opacity:1\" cx=\"476.011\" cy=\"101.811\" r=\"10\"/>\n",
       "<circle clip-path=\"url(#clip1403)\" style=\"fill:#0000ff; stroke:none; fill-opacity:1\" cx=\"476.011\" cy=\"101.811\" r=\"7\"/>\n",
       "<circle clip-path=\"url(#clip1403)\" style=\"fill:#000000; stroke:none; fill-opacity:1\" cx=\"496.98\" cy=\"105.416\" r=\"10\"/>\n",
       "<circle clip-path=\"url(#clip1403)\" style=\"fill:#0000ff; stroke:none; fill-opacity:1\" cx=\"496.98\" cy=\"105.416\" r=\"7\"/>\n",
       "<circle clip-path=\"url(#clip1403)\" style=\"fill:#000000; stroke:none; fill-opacity:1\" cx=\"517.948\" cy=\"109.248\" r=\"10\"/>\n",
       "<circle clip-path=\"url(#clip1403)\" style=\"fill:#0000ff; stroke:none; fill-opacity:1\" cx=\"517.948\" cy=\"109.248\" r=\"7\"/>\n",
       "<circle clip-path=\"url(#clip1403)\" style=\"fill:#000000; stroke:none; fill-opacity:1\" cx=\"538.917\" cy=\"113.32\" r=\"10\"/>\n",
       "<circle clip-path=\"url(#clip1403)\" style=\"fill:#0000ff; stroke:none; fill-opacity:1\" cx=\"538.917\" cy=\"113.32\" r=\"7\"/>\n",
       "<circle clip-path=\"url(#clip1403)\" style=\"fill:#000000; stroke:none; fill-opacity:1\" cx=\"559.886\" cy=\"117.645\" r=\"10\"/>\n",
       "<circle clip-path=\"url(#clip1403)\" style=\"fill:#0000ff; stroke:none; fill-opacity:1\" cx=\"559.886\" cy=\"117.645\" r=\"7\"/>\n",
       "<circle clip-path=\"url(#clip1403)\" style=\"fill:#000000; stroke:none; fill-opacity:1\" cx=\"580.855\" cy=\"122.237\" r=\"10\"/>\n",
       "<circle clip-path=\"url(#clip1403)\" style=\"fill:#0000ff; stroke:none; fill-opacity:1\" cx=\"580.855\" cy=\"122.237\" r=\"7\"/>\n",
       "<circle clip-path=\"url(#clip1403)\" style=\"fill:#000000; stroke:none; fill-opacity:1\" cx=\"601.823\" cy=\"127.11\" r=\"10\"/>\n",
       "<circle clip-path=\"url(#clip1403)\" style=\"fill:#0000ff; stroke:none; fill-opacity:1\" cx=\"601.823\" cy=\"127.11\" r=\"7\"/>\n",
       "<circle clip-path=\"url(#clip1403)\" style=\"fill:#000000; stroke:none; fill-opacity:1\" cx=\"622.792\" cy=\"132.28\" r=\"10\"/>\n",
       "<circle clip-path=\"url(#clip1403)\" style=\"fill:#0000ff; stroke:none; fill-opacity:1\" cx=\"622.792\" cy=\"132.28\" r=\"7\"/>\n",
       "<circle clip-path=\"url(#clip1403)\" style=\"fill:#000000; stroke:none; fill-opacity:1\" cx=\"643.761\" cy=\"137.762\" r=\"10\"/>\n",
       "<circle clip-path=\"url(#clip1403)\" style=\"fill:#0000ff; stroke:none; fill-opacity:1\" cx=\"643.761\" cy=\"137.762\" r=\"7\"/>\n",
       "<circle clip-path=\"url(#clip1403)\" style=\"fill:#000000; stroke:none; fill-opacity:1\" cx=\"664.73\" cy=\"143.57\" r=\"10\"/>\n",
       "<circle clip-path=\"url(#clip1403)\" style=\"fill:#0000ff; stroke:none; fill-opacity:1\" cx=\"664.73\" cy=\"143.57\" r=\"7\"/>\n",
       "<circle clip-path=\"url(#clip1403)\" style=\"fill:#000000; stroke:none; fill-opacity:1\" cx=\"685.698\" cy=\"149.723\" r=\"10\"/>\n",
       "<circle clip-path=\"url(#clip1403)\" style=\"fill:#0000ff; stroke:none; fill-opacity:1\" cx=\"685.698\" cy=\"149.723\" r=\"7\"/>\n",
       "<circle clip-path=\"url(#clip1403)\" style=\"fill:#000000; stroke:none; fill-opacity:1\" cx=\"706.667\" cy=\"156.235\" r=\"10\"/>\n",
       "<circle clip-path=\"url(#clip1403)\" style=\"fill:#0000ff; stroke:none; fill-opacity:1\" cx=\"706.667\" cy=\"156.235\" r=\"7\"/>\n",
       "<circle clip-path=\"url(#clip1403)\" style=\"fill:#000000; stroke:none; fill-opacity:1\" cx=\"727.636\" cy=\"163.123\" r=\"10\"/>\n",
       "<circle clip-path=\"url(#clip1403)\" style=\"fill:#0000ff; stroke:none; fill-opacity:1\" cx=\"727.636\" cy=\"163.123\" r=\"7\"/>\n",
       "<circle clip-path=\"url(#clip1403)\" style=\"fill:#000000; stroke:none; fill-opacity:1\" cx=\"748.605\" cy=\"170.406\" r=\"10\"/>\n",
       "<circle clip-path=\"url(#clip1403)\" style=\"fill:#0000ff; stroke:none; fill-opacity:1\" cx=\"748.605\" cy=\"170.406\" r=\"7\"/>\n",
       "<circle clip-path=\"url(#clip1403)\" style=\"fill:#000000; stroke:none; fill-opacity:1\" cx=\"769.573\" cy=\"178.099\" r=\"10\"/>\n",
       "<circle clip-path=\"url(#clip1403)\" style=\"fill:#0000ff; stroke:none; fill-opacity:1\" cx=\"769.573\" cy=\"178.099\" r=\"7\"/>\n",
       "<circle clip-path=\"url(#clip1403)\" style=\"fill:#000000; stroke:none; fill-opacity:1\" cx=\"790.542\" cy=\"186.22\" r=\"10\"/>\n",
       "<circle clip-path=\"url(#clip1403)\" style=\"fill:#0000ff; stroke:none; fill-opacity:1\" cx=\"790.542\" cy=\"186.22\" r=\"7\"/>\n",
       "<circle clip-path=\"url(#clip1403)\" style=\"fill:#000000; stroke:none; fill-opacity:1\" cx=\"811.511\" cy=\"194.787\" r=\"10\"/>\n",
       "<circle clip-path=\"url(#clip1403)\" style=\"fill:#0000ff; stroke:none; fill-opacity:1\" cx=\"811.511\" cy=\"194.787\" r=\"7\"/>\n",
       "<circle clip-path=\"url(#clip1403)\" style=\"fill:#000000; stroke:none; fill-opacity:1\" cx=\"832.48\" cy=\"203.815\" r=\"10\"/>\n",
       "<circle clip-path=\"url(#clip1403)\" style=\"fill:#0000ff; stroke:none; fill-opacity:1\" cx=\"832.48\" cy=\"203.815\" r=\"7\"/>\n",
       "<circle clip-path=\"url(#clip1403)\" style=\"fill:#000000; stroke:none; fill-opacity:1\" cx=\"853.448\" cy=\"213.322\" r=\"10\"/>\n",
       "<circle clip-path=\"url(#clip1403)\" style=\"fill:#0000ff; stroke:none; fill-opacity:1\" cx=\"853.448\" cy=\"213.322\" r=\"7\"/>\n",
       "<circle clip-path=\"url(#clip1403)\" style=\"fill:#000000; stroke:none; fill-opacity:1\" cx=\"874.417\" cy=\"223.324\" r=\"10\"/>\n",
       "<circle clip-path=\"url(#clip1403)\" style=\"fill:#0000ff; stroke:none; fill-opacity:1\" cx=\"874.417\" cy=\"223.324\" r=\"7\"/>\n",
       "<circle clip-path=\"url(#clip1403)\" style=\"fill:#000000; stroke:none; fill-opacity:1\" cx=\"895.386\" cy=\"233.838\" r=\"10\"/>\n",
       "<circle clip-path=\"url(#clip1403)\" style=\"fill:#0000ff; stroke:none; fill-opacity:1\" cx=\"895.386\" cy=\"233.838\" r=\"7\"/>\n",
       "<circle clip-path=\"url(#clip1403)\" style=\"fill:#000000; stroke:none; fill-opacity:1\" cx=\"916.354\" cy=\"244.876\" r=\"10\"/>\n",
       "<circle clip-path=\"url(#clip1403)\" style=\"fill:#0000ff; stroke:none; fill-opacity:1\" cx=\"916.354\" cy=\"244.876\" r=\"7\"/>\n",
       "<circle clip-path=\"url(#clip1403)\" style=\"fill:#000000; stroke:none; fill-opacity:1\" cx=\"937.323\" cy=\"256.455\" r=\"10\"/>\n",
       "<circle clip-path=\"url(#clip1403)\" style=\"fill:#0000ff; stroke:none; fill-opacity:1\" cx=\"937.323\" cy=\"256.455\" r=\"7\"/>\n",
       "<circle clip-path=\"url(#clip1403)\" style=\"fill:#000000; stroke:none; fill-opacity:1\" cx=\"958.292\" cy=\"268.587\" r=\"10\"/>\n",
       "<circle clip-path=\"url(#clip1403)\" style=\"fill:#0000ff; stroke:none; fill-opacity:1\" cx=\"958.292\" cy=\"268.587\" r=\"7\"/>\n",
       "<circle clip-path=\"url(#clip1403)\" style=\"fill:#000000; stroke:none; fill-opacity:1\" cx=\"979.261\" cy=\"281.283\" r=\"10\"/>\n",
       "<circle clip-path=\"url(#clip1403)\" style=\"fill:#0000ff; stroke:none; fill-opacity:1\" cx=\"979.261\" cy=\"281.283\" r=\"7\"/>\n",
       "<circle clip-path=\"url(#clip1403)\" style=\"fill:#000000; stroke:none; fill-opacity:1\" cx=\"1000.23\" cy=\"294.553\" r=\"10\"/>\n",
       "<circle clip-path=\"url(#clip1403)\" style=\"fill:#0000ff; stroke:none; fill-opacity:1\" cx=\"1000.23\" cy=\"294.553\" r=\"7\"/>\n",
       "<circle clip-path=\"url(#clip1403)\" style=\"fill:#000000; stroke:none; fill-opacity:1\" cx=\"1021.2\" cy=\"308.406\" r=\"10\"/>\n",
       "<circle clip-path=\"url(#clip1403)\" style=\"fill:#0000ff; stroke:none; fill-opacity:1\" cx=\"1021.2\" cy=\"308.406\" r=\"7\"/>\n",
       "<circle clip-path=\"url(#clip1403)\" style=\"fill:#000000; stroke:none; fill-opacity:1\" cx=\"1042.17\" cy=\"322.849\" r=\"10\"/>\n",
       "<circle clip-path=\"url(#clip1403)\" style=\"fill:#0000ff; stroke:none; fill-opacity:1\" cx=\"1042.17\" cy=\"322.849\" r=\"7\"/>\n",
       "<circle clip-path=\"url(#clip1403)\" style=\"fill:#000000; stroke:none; fill-opacity:1\" cx=\"1063.14\" cy=\"337.886\" r=\"10\"/>\n",
       "<circle clip-path=\"url(#clip1403)\" style=\"fill:#0000ff; stroke:none; fill-opacity:1\" cx=\"1063.14\" cy=\"337.886\" r=\"7\"/>\n",
       "<circle clip-path=\"url(#clip1403)\" style=\"fill:#000000; stroke:none; fill-opacity:1\" cx=\"1084.1\" cy=\"353.517\" r=\"10\"/>\n",
       "<circle clip-path=\"url(#clip1403)\" style=\"fill:#0000ff; stroke:none; fill-opacity:1\" cx=\"1084.1\" cy=\"353.517\" r=\"7\"/>\n",
       "<circle clip-path=\"url(#clip1403)\" style=\"fill:#000000; stroke:none; fill-opacity:1\" cx=\"1105.07\" cy=\"369.744\" r=\"10\"/>\n",
       "<circle clip-path=\"url(#clip1403)\" style=\"fill:#0000ff; stroke:none; fill-opacity:1\" cx=\"1105.07\" cy=\"369.744\" r=\"7\"/>\n",
       "<circle clip-path=\"url(#clip1403)\" style=\"fill:#000000; stroke:none; fill-opacity:1\" cx=\"1126.04\" cy=\"386.562\" r=\"10\"/>\n",
       "<circle clip-path=\"url(#clip1403)\" style=\"fill:#0000ff; stroke:none; fill-opacity:1\" cx=\"1126.04\" cy=\"386.562\" r=\"7\"/>\n",
       "<circle clip-path=\"url(#clip1403)\" style=\"fill:#000000; stroke:none; fill-opacity:1\" cx=\"1147.01\" cy=\"403.965\" r=\"10\"/>\n",
       "<circle clip-path=\"url(#clip1403)\" style=\"fill:#0000ff; stroke:none; fill-opacity:1\" cx=\"1147.01\" cy=\"403.965\" r=\"7\"/>\n",
       "<circle clip-path=\"url(#clip1403)\" style=\"fill:#000000; stroke:none; fill-opacity:1\" cx=\"1167.98\" cy=\"421.944\" r=\"10\"/>\n",
       "<circle clip-path=\"url(#clip1403)\" style=\"fill:#0000ff; stroke:none; fill-opacity:1\" cx=\"1167.98\" cy=\"421.944\" r=\"7\"/>\n",
       "<circle clip-path=\"url(#clip1403)\" style=\"fill:#000000; stroke:none; fill-opacity:1\" cx=\"1188.95\" cy=\"440.484\" r=\"10\"/>\n",
       "<circle clip-path=\"url(#clip1403)\" style=\"fill:#0000ff; stroke:none; fill-opacity:1\" cx=\"1188.95\" cy=\"440.484\" r=\"7\"/>\n",
       "<circle clip-path=\"url(#clip1403)\" style=\"fill:#000000; stroke:none; fill-opacity:1\" cx=\"1209.92\" cy=\"459.571\" r=\"10\"/>\n",
       "<circle clip-path=\"url(#clip1403)\" style=\"fill:#0000ff; stroke:none; fill-opacity:1\" cx=\"1209.92\" cy=\"459.571\" r=\"7\"/>\n",
       "<circle clip-path=\"url(#clip1403)\" style=\"fill:#000000; stroke:none; fill-opacity:1\" cx=\"1230.89\" cy=\"479.184\" r=\"10\"/>\n",
       "<circle clip-path=\"url(#clip1403)\" style=\"fill:#0000ff; stroke:none; fill-opacity:1\" cx=\"1230.89\" cy=\"479.184\" r=\"7\"/>\n",
       "<circle clip-path=\"url(#clip1403)\" style=\"fill:#000000; stroke:none; fill-opacity:1\" cx=\"1251.85\" cy=\"499.299\" r=\"10\"/>\n",
       "<circle clip-path=\"url(#clip1403)\" style=\"fill:#0000ff; stroke:none; fill-opacity:1\" cx=\"1251.85\" cy=\"499.299\" r=\"7\"/>\n",
       "<circle clip-path=\"url(#clip1403)\" style=\"fill:#000000; stroke:none; fill-opacity:1\" cx=\"1272.82\" cy=\"519.891\" r=\"10\"/>\n",
       "<circle clip-path=\"url(#clip1403)\" style=\"fill:#0000ff; stroke:none; fill-opacity:1\" cx=\"1272.82\" cy=\"519.891\" r=\"7\"/>\n",
       "<circle clip-path=\"url(#clip1403)\" style=\"fill:#000000; stroke:none; fill-opacity:1\" cx=\"1293.79\" cy=\"540.929\" r=\"10\"/>\n",
       "<circle clip-path=\"url(#clip1403)\" style=\"fill:#0000ff; stroke:none; fill-opacity:1\" cx=\"1293.79\" cy=\"540.929\" r=\"7\"/>\n",
       "<circle clip-path=\"url(#clip1403)\" style=\"fill:#000000; stroke:none; fill-opacity:1\" cx=\"1314.76\" cy=\"562.38\" r=\"10\"/>\n",
       "<circle clip-path=\"url(#clip1403)\" style=\"fill:#0000ff; stroke:none; fill-opacity:1\" cx=\"1314.76\" cy=\"562.38\" r=\"7\"/>\n",
       "<circle clip-path=\"url(#clip1403)\" style=\"fill:#000000; stroke:none; fill-opacity:1\" cx=\"1335.73\" cy=\"584.206\" r=\"10\"/>\n",
       "<circle clip-path=\"url(#clip1403)\" style=\"fill:#0000ff; stroke:none; fill-opacity:1\" cx=\"1335.73\" cy=\"584.206\" r=\"7\"/>\n",
       "<circle clip-path=\"url(#clip1403)\" style=\"fill:#000000; stroke:none; fill-opacity:1\" cx=\"1356.7\" cy=\"606.368\" r=\"10\"/>\n",
       "<circle clip-path=\"url(#clip1403)\" style=\"fill:#0000ff; stroke:none; fill-opacity:1\" cx=\"1356.7\" cy=\"606.368\" r=\"7\"/>\n",
       "<circle clip-path=\"url(#clip1403)\" style=\"fill:#000000; stroke:none; fill-opacity:1\" cx=\"1377.67\" cy=\"628.823\" r=\"10\"/>\n",
       "<circle clip-path=\"url(#clip1403)\" style=\"fill:#0000ff; stroke:none; fill-opacity:1\" cx=\"1377.67\" cy=\"628.823\" r=\"7\"/>\n",
       "<circle clip-path=\"url(#clip1403)\" style=\"fill:#000000; stroke:none; fill-opacity:1\" cx=\"1398.64\" cy=\"651.527\" r=\"10\"/>\n",
       "<circle clip-path=\"url(#clip1403)\" style=\"fill:#0000ff; stroke:none; fill-opacity:1\" cx=\"1398.64\" cy=\"651.527\" r=\"7\"/>\n",
       "<circle clip-path=\"url(#clip1403)\" style=\"fill:#000000; stroke:none; fill-opacity:1\" cx=\"1419.6\" cy=\"674.433\" r=\"10\"/>\n",
       "<circle clip-path=\"url(#clip1403)\" style=\"fill:#0000ff; stroke:none; fill-opacity:1\" cx=\"1419.6\" cy=\"674.433\" r=\"7\"/>\n",
       "<circle clip-path=\"url(#clip1403)\" style=\"fill:#000000; stroke:none; fill-opacity:1\" cx=\"1440.57\" cy=\"697.491\" r=\"10\"/>\n",
       "<circle clip-path=\"url(#clip1403)\" style=\"fill:#0000ff; stroke:none; fill-opacity:1\" cx=\"1440.57\" cy=\"697.491\" r=\"7\"/>\n",
       "<circle clip-path=\"url(#clip1403)\" style=\"fill:#000000; stroke:none; fill-opacity:1\" cx=\"1461.54\" cy=\"720.651\" r=\"10\"/>\n",
       "<circle clip-path=\"url(#clip1403)\" style=\"fill:#0000ff; stroke:none; fill-opacity:1\" cx=\"1461.54\" cy=\"720.651\" r=\"7\"/>\n",
       "<circle clip-path=\"url(#clip1403)\" style=\"fill:#000000; stroke:none; fill-opacity:1\" cx=\"1482.51\" cy=\"743.863\" r=\"10\"/>\n",
       "<circle clip-path=\"url(#clip1403)\" style=\"fill:#0000ff; stroke:none; fill-opacity:1\" cx=\"1482.51\" cy=\"743.863\" r=\"7\"/>\n",
       "<circle clip-path=\"url(#clip1403)\" style=\"fill:#000000; stroke:none; fill-opacity:1\" cx=\"1503.48\" cy=\"767.075\" r=\"10\"/>\n",
       "<circle clip-path=\"url(#clip1403)\" style=\"fill:#0000ff; stroke:none; fill-opacity:1\" cx=\"1503.48\" cy=\"767.075\" r=\"7\"/>\n",
       "<circle clip-path=\"url(#clip1403)\" style=\"fill:#000000; stroke:none; fill-opacity:1\" cx=\"1524.45\" cy=\"790.236\" r=\"10\"/>\n",
       "<circle clip-path=\"url(#clip1403)\" style=\"fill:#0000ff; stroke:none; fill-opacity:1\" cx=\"1524.45\" cy=\"790.236\" r=\"7\"/>\n",
       "<circle clip-path=\"url(#clip1403)\" style=\"fill:#000000; stroke:none; fill-opacity:1\" cx=\"1545.42\" cy=\"813.294\" r=\"10\"/>\n",
       "<circle clip-path=\"url(#clip1403)\" style=\"fill:#0000ff; stroke:none; fill-opacity:1\" cx=\"1545.42\" cy=\"813.294\" r=\"7\"/>\n",
       "<circle clip-path=\"url(#clip1403)\" style=\"fill:#000000; stroke:none; fill-opacity:1\" cx=\"1566.39\" cy=\"836.199\" r=\"10\"/>\n",
       "<circle clip-path=\"url(#clip1403)\" style=\"fill:#0000ff; stroke:none; fill-opacity:1\" cx=\"1566.39\" cy=\"836.199\" r=\"7\"/>\n",
       "<circle clip-path=\"url(#clip1403)\" style=\"fill:#000000; stroke:none; fill-opacity:1\" cx=\"1587.35\" cy=\"858.903\" r=\"10\"/>\n",
       "<circle clip-path=\"url(#clip1403)\" style=\"fill:#0000ff; stroke:none; fill-opacity:1\" cx=\"1587.35\" cy=\"858.903\" r=\"7\"/>\n",
       "<circle clip-path=\"url(#clip1403)\" style=\"fill:#000000; stroke:none; fill-opacity:1\" cx=\"1608.32\" cy=\"881.359\" r=\"10\"/>\n",
       "<circle clip-path=\"url(#clip1403)\" style=\"fill:#0000ff; stroke:none; fill-opacity:1\" cx=\"1608.32\" cy=\"881.359\" r=\"7\"/>\n",
       "<circle clip-path=\"url(#clip1403)\" style=\"fill:#000000; stroke:none; fill-opacity:1\" cx=\"1629.29\" cy=\"903.521\" r=\"10\"/>\n",
       "<circle clip-path=\"url(#clip1403)\" style=\"fill:#0000ff; stroke:none; fill-opacity:1\" cx=\"1629.29\" cy=\"903.521\" r=\"7\"/>\n",
       "<circle clip-path=\"url(#clip1403)\" style=\"fill:#000000; stroke:none; fill-opacity:1\" cx=\"1650.26\" cy=\"925.347\" r=\"10\"/>\n",
       "<circle clip-path=\"url(#clip1403)\" style=\"fill:#0000ff; stroke:none; fill-opacity:1\" cx=\"1650.26\" cy=\"925.347\" r=\"7\"/>\n",
       "<circle clip-path=\"url(#clip1403)\" style=\"fill:#000000; stroke:none; fill-opacity:1\" cx=\"1671.23\" cy=\"946.797\" r=\"10\"/>\n",
       "<circle clip-path=\"url(#clip1403)\" style=\"fill:#0000ff; stroke:none; fill-opacity:1\" cx=\"1671.23\" cy=\"946.797\" r=\"7\"/>\n",
       "<circle clip-path=\"url(#clip1403)\" style=\"fill:#000000; stroke:none; fill-opacity:1\" cx=\"1692.2\" cy=\"967.835\" r=\"10\"/>\n",
       "<circle clip-path=\"url(#clip1403)\" style=\"fill:#0000ff; stroke:none; fill-opacity:1\" cx=\"1692.2\" cy=\"967.835\" r=\"7\"/>\n",
       "<circle clip-path=\"url(#clip1403)\" style=\"fill:#000000; stroke:none; fill-opacity:1\" cx=\"1713.17\" cy=\"988.427\" r=\"10\"/>\n",
       "<circle clip-path=\"url(#clip1403)\" style=\"fill:#0000ff; stroke:none; fill-opacity:1\" cx=\"1713.17\" cy=\"988.427\" r=\"7\"/>\n",
       "<circle clip-path=\"url(#clip1403)\" style=\"fill:#000000; stroke:none; fill-opacity:1\" cx=\"1734.14\" cy=\"1008.54\" r=\"10\"/>\n",
       "<circle clip-path=\"url(#clip1403)\" style=\"fill:#0000ff; stroke:none; fill-opacity:1\" cx=\"1734.14\" cy=\"1008.54\" r=\"7\"/>\n",
       "<circle clip-path=\"url(#clip1403)\" style=\"fill:#000000; stroke:none; fill-opacity:1\" cx=\"1755.1\" cy=\"1028.16\" r=\"10\"/>\n",
       "<circle clip-path=\"url(#clip1403)\" style=\"fill:#0000ff; stroke:none; fill-opacity:1\" cx=\"1755.1\" cy=\"1028.16\" r=\"7\"/>\n",
       "<circle clip-path=\"url(#clip1403)\" style=\"fill:#000000; stroke:none; fill-opacity:1\" cx=\"1776.07\" cy=\"1047.24\" r=\"10\"/>\n",
       "<circle clip-path=\"url(#clip1403)\" style=\"fill:#0000ff; stroke:none; fill-opacity:1\" cx=\"1776.07\" cy=\"1047.24\" r=\"7\"/>\n",
       "<circle clip-path=\"url(#clip1403)\" style=\"fill:#000000; stroke:none; fill-opacity:1\" cx=\"1797.04\" cy=\"1065.78\" r=\"10\"/>\n",
       "<circle clip-path=\"url(#clip1403)\" style=\"fill:#0000ff; stroke:none; fill-opacity:1\" cx=\"1797.04\" cy=\"1065.78\" r=\"7\"/>\n",
       "<circle clip-path=\"url(#clip1403)\" style=\"fill:#000000; stroke:none; fill-opacity:1\" cx=\"1818.01\" cy=\"1083.76\" r=\"10\"/>\n",
       "<circle clip-path=\"url(#clip1403)\" style=\"fill:#0000ff; stroke:none; fill-opacity:1\" cx=\"1818.01\" cy=\"1083.76\" r=\"7\"/>\n",
       "<circle clip-path=\"url(#clip1403)\" style=\"fill:#000000; stroke:none; fill-opacity:1\" cx=\"1838.98\" cy=\"1101.16\" r=\"10\"/>\n",
       "<circle clip-path=\"url(#clip1403)\" style=\"fill:#0000ff; stroke:none; fill-opacity:1\" cx=\"1838.98\" cy=\"1101.16\" r=\"7\"/>\n",
       "<circle clip-path=\"url(#clip1403)\" style=\"fill:#000000; stroke:none; fill-opacity:1\" cx=\"1859.95\" cy=\"1117.98\" r=\"10\"/>\n",
       "<circle clip-path=\"url(#clip1403)\" style=\"fill:#0000ff; stroke:none; fill-opacity:1\" cx=\"1859.95\" cy=\"1117.98\" r=\"7\"/>\n",
       "<circle clip-path=\"url(#clip1403)\" style=\"fill:#000000; stroke:none; fill-opacity:1\" cx=\"1880.92\" cy=\"1134.21\" r=\"10\"/>\n",
       "<circle clip-path=\"url(#clip1403)\" style=\"fill:#0000ff; stroke:none; fill-opacity:1\" cx=\"1880.92\" cy=\"1134.21\" r=\"7\"/>\n",
       "<circle clip-path=\"url(#clip1403)\" style=\"fill:#000000; stroke:none; fill-opacity:1\" cx=\"1901.89\" cy=\"1149.84\" r=\"10\"/>\n",
       "<circle clip-path=\"url(#clip1403)\" style=\"fill:#0000ff; stroke:none; fill-opacity:1\" cx=\"1901.89\" cy=\"1149.84\" r=\"7\"/>\n",
       "<circle clip-path=\"url(#clip1403)\" style=\"fill:#000000; stroke:none; fill-opacity:1\" cx=\"1922.85\" cy=\"1164.88\" r=\"10\"/>\n",
       "<circle clip-path=\"url(#clip1403)\" style=\"fill:#0000ff; stroke:none; fill-opacity:1\" cx=\"1922.85\" cy=\"1164.88\" r=\"7\"/>\n",
       "<circle clip-path=\"url(#clip1403)\" style=\"fill:#000000; stroke:none; fill-opacity:1\" cx=\"1943.82\" cy=\"1179.32\" r=\"10\"/>\n",
       "<circle clip-path=\"url(#clip1403)\" style=\"fill:#0000ff; stroke:none; fill-opacity:1\" cx=\"1943.82\" cy=\"1179.32\" r=\"7\"/>\n",
       "<circle clip-path=\"url(#clip1403)\" style=\"fill:#000000; stroke:none; fill-opacity:1\" cx=\"1964.79\" cy=\"1193.17\" r=\"10\"/>\n",
       "<circle clip-path=\"url(#clip1403)\" style=\"fill:#0000ff; stroke:none; fill-opacity:1\" cx=\"1964.79\" cy=\"1193.17\" r=\"7\"/>\n",
       "<circle clip-path=\"url(#clip1403)\" style=\"fill:#000000; stroke:none; fill-opacity:1\" cx=\"1985.76\" cy=\"1206.44\" r=\"10\"/>\n",
       "<circle clip-path=\"url(#clip1403)\" style=\"fill:#0000ff; stroke:none; fill-opacity:1\" cx=\"1985.76\" cy=\"1206.44\" r=\"7\"/>\n",
       "<circle clip-path=\"url(#clip1403)\" style=\"fill:#000000; stroke:none; fill-opacity:1\" cx=\"2006.73\" cy=\"1219.14\" r=\"10\"/>\n",
       "<circle clip-path=\"url(#clip1403)\" style=\"fill:#0000ff; stroke:none; fill-opacity:1\" cx=\"2006.73\" cy=\"1219.14\" r=\"7\"/>\n",
       "<circle clip-path=\"url(#clip1403)\" style=\"fill:#000000; stroke:none; fill-opacity:1\" cx=\"2027.7\" cy=\"1231.27\" r=\"10\"/>\n",
       "<circle clip-path=\"url(#clip1403)\" style=\"fill:#0000ff; stroke:none; fill-opacity:1\" cx=\"2027.7\" cy=\"1231.27\" r=\"7\"/>\n",
       "<circle clip-path=\"url(#clip1403)\" style=\"fill:#000000; stroke:none; fill-opacity:1\" cx=\"2048.67\" cy=\"1242.85\" r=\"10\"/>\n",
       "<circle clip-path=\"url(#clip1403)\" style=\"fill:#0000ff; stroke:none; fill-opacity:1\" cx=\"2048.67\" cy=\"1242.85\" r=\"7\"/>\n",
       "<circle clip-path=\"url(#clip1403)\" style=\"fill:#000000; stroke:none; fill-opacity:1\" cx=\"2069.64\" cy=\"1253.89\" r=\"10\"/>\n",
       "<circle clip-path=\"url(#clip1403)\" style=\"fill:#0000ff; stroke:none; fill-opacity:1\" cx=\"2069.64\" cy=\"1253.89\" r=\"7\"/>\n",
       "<circle clip-path=\"url(#clip1403)\" style=\"fill:#000000; stroke:none; fill-opacity:1\" cx=\"2090.6\" cy=\"1264.4\" r=\"10\"/>\n",
       "<circle clip-path=\"url(#clip1403)\" style=\"fill:#0000ff; stroke:none; fill-opacity:1\" cx=\"2090.6\" cy=\"1264.4\" r=\"7\"/>\n",
       "<circle clip-path=\"url(#clip1403)\" style=\"fill:#000000; stroke:none; fill-opacity:1\" cx=\"2111.57\" cy=\"1274.4\" r=\"10\"/>\n",
       "<circle clip-path=\"url(#clip1403)\" style=\"fill:#0000ff; stroke:none; fill-opacity:1\" cx=\"2111.57\" cy=\"1274.4\" r=\"7\"/>\n",
       "<circle clip-path=\"url(#clip1403)\" style=\"fill:#000000; stroke:none; fill-opacity:1\" cx=\"2132.54\" cy=\"1283.91\" r=\"10\"/>\n",
       "<circle clip-path=\"url(#clip1403)\" style=\"fill:#0000ff; stroke:none; fill-opacity:1\" cx=\"2132.54\" cy=\"1283.91\" r=\"7\"/>\n",
       "<circle clip-path=\"url(#clip1403)\" style=\"fill:#000000; stroke:none; fill-opacity:1\" cx=\"2153.51\" cy=\"1292.94\" r=\"10\"/>\n",
       "<circle clip-path=\"url(#clip1403)\" style=\"fill:#0000ff; stroke:none; fill-opacity:1\" cx=\"2153.51\" cy=\"1292.94\" r=\"7\"/>\n",
       "<circle clip-path=\"url(#clip1403)\" style=\"fill:#000000; stroke:none; fill-opacity:1\" cx=\"2174.48\" cy=\"1301.51\" r=\"10\"/>\n",
       "<circle clip-path=\"url(#clip1403)\" style=\"fill:#0000ff; stroke:none; fill-opacity:1\" cx=\"2174.48\" cy=\"1301.51\" r=\"7\"/>\n",
       "<circle clip-path=\"url(#clip1403)\" style=\"fill:#000000; stroke:none; fill-opacity:1\" cx=\"2195.45\" cy=\"1309.63\" r=\"10\"/>\n",
       "<circle clip-path=\"url(#clip1403)\" style=\"fill:#0000ff; stroke:none; fill-opacity:1\" cx=\"2195.45\" cy=\"1309.63\" r=\"7\"/>\n",
       "<circle clip-path=\"url(#clip1403)\" style=\"fill:#000000; stroke:none; fill-opacity:1\" cx=\"2216.42\" cy=\"1317.32\" r=\"10\"/>\n",
       "<circle clip-path=\"url(#clip1403)\" style=\"fill:#0000ff; stroke:none; fill-opacity:1\" cx=\"2216.42\" cy=\"1317.32\" r=\"7\"/>\n",
       "<circle clip-path=\"url(#clip1403)\" style=\"fill:#000000; stroke:none; fill-opacity:1\" cx=\"2237.38\" cy=\"1324.6\" r=\"10\"/>\n",
       "<circle clip-path=\"url(#clip1403)\" style=\"fill:#0000ff; stroke:none; fill-opacity:1\" cx=\"2237.38\" cy=\"1324.6\" r=\"7\"/>\n",
       "<circle clip-path=\"url(#clip1403)\" style=\"fill:#000000; stroke:none; fill-opacity:1\" cx=\"2258.35\" cy=\"1331.49\" r=\"10\"/>\n",
       "<circle clip-path=\"url(#clip1403)\" style=\"fill:#0000ff; stroke:none; fill-opacity:1\" cx=\"2258.35\" cy=\"1331.49\" r=\"7\"/>\n",
       "<circle clip-path=\"url(#clip1403)\" style=\"fill:#000000; stroke:none; fill-opacity:1\" cx=\"2279.32\" cy=\"1338\" r=\"10\"/>\n",
       "<circle clip-path=\"url(#clip1403)\" style=\"fill:#0000ff; stroke:none; fill-opacity:1\" cx=\"2279.32\" cy=\"1338\" r=\"7\"/>\n",
       "<circle clip-path=\"url(#clip1403)\" style=\"fill:#000000; stroke:none; fill-opacity:1\" cx=\"2300.29\" cy=\"1344.16\" r=\"10\"/>\n",
       "<circle clip-path=\"url(#clip1403)\" style=\"fill:#0000ff; stroke:none; fill-opacity:1\" cx=\"2300.29\" cy=\"1344.16\" r=\"7\"/>\n",
       "<circle clip-path=\"url(#clip1403)\" style=\"fill:#000000; stroke:none; fill-opacity:1\" cx=\"2321.26\" cy=\"1349.97\" r=\"10\"/>\n",
       "<circle clip-path=\"url(#clip1403)\" style=\"fill:#0000ff; stroke:none; fill-opacity:1\" cx=\"2321.26\" cy=\"1349.97\" r=\"7\"/>\n",
       "<circle clip-path=\"url(#clip1403)\" style=\"fill:#000000; stroke:none; fill-opacity:1\" cx=\"224.386\" cy=\"53.9383\" r=\"10\"/>\n",
       "<circle clip-path=\"url(#clip1403)\" style=\"fill:#000000; stroke:none; fill-opacity:1\" cx=\"224.386\" cy=\"53.9383\" r=\"7\"/>\n",
       "<circle clip-path=\"url(#clip1403)\" style=\"fill:#000000; stroke:none; fill-opacity:1\" cx=\"245.355\" cy=\"54.3974\" r=\"10\"/>\n",
       "<circle clip-path=\"url(#clip1403)\" style=\"fill:#000000; stroke:none; fill-opacity:1\" cx=\"245.355\" cy=\"54.3974\" r=\"7\"/>\n",
       "<circle clip-path=\"url(#clip1403)\" style=\"fill:#000000; stroke:none; fill-opacity:1\" cx=\"266.324\" cy=\"54.8878\" r=\"10\"/>\n",
       "<circle clip-path=\"url(#clip1403)\" style=\"fill:#000000; stroke:none; fill-opacity:1\" cx=\"266.324\" cy=\"54.8878\" r=\"7\"/>\n",
       "<circle clip-path=\"url(#clip1403)\" style=\"fill:#000000; stroke:none; fill-opacity:1\" cx=\"287.292\" cy=\"55.4117\" r=\"10\"/>\n",
       "<circle clip-path=\"url(#clip1403)\" style=\"fill:#000000; stroke:none; fill-opacity:1\" cx=\"287.292\" cy=\"55.4117\" r=\"7\"/>\n",
       "<circle clip-path=\"url(#clip1403)\" style=\"fill:#000000; stroke:none; fill-opacity:1\" cx=\"308.261\" cy=\"55.9712\" r=\"10\"/>\n",
       "<circle clip-path=\"url(#clip1403)\" style=\"fill:#000000; stroke:none; fill-opacity:1\" cx=\"308.261\" cy=\"55.9712\" r=\"7\"/>\n",
       "<circle clip-path=\"url(#clip1403)\" style=\"fill:#000000; stroke:none; fill-opacity:1\" cx=\"329.23\" cy=\"56.5688\" r=\"10\"/>\n",
       "<circle clip-path=\"url(#clip1403)\" style=\"fill:#000000; stroke:none; fill-opacity:1\" cx=\"329.23\" cy=\"56.5688\" r=\"7\"/>\n",
       "<circle clip-path=\"url(#clip1403)\" style=\"fill:#000000; stroke:none; fill-opacity:1\" cx=\"350.199\" cy=\"57.2071\" r=\"10\"/>\n",
       "<circle clip-path=\"url(#clip1403)\" style=\"fill:#000000; stroke:none; fill-opacity:1\" cx=\"350.199\" cy=\"57.2071\" r=\"7\"/>\n",
       "<circle clip-path=\"url(#clip1403)\" style=\"fill:#000000; stroke:none; fill-opacity:1\" cx=\"371.167\" cy=\"57.8887\" r=\"10\"/>\n",
       "<circle clip-path=\"url(#clip1403)\" style=\"fill:#000000; stroke:none; fill-opacity:1\" cx=\"371.167\" cy=\"57.8887\" r=\"7\"/>\n",
       "<circle clip-path=\"url(#clip1403)\" style=\"fill:#000000; stroke:none; fill-opacity:1\" cx=\"392.136\" cy=\"58.6165\" r=\"10\"/>\n",
       "<circle clip-path=\"url(#clip1403)\" style=\"fill:#000000; stroke:none; fill-opacity:1\" cx=\"392.136\" cy=\"58.6165\" r=\"7\"/>\n",
       "<circle clip-path=\"url(#clip1403)\" style=\"fill:#000000; stroke:none; fill-opacity:1\" cx=\"413.105\" cy=\"59.3937\" r=\"10\"/>\n",
       "<circle clip-path=\"url(#clip1403)\" style=\"fill:#000000; stroke:none; fill-opacity:1\" cx=\"413.105\" cy=\"59.3937\" r=\"7\"/>\n",
       "<circle clip-path=\"url(#clip1403)\" style=\"fill:#000000; stroke:none; fill-opacity:1\" cx=\"434.074\" cy=\"60.2234\" r=\"10\"/>\n",
       "<circle clip-path=\"url(#clip1403)\" style=\"fill:#000000; stroke:none; fill-opacity:1\" cx=\"434.074\" cy=\"60.2234\" r=\"7\"/>\n",
       "<circle clip-path=\"url(#clip1403)\" style=\"fill:#000000; stroke:none; fill-opacity:1\" cx=\"455.042\" cy=\"61.1093\" r=\"10\"/>\n",
       "<circle clip-path=\"url(#clip1403)\" style=\"fill:#000000; stroke:none; fill-opacity:1\" cx=\"455.042\" cy=\"61.1093\" r=\"7\"/>\n",
       "<circle clip-path=\"url(#clip1403)\" style=\"fill:#000000; stroke:none; fill-opacity:1\" cx=\"476.011\" cy=\"62.055\" r=\"10\"/>\n",
       "<circle clip-path=\"url(#clip1403)\" style=\"fill:#000000; stroke:none; fill-opacity:1\" cx=\"476.011\" cy=\"62.055\" r=\"7\"/>\n",
       "<circle clip-path=\"url(#clip1403)\" style=\"fill:#000000; stroke:none; fill-opacity:1\" cx=\"496.98\" cy=\"63.0645\" r=\"10\"/>\n",
       "<circle clip-path=\"url(#clip1403)\" style=\"fill:#000000; stroke:none; fill-opacity:1\" cx=\"496.98\" cy=\"63.0645\" r=\"7\"/>\n",
       "<circle clip-path=\"url(#clip1403)\" style=\"fill:#000000; stroke:none; fill-opacity:1\" cx=\"517.948\" cy=\"64.1419\" r=\"10\"/>\n",
       "<circle clip-path=\"url(#clip1403)\" style=\"fill:#000000; stroke:none; fill-opacity:1\" cx=\"517.948\" cy=\"64.1419\" r=\"7\"/>\n",
       "<circle clip-path=\"url(#clip1403)\" style=\"fill:#000000; stroke:none; fill-opacity:1\" cx=\"538.917\" cy=\"65.2917\" r=\"10\"/>\n",
       "<circle clip-path=\"url(#clip1403)\" style=\"fill:#000000; stroke:none; fill-opacity:1\" cx=\"538.917\" cy=\"65.2917\" r=\"7\"/>\n",
       "<circle clip-path=\"url(#clip1403)\" style=\"fill:#000000; stroke:none; fill-opacity:1\" cx=\"559.886\" cy=\"66.5187\" r=\"10\"/>\n",
       "<circle clip-path=\"url(#clip1403)\" style=\"fill:#000000; stroke:none; fill-opacity:1\" cx=\"559.886\" cy=\"66.5187\" r=\"7\"/>\n",
       "<circle clip-path=\"url(#clip1403)\" style=\"fill:#000000; stroke:none; fill-opacity:1\" cx=\"580.855\" cy=\"67.8278\" r=\"10\"/>\n",
       "<circle clip-path=\"url(#clip1403)\" style=\"fill:#000000; stroke:none; fill-opacity:1\" cx=\"580.855\" cy=\"67.8278\" r=\"7\"/>\n",
       "<circle clip-path=\"url(#clip1403)\" style=\"fill:#000000; stroke:none; fill-opacity:1\" cx=\"601.823\" cy=\"69.2245\" r=\"10\"/>\n",
       "<circle clip-path=\"url(#clip1403)\" style=\"fill:#000000; stroke:none; fill-opacity:1\" cx=\"601.823\" cy=\"69.2245\" r=\"7\"/>\n",
       "<circle clip-path=\"url(#clip1403)\" style=\"fill:#000000; stroke:none; fill-opacity:1\" cx=\"622.792\" cy=\"70.7143\" r=\"10\"/>\n",
       "<circle clip-path=\"url(#clip1403)\" style=\"fill:#000000; stroke:none; fill-opacity:1\" cx=\"622.792\" cy=\"70.7143\" r=\"7\"/>\n",
       "<circle clip-path=\"url(#clip1403)\" style=\"fill:#000000; stroke:none; fill-opacity:1\" cx=\"643.761\" cy=\"72.3032\" r=\"10\"/>\n",
       "<circle clip-path=\"url(#clip1403)\" style=\"fill:#000000; stroke:none; fill-opacity:1\" cx=\"643.761\" cy=\"72.3032\" r=\"7\"/>\n",
       "<circle clip-path=\"url(#clip1403)\" style=\"fill:#000000; stroke:none; fill-opacity:1\" cx=\"664.73\" cy=\"73.9976\" r=\"10\"/>\n",
       "<circle clip-path=\"url(#clip1403)\" style=\"fill:#000000; stroke:none; fill-opacity:1\" cx=\"664.73\" cy=\"73.9976\" r=\"7\"/>\n",
       "<circle clip-path=\"url(#clip1403)\" style=\"fill:#000000; stroke:none; fill-opacity:1\" cx=\"685.698\" cy=\"75.8041\" r=\"10\"/>\n",
       "<circle clip-path=\"url(#clip1403)\" style=\"fill:#000000; stroke:none; fill-opacity:1\" cx=\"685.698\" cy=\"75.8041\" r=\"7\"/>\n",
       "<circle clip-path=\"url(#clip1403)\" style=\"fill:#000000; stroke:none; fill-opacity:1\" cx=\"706.667\" cy=\"77.7299\" r=\"10\"/>\n",
       "<circle clip-path=\"url(#clip1403)\" style=\"fill:#000000; stroke:none; fill-opacity:1\" cx=\"706.667\" cy=\"77.7299\" r=\"7\"/>\n",
       "<circle clip-path=\"url(#clip1403)\" style=\"fill:#000000; stroke:none; fill-opacity:1\" cx=\"727.636\" cy=\"79.7825\" r=\"10\"/>\n",
       "<circle clip-path=\"url(#clip1403)\" style=\"fill:#000000; stroke:none; fill-opacity:1\" cx=\"727.636\" cy=\"79.7825\" r=\"7\"/>\n",
       "<circle clip-path=\"url(#clip1403)\" style=\"fill:#000000; stroke:none; fill-opacity:1\" cx=\"748.605\" cy=\"81.9698\" r=\"10\"/>\n",
       "<circle clip-path=\"url(#clip1403)\" style=\"fill:#000000; stroke:none; fill-opacity:1\" cx=\"748.605\" cy=\"81.9698\" r=\"7\"/>\n",
       "<circle clip-path=\"url(#clip1403)\" style=\"fill:#000000; stroke:none; fill-opacity:1\" cx=\"769.573\" cy=\"84.3001\" r=\"10\"/>\n",
       "<circle clip-path=\"url(#clip1403)\" style=\"fill:#000000; stroke:none; fill-opacity:1\" cx=\"769.573\" cy=\"84.3001\" r=\"7\"/>\n",
       "<circle clip-path=\"url(#clip1403)\" style=\"fill:#000000; stroke:none; fill-opacity:1\" cx=\"790.542\" cy=\"86.7822\" r=\"10\"/>\n",
       "<circle clip-path=\"url(#clip1403)\" style=\"fill:#000000; stroke:none; fill-opacity:1\" cx=\"790.542\" cy=\"86.7822\" r=\"7\"/>\n",
       "<circle clip-path=\"url(#clip1403)\" style=\"fill:#000000; stroke:none; fill-opacity:1\" cx=\"811.511\" cy=\"89.4254\" r=\"10\"/>\n",
       "<circle clip-path=\"url(#clip1403)\" style=\"fill:#000000; stroke:none; fill-opacity:1\" cx=\"811.511\" cy=\"89.4254\" r=\"7\"/>\n",
       "<circle clip-path=\"url(#clip1403)\" style=\"fill:#000000; stroke:none; fill-opacity:1\" cx=\"832.48\" cy=\"92.2394\" r=\"10\"/>\n",
       "<circle clip-path=\"url(#clip1403)\" style=\"fill:#000000; stroke:none; fill-opacity:1\" cx=\"832.48\" cy=\"92.2394\" r=\"7\"/>\n",
       "<circle clip-path=\"url(#clip1403)\" style=\"fill:#000000; stroke:none; fill-opacity:1\" cx=\"853.448\" cy=\"95.2345\" r=\"10\"/>\n",
       "<circle clip-path=\"url(#clip1403)\" style=\"fill:#000000; stroke:none; fill-opacity:1\" cx=\"853.448\" cy=\"95.2345\" r=\"7\"/>\n",
       "<circle clip-path=\"url(#clip1403)\" style=\"fill:#000000; stroke:none; fill-opacity:1\" cx=\"874.417\" cy=\"98.4214\" r=\"10\"/>\n",
       "<circle clip-path=\"url(#clip1403)\" style=\"fill:#000000; stroke:none; fill-opacity:1\" cx=\"874.417\" cy=\"98.4214\" r=\"7\"/>\n",
       "<circle clip-path=\"url(#clip1403)\" style=\"fill:#000000; stroke:none; fill-opacity:1\" cx=\"895.386\" cy=\"101.811\" r=\"10\"/>\n",
       "<circle clip-path=\"url(#clip1403)\" style=\"fill:#000000; stroke:none; fill-opacity:1\" cx=\"895.386\" cy=\"101.811\" r=\"7\"/>\n",
       "<circle clip-path=\"url(#clip1403)\" style=\"fill:#000000; stroke:none; fill-opacity:1\" cx=\"916.354\" cy=\"105.416\" r=\"10\"/>\n",
       "<circle clip-path=\"url(#clip1403)\" style=\"fill:#000000; stroke:none; fill-opacity:1\" cx=\"916.354\" cy=\"105.416\" r=\"7\"/>\n",
       "<circle clip-path=\"url(#clip1403)\" style=\"fill:#000000; stroke:none; fill-opacity:1\" cx=\"937.323\" cy=\"109.248\" r=\"10\"/>\n",
       "<circle clip-path=\"url(#clip1403)\" style=\"fill:#000000; stroke:none; fill-opacity:1\" cx=\"937.323\" cy=\"109.248\" r=\"7\"/>\n",
       "<circle clip-path=\"url(#clip1403)\" style=\"fill:#000000; stroke:none; fill-opacity:1\" cx=\"958.292\" cy=\"113.32\" r=\"10\"/>\n",
       "<circle clip-path=\"url(#clip1403)\" style=\"fill:#000000; stroke:none; fill-opacity:1\" cx=\"958.292\" cy=\"113.32\" r=\"7\"/>\n",
       "<circle clip-path=\"url(#clip1403)\" style=\"fill:#000000; stroke:none; fill-opacity:1\" cx=\"979.261\" cy=\"117.645\" r=\"10\"/>\n",
       "<circle clip-path=\"url(#clip1403)\" style=\"fill:#000000; stroke:none; fill-opacity:1\" cx=\"979.261\" cy=\"117.645\" r=\"7\"/>\n",
       "<circle clip-path=\"url(#clip1403)\" style=\"fill:#000000; stroke:none; fill-opacity:1\" cx=\"1000.23\" cy=\"122.237\" r=\"10\"/>\n",
       "<circle clip-path=\"url(#clip1403)\" style=\"fill:#000000; stroke:none; fill-opacity:1\" cx=\"1000.23\" cy=\"122.237\" r=\"7\"/>\n",
       "<circle clip-path=\"url(#clip1403)\" style=\"fill:#000000; stroke:none; fill-opacity:1\" cx=\"1021.2\" cy=\"127.11\" r=\"10\"/>\n",
       "<circle clip-path=\"url(#clip1403)\" style=\"fill:#000000; stroke:none; fill-opacity:1\" cx=\"1021.2\" cy=\"127.11\" r=\"7\"/>\n",
       "<circle clip-path=\"url(#clip1403)\" style=\"fill:#000000; stroke:none; fill-opacity:1\" cx=\"1042.17\" cy=\"132.28\" r=\"10\"/>\n",
       "<circle clip-path=\"url(#clip1403)\" style=\"fill:#000000; stroke:none; fill-opacity:1\" cx=\"1042.17\" cy=\"132.28\" r=\"7\"/>\n",
       "<circle clip-path=\"url(#clip1403)\" style=\"fill:#000000; stroke:none; fill-opacity:1\" cx=\"1063.14\" cy=\"137.762\" r=\"10\"/>\n",
       "<circle clip-path=\"url(#clip1403)\" style=\"fill:#000000; stroke:none; fill-opacity:1\" cx=\"1063.14\" cy=\"137.762\" r=\"7\"/>\n",
       "<circle clip-path=\"url(#clip1403)\" style=\"fill:#000000; stroke:none; fill-opacity:1\" cx=\"1084.1\" cy=\"143.57\" r=\"10\"/>\n",
       "<circle clip-path=\"url(#clip1403)\" style=\"fill:#000000; stroke:none; fill-opacity:1\" cx=\"1084.1\" cy=\"143.57\" r=\"7\"/>\n",
       "<circle clip-path=\"url(#clip1403)\" style=\"fill:#000000; stroke:none; fill-opacity:1\" cx=\"1105.07\" cy=\"149.723\" r=\"10\"/>\n",
       "<circle clip-path=\"url(#clip1403)\" style=\"fill:#000000; stroke:none; fill-opacity:1\" cx=\"1105.07\" cy=\"149.723\" r=\"7\"/>\n",
       "<circle clip-path=\"url(#clip1403)\" style=\"fill:#000000; stroke:none; fill-opacity:1\" cx=\"1126.04\" cy=\"156.235\" r=\"10\"/>\n",
       "<circle clip-path=\"url(#clip1403)\" style=\"fill:#000000; stroke:none; fill-opacity:1\" cx=\"1126.04\" cy=\"156.235\" r=\"7\"/>\n",
       "<circle clip-path=\"url(#clip1403)\" style=\"fill:#000000; stroke:none; fill-opacity:1\" cx=\"1147.01\" cy=\"163.123\" r=\"10\"/>\n",
       "<circle clip-path=\"url(#clip1403)\" style=\"fill:#000000; stroke:none; fill-opacity:1\" cx=\"1147.01\" cy=\"163.123\" r=\"7\"/>\n",
       "<circle clip-path=\"url(#clip1403)\" style=\"fill:#000000; stroke:none; fill-opacity:1\" cx=\"1167.98\" cy=\"170.406\" r=\"10\"/>\n",
       "<circle clip-path=\"url(#clip1403)\" style=\"fill:#000000; stroke:none; fill-opacity:1\" cx=\"1167.98\" cy=\"170.406\" r=\"7\"/>\n",
       "<circle clip-path=\"url(#clip1403)\" style=\"fill:#000000; stroke:none; fill-opacity:1\" cx=\"1188.95\" cy=\"178.099\" r=\"10\"/>\n",
       "<circle clip-path=\"url(#clip1403)\" style=\"fill:#000000; stroke:none; fill-opacity:1\" cx=\"1188.95\" cy=\"178.099\" r=\"7\"/>\n",
       "<circle clip-path=\"url(#clip1403)\" style=\"fill:#000000; stroke:none; fill-opacity:1\" cx=\"1209.92\" cy=\"186.22\" r=\"10\"/>\n",
       "<circle clip-path=\"url(#clip1403)\" style=\"fill:#000000; stroke:none; fill-opacity:1\" cx=\"1209.92\" cy=\"186.22\" r=\"7\"/>\n",
       "<circle clip-path=\"url(#clip1403)\" style=\"fill:#000000; stroke:none; fill-opacity:1\" cx=\"1230.89\" cy=\"194.787\" r=\"10\"/>\n",
       "<circle clip-path=\"url(#clip1403)\" style=\"fill:#000000; stroke:none; fill-opacity:1\" cx=\"1230.89\" cy=\"194.787\" r=\"7\"/>\n",
       "<circle clip-path=\"url(#clip1403)\" style=\"fill:#000000; stroke:none; fill-opacity:1\" cx=\"1251.85\" cy=\"203.815\" r=\"10\"/>\n",
       "<circle clip-path=\"url(#clip1403)\" style=\"fill:#000000; stroke:none; fill-opacity:1\" cx=\"1251.85\" cy=\"203.815\" r=\"7\"/>\n",
       "<circle clip-path=\"url(#clip1403)\" style=\"fill:#000000; stroke:none; fill-opacity:1\" cx=\"1272.82\" cy=\"213.322\" r=\"10\"/>\n",
       "<circle clip-path=\"url(#clip1403)\" style=\"fill:#000000; stroke:none; fill-opacity:1\" cx=\"1272.82\" cy=\"213.322\" r=\"7\"/>\n",
       "<circle clip-path=\"url(#clip1403)\" style=\"fill:#000000; stroke:none; fill-opacity:1\" cx=\"1293.79\" cy=\"223.324\" r=\"10\"/>\n",
       "<circle clip-path=\"url(#clip1403)\" style=\"fill:#000000; stroke:none; fill-opacity:1\" cx=\"1293.79\" cy=\"223.324\" r=\"7\"/>\n",
       "<circle clip-path=\"url(#clip1403)\" style=\"fill:#000000; stroke:none; fill-opacity:1\" cx=\"1314.76\" cy=\"233.838\" r=\"10\"/>\n",
       "<circle clip-path=\"url(#clip1403)\" style=\"fill:#000000; stroke:none; fill-opacity:1\" cx=\"1314.76\" cy=\"233.838\" r=\"7\"/>\n",
       "<circle clip-path=\"url(#clip1403)\" style=\"fill:#000000; stroke:none; fill-opacity:1\" cx=\"1335.73\" cy=\"244.876\" r=\"10\"/>\n",
       "<circle clip-path=\"url(#clip1403)\" style=\"fill:#000000; stroke:none; fill-opacity:1\" cx=\"1335.73\" cy=\"244.876\" r=\"7\"/>\n",
       "<circle clip-path=\"url(#clip1403)\" style=\"fill:#000000; stroke:none; fill-opacity:1\" cx=\"1356.7\" cy=\"256.455\" r=\"10\"/>\n",
       "<circle clip-path=\"url(#clip1403)\" style=\"fill:#000000; stroke:none; fill-opacity:1\" cx=\"1356.7\" cy=\"256.455\" r=\"7\"/>\n",
       "<circle clip-path=\"url(#clip1403)\" style=\"fill:#000000; stroke:none; fill-opacity:1\" cx=\"1377.67\" cy=\"268.587\" r=\"10\"/>\n",
       "<circle clip-path=\"url(#clip1403)\" style=\"fill:#000000; stroke:none; fill-opacity:1\" cx=\"1377.67\" cy=\"268.587\" r=\"7\"/>\n",
       "<circle clip-path=\"url(#clip1403)\" style=\"fill:#000000; stroke:none; fill-opacity:1\" cx=\"1398.64\" cy=\"281.283\" r=\"10\"/>\n",
       "<circle clip-path=\"url(#clip1403)\" style=\"fill:#000000; stroke:none; fill-opacity:1\" cx=\"1398.64\" cy=\"281.283\" r=\"7\"/>\n",
       "<circle clip-path=\"url(#clip1403)\" style=\"fill:#000000; stroke:none; fill-opacity:1\" cx=\"1419.6\" cy=\"294.553\" r=\"10\"/>\n",
       "<circle clip-path=\"url(#clip1403)\" style=\"fill:#000000; stroke:none; fill-opacity:1\" cx=\"1419.6\" cy=\"294.553\" r=\"7\"/>\n",
       "<circle clip-path=\"url(#clip1403)\" style=\"fill:#000000; stroke:none; fill-opacity:1\" cx=\"1440.57\" cy=\"308.406\" r=\"10\"/>\n",
       "<circle clip-path=\"url(#clip1403)\" style=\"fill:#000000; stroke:none; fill-opacity:1\" cx=\"1440.57\" cy=\"308.406\" r=\"7\"/>\n",
       "<circle clip-path=\"url(#clip1403)\" style=\"fill:#000000; stroke:none; fill-opacity:1\" cx=\"1461.54\" cy=\"322.849\" r=\"10\"/>\n",
       "<circle clip-path=\"url(#clip1403)\" style=\"fill:#000000; stroke:none; fill-opacity:1\" cx=\"1461.54\" cy=\"322.849\" r=\"7\"/>\n",
       "<circle clip-path=\"url(#clip1403)\" style=\"fill:#000000; stroke:none; fill-opacity:1\" cx=\"1482.51\" cy=\"337.886\" r=\"10\"/>\n",
       "<circle clip-path=\"url(#clip1403)\" style=\"fill:#000000; stroke:none; fill-opacity:1\" cx=\"1482.51\" cy=\"337.886\" r=\"7\"/>\n",
       "<circle clip-path=\"url(#clip1403)\" style=\"fill:#000000; stroke:none; fill-opacity:1\" cx=\"1503.48\" cy=\"353.517\" r=\"10\"/>\n",
       "<circle clip-path=\"url(#clip1403)\" style=\"fill:#000000; stroke:none; fill-opacity:1\" cx=\"1503.48\" cy=\"353.517\" r=\"7\"/>\n",
       "<circle clip-path=\"url(#clip1403)\" style=\"fill:#000000; stroke:none; fill-opacity:1\" cx=\"1524.45\" cy=\"369.744\" r=\"10\"/>\n",
       "<circle clip-path=\"url(#clip1403)\" style=\"fill:#000000; stroke:none; fill-opacity:1\" cx=\"1524.45\" cy=\"369.744\" r=\"7\"/>\n",
       "<circle clip-path=\"url(#clip1403)\" style=\"fill:#000000; stroke:none; fill-opacity:1\" cx=\"1545.42\" cy=\"386.562\" r=\"10\"/>\n",
       "<circle clip-path=\"url(#clip1403)\" style=\"fill:#000000; stroke:none; fill-opacity:1\" cx=\"1545.42\" cy=\"386.562\" r=\"7\"/>\n",
       "<circle clip-path=\"url(#clip1403)\" style=\"fill:#000000; stroke:none; fill-opacity:1\" cx=\"1566.39\" cy=\"403.965\" r=\"10\"/>\n",
       "<circle clip-path=\"url(#clip1403)\" style=\"fill:#000000; stroke:none; fill-opacity:1\" cx=\"1566.39\" cy=\"403.965\" r=\"7\"/>\n",
       "<circle clip-path=\"url(#clip1403)\" style=\"fill:#000000; stroke:none; fill-opacity:1\" cx=\"1587.35\" cy=\"421.944\" r=\"10\"/>\n",
       "<circle clip-path=\"url(#clip1403)\" style=\"fill:#000000; stroke:none; fill-opacity:1\" cx=\"1587.35\" cy=\"421.944\" r=\"7\"/>\n",
       "<circle clip-path=\"url(#clip1403)\" style=\"fill:#000000; stroke:none; fill-opacity:1\" cx=\"1608.32\" cy=\"440.484\" r=\"10\"/>\n",
       "<circle clip-path=\"url(#clip1403)\" style=\"fill:#000000; stroke:none; fill-opacity:1\" cx=\"1608.32\" cy=\"440.484\" r=\"7\"/>\n",
       "<circle clip-path=\"url(#clip1403)\" style=\"fill:#000000; stroke:none; fill-opacity:1\" cx=\"1629.29\" cy=\"459.571\" r=\"10\"/>\n",
       "<circle clip-path=\"url(#clip1403)\" style=\"fill:#000000; stroke:none; fill-opacity:1\" cx=\"1629.29\" cy=\"459.571\" r=\"7\"/>\n",
       "<circle clip-path=\"url(#clip1403)\" style=\"fill:#000000; stroke:none; fill-opacity:1\" cx=\"1650.26\" cy=\"479.184\" r=\"10\"/>\n",
       "<circle clip-path=\"url(#clip1403)\" style=\"fill:#000000; stroke:none; fill-opacity:1\" cx=\"1650.26\" cy=\"479.184\" r=\"7\"/>\n",
       "<circle clip-path=\"url(#clip1403)\" style=\"fill:#000000; stroke:none; fill-opacity:1\" cx=\"1671.23\" cy=\"499.299\" r=\"10\"/>\n",
       "<circle clip-path=\"url(#clip1403)\" style=\"fill:#000000; stroke:none; fill-opacity:1\" cx=\"1671.23\" cy=\"499.299\" r=\"7\"/>\n",
       "<circle clip-path=\"url(#clip1403)\" style=\"fill:#000000; stroke:none; fill-opacity:1\" cx=\"1692.2\" cy=\"519.891\" r=\"10\"/>\n",
       "<circle clip-path=\"url(#clip1403)\" style=\"fill:#000000; stroke:none; fill-opacity:1\" cx=\"1692.2\" cy=\"519.891\" r=\"7\"/>\n",
       "<circle clip-path=\"url(#clip1403)\" style=\"fill:#000000; stroke:none; fill-opacity:1\" cx=\"1713.17\" cy=\"540.929\" r=\"10\"/>\n",
       "<circle clip-path=\"url(#clip1403)\" style=\"fill:#000000; stroke:none; fill-opacity:1\" cx=\"1713.17\" cy=\"540.929\" r=\"7\"/>\n",
       "<circle clip-path=\"url(#clip1403)\" style=\"fill:#000000; stroke:none; fill-opacity:1\" cx=\"1734.14\" cy=\"562.38\" r=\"10\"/>\n",
       "<circle clip-path=\"url(#clip1403)\" style=\"fill:#000000; stroke:none; fill-opacity:1\" cx=\"1734.14\" cy=\"562.38\" r=\"7\"/>\n",
       "<circle clip-path=\"url(#clip1403)\" style=\"fill:#000000; stroke:none; fill-opacity:1\" cx=\"1755.1\" cy=\"584.206\" r=\"10\"/>\n",
       "<circle clip-path=\"url(#clip1403)\" style=\"fill:#000000; stroke:none; fill-opacity:1\" cx=\"1755.1\" cy=\"584.206\" r=\"7\"/>\n",
       "<circle clip-path=\"url(#clip1403)\" style=\"fill:#000000; stroke:none; fill-opacity:1\" cx=\"1776.07\" cy=\"606.368\" r=\"10\"/>\n",
       "<circle clip-path=\"url(#clip1403)\" style=\"fill:#000000; stroke:none; fill-opacity:1\" cx=\"1776.07\" cy=\"606.368\" r=\"7\"/>\n",
       "<circle clip-path=\"url(#clip1403)\" style=\"fill:#000000; stroke:none; fill-opacity:1\" cx=\"1797.04\" cy=\"628.823\" r=\"10\"/>\n",
       "<circle clip-path=\"url(#clip1403)\" style=\"fill:#000000; stroke:none; fill-opacity:1\" cx=\"1797.04\" cy=\"628.823\" r=\"7\"/>\n",
       "<circle clip-path=\"url(#clip1403)\" style=\"fill:#000000; stroke:none; fill-opacity:1\" cx=\"1818.01\" cy=\"651.527\" r=\"10\"/>\n",
       "<circle clip-path=\"url(#clip1403)\" style=\"fill:#000000; stroke:none; fill-opacity:1\" cx=\"1818.01\" cy=\"651.527\" r=\"7\"/>\n",
       "<circle clip-path=\"url(#clip1403)\" style=\"fill:#000000; stroke:none; fill-opacity:1\" cx=\"1838.98\" cy=\"674.433\" r=\"10\"/>\n",
       "<circle clip-path=\"url(#clip1403)\" style=\"fill:#000000; stroke:none; fill-opacity:1\" cx=\"1838.98\" cy=\"674.433\" r=\"7\"/>\n",
       "<circle clip-path=\"url(#clip1403)\" style=\"fill:#000000; stroke:none; fill-opacity:1\" cx=\"1859.95\" cy=\"697.491\" r=\"10\"/>\n",
       "<circle clip-path=\"url(#clip1403)\" style=\"fill:#000000; stroke:none; fill-opacity:1\" cx=\"1859.95\" cy=\"697.491\" r=\"7\"/>\n",
       "<circle clip-path=\"url(#clip1403)\" style=\"fill:#000000; stroke:none; fill-opacity:1\" cx=\"1880.92\" cy=\"720.651\" r=\"10\"/>\n",
       "<circle clip-path=\"url(#clip1403)\" style=\"fill:#000000; stroke:none; fill-opacity:1\" cx=\"1880.92\" cy=\"720.651\" r=\"7\"/>\n",
       "<circle clip-path=\"url(#clip1403)\" style=\"fill:#000000; stroke:none; fill-opacity:1\" cx=\"1901.89\" cy=\"743.863\" r=\"10\"/>\n",
       "<circle clip-path=\"url(#clip1403)\" style=\"fill:#000000; stroke:none; fill-opacity:1\" cx=\"1901.89\" cy=\"743.863\" r=\"7\"/>\n",
       "<circle clip-path=\"url(#clip1403)\" style=\"fill:#000000; stroke:none; fill-opacity:1\" cx=\"1922.85\" cy=\"767.075\" r=\"10\"/>\n",
       "<circle clip-path=\"url(#clip1403)\" style=\"fill:#000000; stroke:none; fill-opacity:1\" cx=\"1922.85\" cy=\"767.075\" r=\"7\"/>\n",
       "<circle clip-path=\"url(#clip1403)\" style=\"fill:#000000; stroke:none; fill-opacity:1\" cx=\"1943.82\" cy=\"790.236\" r=\"10\"/>\n",
       "<circle clip-path=\"url(#clip1403)\" style=\"fill:#000000; stroke:none; fill-opacity:1\" cx=\"1943.82\" cy=\"790.236\" r=\"7\"/>\n",
       "<circle clip-path=\"url(#clip1403)\" style=\"fill:#000000; stroke:none; fill-opacity:1\" cx=\"1964.79\" cy=\"813.294\" r=\"10\"/>\n",
       "<circle clip-path=\"url(#clip1403)\" style=\"fill:#000000; stroke:none; fill-opacity:1\" cx=\"1964.79\" cy=\"813.294\" r=\"7\"/>\n",
       "<circle clip-path=\"url(#clip1403)\" style=\"fill:#000000; stroke:none; fill-opacity:1\" cx=\"1985.76\" cy=\"836.199\" r=\"10\"/>\n",
       "<circle clip-path=\"url(#clip1403)\" style=\"fill:#000000; stroke:none; fill-opacity:1\" cx=\"1985.76\" cy=\"836.199\" r=\"7\"/>\n",
       "<circle clip-path=\"url(#clip1403)\" style=\"fill:#000000; stroke:none; fill-opacity:1\" cx=\"2006.73\" cy=\"858.903\" r=\"10\"/>\n",
       "<circle clip-path=\"url(#clip1403)\" style=\"fill:#000000; stroke:none; fill-opacity:1\" cx=\"2006.73\" cy=\"858.903\" r=\"7\"/>\n",
       "<circle clip-path=\"url(#clip1403)\" style=\"fill:#000000; stroke:none; fill-opacity:1\" cx=\"2027.7\" cy=\"881.359\" r=\"10\"/>\n",
       "<circle clip-path=\"url(#clip1403)\" style=\"fill:#000000; stroke:none; fill-opacity:1\" cx=\"2027.7\" cy=\"881.359\" r=\"7\"/>\n",
       "<circle clip-path=\"url(#clip1403)\" style=\"fill:#000000; stroke:none; fill-opacity:1\" cx=\"2048.67\" cy=\"903.521\" r=\"10\"/>\n",
       "<circle clip-path=\"url(#clip1403)\" style=\"fill:#000000; stroke:none; fill-opacity:1\" cx=\"2048.67\" cy=\"903.521\" r=\"7\"/>\n",
       "<circle clip-path=\"url(#clip1403)\" style=\"fill:#000000; stroke:none; fill-opacity:1\" cx=\"2069.64\" cy=\"925.347\" r=\"10\"/>\n",
       "<circle clip-path=\"url(#clip1403)\" style=\"fill:#000000; stroke:none; fill-opacity:1\" cx=\"2069.64\" cy=\"925.347\" r=\"7\"/>\n",
       "<circle clip-path=\"url(#clip1403)\" style=\"fill:#000000; stroke:none; fill-opacity:1\" cx=\"2090.6\" cy=\"946.797\" r=\"10\"/>\n",
       "<circle clip-path=\"url(#clip1403)\" style=\"fill:#000000; stroke:none; fill-opacity:1\" cx=\"2090.6\" cy=\"946.797\" r=\"7\"/>\n",
       "<circle clip-path=\"url(#clip1403)\" style=\"fill:#000000; stroke:none; fill-opacity:1\" cx=\"2111.57\" cy=\"967.835\" r=\"10\"/>\n",
       "<circle clip-path=\"url(#clip1403)\" style=\"fill:#000000; stroke:none; fill-opacity:1\" cx=\"2111.57\" cy=\"967.835\" r=\"7\"/>\n",
       "<circle clip-path=\"url(#clip1403)\" style=\"fill:#000000; stroke:none; fill-opacity:1\" cx=\"2132.54\" cy=\"988.427\" r=\"10\"/>\n",
       "<circle clip-path=\"url(#clip1403)\" style=\"fill:#000000; stroke:none; fill-opacity:1\" cx=\"2132.54\" cy=\"988.427\" r=\"7\"/>\n",
       "<circle clip-path=\"url(#clip1403)\" style=\"fill:#000000; stroke:none; fill-opacity:1\" cx=\"2153.51\" cy=\"1008.54\" r=\"10\"/>\n",
       "<circle clip-path=\"url(#clip1403)\" style=\"fill:#000000; stroke:none; fill-opacity:1\" cx=\"2153.51\" cy=\"1008.54\" r=\"7\"/>\n",
       "<circle clip-path=\"url(#clip1403)\" style=\"fill:#000000; stroke:none; fill-opacity:1\" cx=\"2174.48\" cy=\"1028.16\" r=\"10\"/>\n",
       "<circle clip-path=\"url(#clip1403)\" style=\"fill:#000000; stroke:none; fill-opacity:1\" cx=\"2174.48\" cy=\"1028.16\" r=\"7\"/>\n",
       "<circle clip-path=\"url(#clip1403)\" style=\"fill:#000000; stroke:none; fill-opacity:1\" cx=\"2195.45\" cy=\"1047.24\" r=\"10\"/>\n",
       "<circle clip-path=\"url(#clip1403)\" style=\"fill:#000000; stroke:none; fill-opacity:1\" cx=\"2195.45\" cy=\"1047.24\" r=\"7\"/>\n",
       "<circle clip-path=\"url(#clip1403)\" style=\"fill:#000000; stroke:none; fill-opacity:1\" cx=\"2216.42\" cy=\"1065.78\" r=\"10\"/>\n",
       "<circle clip-path=\"url(#clip1403)\" style=\"fill:#000000; stroke:none; fill-opacity:1\" cx=\"2216.42\" cy=\"1065.78\" r=\"7\"/>\n",
       "<circle clip-path=\"url(#clip1403)\" style=\"fill:#000000; stroke:none; fill-opacity:1\" cx=\"2237.38\" cy=\"1083.76\" r=\"10\"/>\n",
       "<circle clip-path=\"url(#clip1403)\" style=\"fill:#000000; stroke:none; fill-opacity:1\" cx=\"2237.38\" cy=\"1083.76\" r=\"7\"/>\n",
       "<circle clip-path=\"url(#clip1403)\" style=\"fill:#000000; stroke:none; fill-opacity:1\" cx=\"2258.35\" cy=\"1101.16\" r=\"10\"/>\n",
       "<circle clip-path=\"url(#clip1403)\" style=\"fill:#000000; stroke:none; fill-opacity:1\" cx=\"2258.35\" cy=\"1101.16\" r=\"7\"/>\n",
       "<circle clip-path=\"url(#clip1403)\" style=\"fill:#000000; stroke:none; fill-opacity:1\" cx=\"2279.32\" cy=\"1117.98\" r=\"10\"/>\n",
       "<circle clip-path=\"url(#clip1403)\" style=\"fill:#000000; stroke:none; fill-opacity:1\" cx=\"2279.32\" cy=\"1117.98\" r=\"7\"/>\n",
       "<circle clip-path=\"url(#clip1403)\" style=\"fill:#000000; stroke:none; fill-opacity:1\" cx=\"2300.29\" cy=\"1134.21\" r=\"10\"/>\n",
       "<circle clip-path=\"url(#clip1403)\" style=\"fill:#000000; stroke:none; fill-opacity:1\" cx=\"2300.29\" cy=\"1134.21\" r=\"7\"/>\n",
       "<circle clip-path=\"url(#clip1403)\" style=\"fill:#000000; stroke:none; fill-opacity:1\" cx=\"2321.26\" cy=\"1149.84\" r=\"10\"/>\n",
       "<circle clip-path=\"url(#clip1403)\" style=\"fill:#000000; stroke:none; fill-opacity:1\" cx=\"2321.26\" cy=\"1149.84\" r=\"7\"/>\n",
       "<polygon clip-path=\"url(#clip1401)\" points=\"\n",
       "1776.49,493.644 2249.26,493.644 2249.26,130.764 1776.49,130.764 \n",
       "  \" fill=\"#ffffff\" fill-rule=\"evenodd\" fill-opacity=\"1\"/>\n",
       "<polyline clip-path=\"url(#clip1401)\" style=\"stroke:#000000; stroke-width:4; stroke-opacity:1; fill:none\" points=\"\n",
       "  1776.49,493.644 2249.26,493.644 2249.26,130.764 1776.49,130.764 1776.49,493.644 \n",
       "  \"/>\n",
       "<circle clip-path=\"url(#clip1401)\" style=\"fill:#000000; stroke:none; fill-opacity:1\" cx=\"1884.49\" cy=\"191.244\" r=\"25\"/>\n",
       "<circle clip-path=\"url(#clip1401)\" style=\"fill:#000000; stroke:none; fill-opacity:1\" cx=\"1884.49\" cy=\"191.244\" r=\"21\"/>\n",
       "<g clip-path=\"url(#clip1401)\">\n",
       "<text style=\"fill:#000000; fill-opacity:1; font-family:Arial,Helvetica Neue,Helvetica,sans-serif; font-size:48px; text-anchor:start;\" transform=\"rotate(0, 1968.49, 208.744)\" x=\"1968.49\" y=\"208.744\">Question 1</text>\n",
       "</g>\n",
       "<circle clip-path=\"url(#clip1401)\" style=\"fill:#000000; stroke:none; fill-opacity:1\" cx=\"1884.49\" cy=\"251.724\" r=\"25\"/>\n",
       "<circle clip-path=\"url(#clip1401)\" style=\"fill:#ff0000; stroke:none; fill-opacity:1\" cx=\"1884.49\" cy=\"251.724\" r=\"21\"/>\n",
       "<g clip-path=\"url(#clip1401)\">\n",
       "<image width=\"131\" height=\"35\" xlink:href=\"data:image/png;base64,\n",
       "iVBORw0KGgoAAAANSUhEUgAAAIMAAAAjCAYAAAC3gbmIAAAFyklEQVR4nO1b7ZGbPBBeZ1KATAm6\n",
       "VEBcgnIVYJegdGBSgu4qYFKCSAXkShCpAChB0MG+PzzihPgSPvvOr49nZmdsDEJePfuhlQSICEtE\n",
       "CIGUUgQApJQi5xy11ri0nVVuT7xvVEq1JEiSBIuiwCzLkBCChJCVEGfKLenN66YkSRAAkBCCRVHg\n",
       "0G+MsZv5U7csUkpkjCEAdIQQgpxzzLLszXpUSiHnHMMwREIIUkqRMYZJkkwa7WzDWZa1HVZKDTZk\n",
       "fr/EH7lXKYoCwzBsDUcIgVJKTJIEoyjqECMMw1Fdz73DeG/GGGZZhkVRoFIKj8dj236SJMPjOMcw\n",
       "08DxeBztnOkA53wlw4QewzDsedYhshiRUnrr0zbaMaPUWrdkiaKod8/kCwghrQubus/8CUrpSoaB\n",
       "ASCEeIVRe7CWeNuiKGat3r7XjKtrvKMPcc69X2DHwFtKiG5BTAjw1YuUspdLzD1j9O9rjCbPc8k2\n",
       "eLMdHnw6Y7u3c2LdvYrWGgEAhRCLdOJ6hyljtMnj+x7TLxO6JslgD67PC+zOr0nkq9gWSCn1zgHs\n",
       "ZM8dsKmxWmKIQ8/1brITEV/3dm7Sc+9ih9ol+nRDBQAMPmPnCktDtD2DMbnDF3Dw69ev9jNjDLbb\n",
       "7ca9Z8X5qKpq9h5Kae9aXdfoXnt5eel8XzJWQRD02umQIc9z/PfvX/udcz7baJ7nnU4SQnz7c/dg\n",
       "jPWuff/+fXbAtNa9a0MDbZNhqd5twlVVBXVdY4cMQojOA0N/xoVSavQlnx37/X4jhABKKYRh2NPV\n",
       "GHy8BwCAbbi2pfvAJY9SCr7aF/78+dN+DsPQy+3YHTqnU/eOOI43cRwvesbV6ZhR2h5kqWdwx6lp\n",
       "mtcwkaZpx937eAWAvqtac4y3Q0rZ+T4Wrpumudg7tdavZHA7cDgcvBqxXdput7tQ1z4v0jRFe5Ap\n",
       "pbDf769uYE3TvIYJNzOVUpopzmQDNny9yRzyPEfG2EWZ74soiiBN0w/zbm7e5hqpgTu7eGvOoLU+\n",
       "kaEsS3QV//z8vKhxgFOecQkQQoBS6p1IXQpBEHxoApymaWc2lyTJ6OxjaMbxFjRNA4NFDt+yprvK\n",
       "9tFFnv+zmAUto0ufBSdb90v3k7jFRc75aWrphggfC6/rusPiKIrezM7PjMPh0IZFIQT8/PlzUah6\n",
       "q6cghJwSSNcd//jxY7YjLoF8E84VfcRxjEafQgiI4/hdEkYbQRCccgabDL4x0yXDe2S894g0TdHk\n",
       "Z0mSeHuEh4eHDZxc/EVACDmRwXYxvjMCO8v1KVuv6OPv379oPGqWZV4e+Zr4AtB1GT75Qp7nndnH\n",
       "8Xi8QtfuG3me4+PjIxBCQCl1FhHc9YUlcHOMIAj6q5Y+YeL379/t5yiKjMta4YmyLJEx1hJhbvGq\n",
       "LMvBcGAb7tKajEueMAxPYYIQ0jY2V7yo6xptMrhFkkugLEs8HA4fUmeIogienp6uRu66rvHx8RGC\n",
       "IIAsy2YNKc9z3O12gNjnw26366wn1XWNvssBtm4JIfDw8LD5CnBSgiHD3IKHTQTO+VW8QtM0UFXV\n",
       "u1cgzXuvCZOTKaW81nGUUqPe2s3vtNaw3W69+mHrtm3HLR7N7Zbx3TG9Sl8YY0gpXbQjiXM+uK3d\n",
       "yLlbDu0Cl9md9sVl2FTxIo7jNnEcq5mvGMZ+v8eqqrw9goGUcjKPs5N3O2RMwV5+IIS0ZYENIrZx\n",
       "CQBGE5qyLPHbt29tB64ZV+8NcRzj8/MzRFE0m5MZY6yqqg2VUsrJOs52u8WmaYAQAnVdz47L09MT\n",
       "mu2NndqG6zbGauImlEy5rFX6IoTobW5dKnO7nu11hrl1JXsNxN113X6YOkBrdtKuh2uXibsYdK4s\n",
       "Jd1U7mCffnNzl8FBF0Kg1hqzLGvP/82toq3SF/dA7Tmy5MiilLK1+uPx2J7r1FqjlHLynGWPDIgn\n",
       "D2EeMsfExw6LrnJ7orVGIUTvEK8Zy6mQs0G82FrHihvEkkLUfyUuZMqYo3uNAAAAAElFTkSuQmCC\n",
       "\" transform=\"translate(1968, 234)\"/>\n",
       "</g>\n",
       "<circle clip-path=\"url(#clip1401)\" style=\"fill:#000000; stroke:none; fill-opacity:1\" cx=\"1884.49\" cy=\"312.204\" r=\"25\"/>\n",
       "<circle clip-path=\"url(#clip1401)\" style=\"fill:#008000; stroke:none; fill-opacity:1\" cx=\"1884.49\" cy=\"312.204\" r=\"21\"/>\n",
       "<g clip-path=\"url(#clip1401)\">\n",
       "<image width=\"131\" height=\"35\" xlink:href=\"data:image/png;base64,\n",
       "iVBORw0KGgoAAAANSUhEUgAAAIMAAAAjCAYAAAC3gbmIAAAFgklEQVR4nO1b4ZGqMBBe31wBkRKw\n",
       "A7AErgOOEqIVoCVEK2AoAa8CzhLACoASAh3s+3EvuRAVguLdvTu+mZ3BMQmZ5Nsvm7ABRIQhxhhD\n",
       "27YRANC2baSUIucch7Yz2fcz44JZlkkSRFGERVFgmqZICEFCyESIkSzLMiSEYJqmnz6eRoWiKEIA\n",
       "QEIIFkWBl/7zPG8iwwgmHI4xdvN4ZlmGlFJ0HAcJIWjbNnqeh1EUdTptb8NpmiIAIABglmUXGxL/\n",
       "fwWbf5IxxuRY30KGoiikenueh2maYlEUmGUZhmEo246i6PI89jFMNBCG4dXOiQ5QSicy3GhFUcix\n",
       "voUMqtNec0rOuSSL7/tnZTpfQAiRy0NXOcdxZED51YP6v5oYw1vIoBLpmterZcW86s57tRKl1PgF\n",
       "nufJslMgOdzEDk1M0lAyiPE3dUYR5+kqcrGwujz0qQJim9XX4orJLpvwarGLGEqGJEkG1+GcyzqO\n",
       "48g6f+ACKKXyebvdXirSQtM08plz3lt+wgfW6zVQSsF13dkt9Rlj8tnzPKM68/l85jgOAACcTifI\n",
       "8xwB4FwZ1EAEDGVfLZ8kyaQMhhZFUUt5hyqDHnQOWaJ935f1ROxwpgyqEnieB/P5/CbGTuhGXde4\n",
       "3W4hSZKb2zgej63fQ+bKsqyzdlpkyPMcT6eT/K0uF9cgJeYfCCGm/fnVoJSC53nw/Px8s7OpZBg6\n",
       "7rZty+eqqqCua3xSC6jrD4DZGpRl2dWXTLiMw+GAx+MRqqq6qx3VcVVPN4FOnizL2srw+voqnx3H\n",
       "MZIdtUO3dOq3oa5rpJRCHMd3L8FqsD5UGfR5aprmgwyHw6El96aRqS5VU4zRje12C8vlEl5eXu4e\n",
       "J3UXdy845yCXCT2QCYLAqBFV6pbL5Uhd+5l4e3vDOI6/5fa7aZoPMuiRaZIk4kCjswEVpmrShzzP\n",
       "0fO8UZlvCt/34XA4PETd1us1RFE0inrWdd2am3tjBqkMZVmiPvD7/X5wB8VBxr0ghIBt23cHWENh\n",
       "WdbDAuDVaoW2bcNqtRqFaGOri1QGPQhkjMFms+nttOu6ra3oPdskFYvFYpbn+RhNfQvkeY5xHENR\n",
       "FF/dlU78AThfIkw8vK7rFhF83x+5az8HQRAAYwwWi8XDgut7lYIQ8k4GXY5NPFwnkGnA+duw2WyQ\n",
       "EGKktJ8JPSywLOt9mVDJYLpm6mQYY6v001CWJe73+4csD/9UpjPAHwKpDKrEmO4I1K2oybH1b0QQ\n",
       "BBCG4UOXhzHxBNCWDJN4Ic/z1u4jDMMHdO3/xm63w6qqgFIKZVkO9mDO+Vk9nVTqjmvozkuPMSzL\n",
       "grNP0CZJrWoW1KVcusna2V9jmZ6Zrn6GBoBB86AmyIq2nwDe1wvh6X2HF3VdYxzH8rf+cWsMlGWJ\n",
       "QRB8yTmD7/uw2+3ulnXG2KD+V1XVSh8QXzVV6MqwXC5b35PqukbTAy21b4QQWCwWsyeA90EQZOj7\n",
       "4KESgVL6kPWwaRqoqurTTyDFe8eA67oz13WNy+upALZt9wblOlk45zCfz43ep46tbAexncPYly1j\n",
       "mjE92TBT805hQD6jSH2HgfdW1KwqkZ32R2dY1+HFZrORgeM9GToTxoMavKtLRhfUzw+EkA8F0ll5\n",
       "LbtZzbfrulAz2ecqg+rlpmqt3txSr0GcNXjtjoRYSqbdw2NMTXmHgbfT1CTmPhJxzmVKvpom3yJD\n",
       "1wVasYWZLteOZ1mWYZIkGEURhmHYujOhEiKKIkySpDfrXPX2rthBvf2mx4cXJ50xhpxzTNMUReW+\n",
       "W1WTDbNbziH62kySRJIqDEN5LsE5xyRJOu9ZnpEB8V0hRCVCCFJKzw47JrvfOOeoWl8Z0zngnCNj\n",
       "DPW7m2Iuu268zRBH+9Yx4RtiyEHUXzoyeYxz8VkIAAAAAElFTkSuQmCC\n",
       "\" transform=\"translate(1968, 295)\"/>\n",
       "</g>\n",
       "<circle clip-path=\"url(#clip1401)\" style=\"fill:#000000; stroke:none; fill-opacity:1\" cx=\"1884.49\" cy=\"372.684\" r=\"25\"/>\n",
       "<circle clip-path=\"url(#clip1401)\" style=\"fill:#0000ff; stroke:none; fill-opacity:1\" cx=\"1884.49\" cy=\"372.684\" r=\"21\"/>\n",
       "<g clip-path=\"url(#clip1401)\">\n",
       "<image width=\"131\" height=\"35\" xlink:href=\"data:image/png;base64,\n",
       "iVBORw0KGgoAAAANSUhEUgAAAIMAAAAjCAYAAAC3gbmIAAAF1ElEQVR4nO1c7ZGrOgzV3rkFOCkB\n",
       "OiApgXQAKYHtgKUEcivIpAQnFTApwaQCQgmGDvR+5OEVhoCdsPdjg2Y0AxMjvPbRsSzkBUQEG03T\n",
       "FB3HQQBAx3EwiiKUUqKtnVn/PjVuKIRQINjv91gUBWZZhowxZIzNgPgGatRov98jACBjDIuiwL7f\n",
       "fN+fwWCpRVFgmqboeR4yxhAA0PM8DIIAsyx7eDyFEBhFkbLrOA76vo/7/X7QaUcNZ1mGAIAAgEKI\n",
       "XkPN78/8Aa+kUkoMgkA5WBzHyDlHIQRyzjGOYwQADILAajyLolDs7fs+ZlmGRVGgEELZbJjdGgxC\n",
       "CGUgjuO7HWs6EEXRDIYRbZbWsfGSUqLjOIPjrtsdc8rG5j2gDb6g6TRjbLBDnuepgPJPD/bfrHTC\n",
       "0jS9O1ZZlqlJA4DRMS2KYtTradt7YLz7UBRFxi/wfV+1nQPJfqUsO0b/FAhDy7M+/qbO2MR5OouM\n",
       "dnyMFRA/mcGk46+qdILHHKbxXJMx5ZwbsQ1VKaV6xvO8YTDQyTV5Af1D5yCyq5RlTeKqNE1V+7Fd\n",
       "2qOO2PdcpxFd10xpn7bnnM9gIEq90GbCml3AWBvbuWq02c1QgP4ETZIkUde+78NisXjT28xiLmma\n",
       "qmvGGKxWK6PxdF13tN35fG7d28zVcrns2PlBG+R5jpfLRd1HUTRqNM9zpPeMMdP+vIQcDgd1vV6v\n",
       "J7VNwWA77o7jqOuyLKGqKmyBgaIY4MYMYyKEuPuSV5c8z7Gua3Xved6k9qnjUk83ER08Qog2M5xO\n",
       "J3XteZ4R7dAOPdKp7yw6jVNHyfMcwzBE13VxsVjgarXCj48P1Jl2SKSU6tqWGfR5quv6EwzH47HV\n",
       "CRNWAOhS1RxjfIoOhmYC3t/fcbvdgu/7wDkHIQQkSQKn0wnW6zWEYYhVVY2CgrLOsyKl/AwgOeet\n",
       "H7fbrZGRsizV9dRr4r8udGwAbs6y2+2wLEu4Xq8tp3FdF8IwhM1mg6fTCc7nM5zPZzQNOJ+Vuq4/\n",
       "waCjmHPeJDQGDVAxZZMxyfMcfd+fFPmmEgQBHI/HSSaA0jjADRyHw6EDBCqcc3AcB+q6Bt/3oSxL\n",
       "7GNbnTmejRkUM1yvV9QH/tevX1bGAaYLkBhj4DhOx7O+WpbL5aQBcN+YxnE8+MxisXhLkgSTJFGA\n",
       "yPO8004H2iR9RWynNMEirUmzWGDwQeXVlI6NzRjpyaS+rK7exraeRE8uRlF021rqS4SJh1dV1cpJ\n",
       "BEHwOCxfREzHSE840UTgPXmWKRhjt92ETsebzcY6+2UacL6S6OuyzRJE214ul06M8KzoS9hyueyC\n",
       "wbTDOhjCMJy3lJroQd0z8Yie3DNJV9uIYgZKMaY7AroVNUlbv6LozGAT8evP/o5g+gdAmzJM4gU9\n",
       "zToWIb+qfOXORLdvCxY9xlDLxL0X3BP68SUIgskp67vIlEm4vnQzdVzbnIwOHs/zbnkGxpgyNkZl\n",
       "VVUhBYP+cWsKuV6vuN1u/0ieIQgC2O12k4BbX3JtIn59cvucdL1et74nVVXVm6DqEzq2jDFwXfft\n",
       "J8BtEJqXj33woECIouhLWKGuayjL8rdnIJv3TiX/p5LVLuAZ230s0we2xWJhZI+OrbKjJ49M6/NM\n",
       "aiNnbZe82ZyDAJIQonWKuj5ackjrLJvqNEBEoAcs9BNTVGm7udbRTG2LixG7pXJD1em00tn03ArN\n",
       "XtI+dTp8r+6OGjA92DHrTelRApMaSDrBJuXvtmxNC24p0DoG76GwWUpsj3zN2nakIcpHvLECpXAT\n",
       "8JgeztHt633poLHvg0dTSTsfrn1c6YQN0TllEZtKc+rtQ0s4Pf2mx4e9k56mKUopMcsybB4eO1U1\n",
       "qxkgqFdyzrEoCiyKAvf7fev/XjxyGIlzruzHcaziPyklcs4Hz1l2wIB4Y4jmIcYYRlE0GFTOaqdS\n",
       "SozjGPVTUw1ATMsHhuw3x/yp7WYuh0D2hjjpx7BZLKQpKmKMwXK5/JL6UZtE1H8mfkVbOp/06AAA\n",
       "AABJRU5ErkJggg==\n",
       "\" transform=\"translate(1968, 355)\"/>\n",
       "</g>\n",
       "<circle clip-path=\"url(#clip1401)\" style=\"fill:#000000; stroke:none; fill-opacity:1\" cx=\"1884.49\" cy=\"433.164\" r=\"25\"/>\n",
       "<circle clip-path=\"url(#clip1401)\" style=\"fill:#000000; stroke:none; fill-opacity:1\" cx=\"1884.49\" cy=\"433.164\" r=\"21\"/>\n",
       "<g clip-path=\"url(#clip1401)\">\n",
       "<image width=\"131\" height=\"35\" xlink:href=\"data:image/png;base64,\n",
       "iVBORw0KGgoAAAANSUhEUgAAAIMAAAAjCAYAAAC3gbmIAAAGVklEQVR4nO1c7XGjPBBebq4A2SXI\n",
       "qUChBJwKOJeAO8BXgu4q4FKC7ApISsCuAChB0MG+P3yShfgSxLl758zO7AwJ0qLsl1aPpAAiwhTm\n",
       "nCOlFAEAKaUYRRFKKXGqnIX/f+zcMMsy7QRJkmCe55imKRJCkBCyOMQ/wE6NkiRBAEBCCOZ5jl3v\n",
       "giBYnMGRhRAYhmEjwwZBgHEcY5ZlH9ZjlmUYRREyxpAQouUnSTIYtKOC0zRFAEAA6B2oep+m6eIQ\n",
       "I7pUmTSOYxRCYJZlKIRAzjkyxhAAkDHWCjoXzvNcO1gQBJimKeZ5jlmWYRzH2o5JknTbcczDlIA4\n",
       "jnsHpwYQRdHiDD3MOR80hGKVaacGlxm0ff2klNpZwjBstRn8ACFETw9D7ZRHU0oXZxgwlBDCST+m\n",
       "YV0yRJ7no1FvtlV2tYO3t1MURc4fCIJAt10KyTYTQjojcYhVWnfpp/TvGox92aezsTk9jGUFxFtm\n",
       "GKorHpWFEE4BZbOUUuvURT4AIOfc6RumbMaY7vMFOiiKIv38/fv3riYNqutaP0spR9s/Er2/v8/q\n",
       "t1qtPEIIAAAURYF97Tjn+jkIAmfZjDEAALhcLnA+nxEA2s7w9vaGl8tF/2w6Rh+VZamfTcdY6Kab\n",
       "OU6hdLlerzvfF0XRsBWl1Fm22fb19RUAOpzBzARBEMBqtfKcv7BQi1R0n04neHt7641wm1Q2IIT0\n",
       "2sB2sCm2Mh1MyWk4w/l8npwVVIpRpP74ha5kRuDLywscj0cnh1DRutvtetuYzjBV7+a4yrKEqqqa\n",
       "hUUYhrqwAMeVgVmZguNS6JHYLMYVh2E4qFtV4I3B/AozgBnLettuaZpiIzOcTif9zBhzSjtmJgHo\n",
       "n98elZ6fnz27sDudTkAp7cwSVVWh7/sAACCEGLSBWaxPzQy2neq6vk0T9sBcK1M7VS01RpuEEC1j\n",
       "1XUNu90OttstqvrgfD6j7/sgpYQsy2C73Q7q8p7FupTy5gxCiMbLobnKJHMloTx6oSatVisvy7LO\n",
       "av/9/R2enp5gv9+j7/vAGIOyLOH5+fmPBlVd1/DVHJRJQggFaAwKMMk1m4zR+XzGIAj+yjI1DEM4\n",
       "Ho93N8Rms/GKooD9fo+qODTp9fUVKKXAOXfKrlVVNWwzdXq2M5WU8uoMRVGgrfifP39OEg5wrTPu\n",
       "QYQQoJQ2ss6foPV6PWmtPod+/frlSSnRrM8UlWUJT09PwDnHw+Ew6BD3BvfquoYWpAkTYE0ThoYR\n",
       "2HTh68pC6YxzjvbqzWTG2OBKwtycghnnSczNMPi9afUFoD1FuER4VVUNTCIMw4845j9Px+MRfd+H\n",
       "uq4hz3M4HA7e8Xj00jTtzEaXywUopYNQtEkfzRSEkGsBaafjsSoWoO1ArgXnI9LhcMDdbqeM6202\n",
       "G63f7XbrFUXhxXHc6lfXNby8vHzKmOyyYL1ew2zwwtzihmWK6GXzyOAYiGdOI+AwbYM1rUwZl10a\n",
       "JElyfaEOO8CE00pz+jwam1vFrgdbEG9nGRT3HSP4FGewfzkmyIZYFwh62KhzToDZcHHXOREzo7uc\n",
       "OxmSL4TA1q6ly9LKXCeHYQjmHLjQjdTycQ7+st/vPbMoz7Ks1cYs9KdiMnadyBi74gyEkNG9c0VV\n",
       "VTVAE/Nwxb2oKArc7XZ/BWcIwxB+/PhxF+dW45+Lv3DOtUN1Gdv3/cZ+UlVV6LodYOqWEAKbzcb7\n",
       "CnBVgvrY2IaH6QhRFH1KVqjrGsqy/OMIpPruvWnu5t1v3SJAd8a2M46UElarlZNsU7daDmITPBqr\n",
       "eF1PTC98m9NdQbwuhpG6zKwbphytNxcAqrj9YnvYEHhxOBw0bG1vbC3UJqXXubpSgBOltDcDm/hE\n",
       "F8TdJ9ecCb59+3aVjdhcHfSdbjbhz6ELNQvf2NTrnNtmCssZ6zs1W6sLPWCtHlsC+5aWaiqZev7/\n",
       "0VktL7vuqQ6xwgFc9G3uM4xNSVJKfYnGxib0w9AFWrWhslyunccqwgkhoziOlFLfi5yibzPahzKJ\n",
       "efvNrg87jc45Ryklpmmq4dGpl0AWbrIJ8jDG9L81kFJinucohGhcjp1TdAohdNTHcawzkZQShRCD\n",
       "9yxbzqAGrToRQjCKogVhvBNLKRu3rW2mlGIcxx+6otj3DWXLoRtvHqLTDulCn0CqqieEwHq9/pTz\n",
       "o1OAqP8A0+TX5Fv/hbwAAAAASUVORK5CYII=\n",
       "\" transform=\"translate(1968, 416)\"/>\n",
       "</g>\n",
       "</svg>\n"
      ]
     },
     "execution_count": 7,
     "metadata": {},
     "output_type": "execute_result"
    }
   ],
   "source": [
    "plt"
   ]
  },
  {
   "cell_type": "markdown",
   "metadata": {},
   "source": [
    "$$ \\boxed{\\text{Plot }P(c1 \\mid d) \\text{ with c1=catch successful, }s=\\theta,a=d} $$"
   ]
  },
  {
   "cell_type": "markdown",
   "metadata": {
    "collapsed": true
   },
   "source": [
    "# Question 2"
   ]
  },
  {
   "cell_type": "code",
   "execution_count": 8,
   "metadata": {
    "collapsed": false
   },
   "outputs": [],
   "source": [
    "const VecBelief = Array{Float64, 1}\n",
    "const VecStates = Array{Int64, 1}\n",
    "const VecActions = Array{Int64, 1}\n",
    "const VecObservations = Array{Symbol, 1};"
   ]
  },
  {
   "cell_type": "code",
   "execution_count": 9,
   "metadata": {
    "collapsed": false
   },
   "outputs": [],
   "source": [
    "\"\"\"\n",
    "    Reward_sa(s::Int64, a::Int64)\n",
    "\n",
    "REWARD MODEL: return R(s,a). With s=θ, a=d\n",
    "\"\"\"\n",
    "function Reward_sa(s::Int64, a::Int64)\n",
    "    r = a * proba_obs_c1(s, a)\n",
    "    #println(\"R(s=$s, a=$a)=$r\")\n",
    "    return r\n",
    "end;"
   ]
  },
  {
   "cell_type": "code",
   "execution_count": 10,
   "metadata": {
    "collapsed": false
   },
   "outputs": [],
   "source": [
    "\"\"\"\n",
    "    Reward_ba(belief::VecBelief, a::Int64, states::VecStates)\n",
    "\n",
    "REWARD MODEL: return R(b,a) Expected reward when executing \n",
    "                action a from belief b\n",
    "\"\"\"\n",
    "function Reward_ba(belief::VecBelief, a::Int64, states::VecStates)\n",
    "    r = 0\n",
    "    for i in 1:length(states)\n",
    "        r += (Reward_sa(states[i], a) * belief[i])\n",
    "    end\n",
    "    #println(\"R(b=$belief, a=$a)=$r\")\n",
    "    return r\n",
    "end;"
   ]
  },
  {
   "cell_type": "code",
   "execution_count": 11,
   "metadata": {
    "collapsed": false
   },
   "outputs": [],
   "source": [
    "\"\"\"\n",
    "    Utility_1step_horizon_ba(belief::VecBelief, a::Int64, \n",
    "                                states::VecStates)\n",
    "\n",
    "REWARD MODEL: return Expected Utility from executing action a \n",
    "                assuming a 1-step horizon\n",
    "\"\"\"\n",
    "function Utility_1step_horizon_ba(b::VecBelief, a::Int64, \n",
    "                                    states::VecStates)\n",
    "    # With a 1-step horizon it is just the immediate reward\n",
    "    return Reward_ba(b, a, states)\n",
    "end;"
   ]
  },
  {
   "cell_type": "code",
   "execution_count": 12,
   "metadata": {
    "collapsed": false
   },
   "outputs": [],
   "source": [
    "function get_best_action_1step_horizon(belief::VecBelief, \n",
    "                            states::VecStates, actions::VecActions)\n",
    "    best_action = -1\n",
    "    best_utility = -Inf\n",
    "    plt = scatter([0],[0],color=:black,markersize=0.5,xlim=(0,100), \n",
    "    ylim=(0,30),xlabel=\"a\",ylabel=\"Utility_1steph(b,a) with b=$belief\")\n",
    "\n",
    "    for a in actions\n",
    "        #println(\"a=$a\")\n",
    "        u = Utility_1step_horizon_ba(belief, a, states)\n",
    "        if (u > best_utility)\n",
    "            best_action = a\n",
    "            best_utility = u\n",
    "        end\n",
    "        scatter!(plt, [a], [u], color=:blue, markersize=5, xlim=(0,100), \n",
    "                    ylim=(0,30), legend=false)\n",
    "        #println(u)\n",
    "    end\n",
    "\n",
    "    println(\"Best action = $best_action with utility = $best_utility\")\n",
    "    return best_action, plt\n",
    "end;"
   ]
  },
  {
   "cell_type": "code",
   "execution_count": 13,
   "metadata": {
    "collapsed": false
   },
   "outputs": [
    {
     "name": "stdout",
     "output_type": "stream",
     "text": [
      "b=[0.25, 0.25, 0.25, 0.25]\n",
      "states=[20, 40, 60, 80]\n",
      "actions=[10, 20, 30, 40, 50, 60, 70, 80, 90, 100]\n",
      "Best action = 50 with utility = 25.0\n",
      "1-step horizon best action = 50\n"
     ]
    }
   ],
   "source": [
    "println(\"b=$belief_uniform\")\n",
    "println(\"states=$states\")\n",
    "println(\"actions=$actions\")\n",
    "\n",
    "best_action, plt = get_best_action_1step_horizon(belief_uniform, \n",
    "                                                states, actions)\n",
    "println(\"1-step horizon best action = $best_action\")"
   ]
  },
  {
   "cell_type": "code",
   "execution_count": 14,
   "metadata": {
    "collapsed": false
   },
   "outputs": [
    {
     "data": {
      "image/svg+xml": [
       "<?xml version=\"1.0\" encoding=\"utf-8\"?>\n",
       "<svg xmlns=\"http://www.w3.org/2000/svg\" xmlns:xlink=\"http://www.w3.org/1999/xlink\" width=\"600\" height=\"400\" viewBox=\"0 0 2400 1600\">\n",
       "<defs>\n",
       "  <clipPath id=\"clip1600\">\n",
       "    <rect x=\"0\" y=\"0\" width=\"2000\" height=\"2000\"/>\n",
       "  </clipPath>\n",
       "</defs>\n",
       "<defs>\n",
       "  <clipPath id=\"clip1601\">\n",
       "    <rect x=\"0\" y=\"0\" width=\"2400\" height=\"1600\"/>\n",
       "  </clipPath>\n",
       "</defs>\n",
       "<polygon clip-path=\"url(#clip1601)\" points=\"\n",
       "0,1600 2400,1600 2400,0 0,0 \n",
       "  \" fill=\"#ffffff\" fill-rule=\"evenodd\" fill-opacity=\"1\"/>\n",
       "<defs>\n",
       "  <clipPath id=\"clip1602\">\n",
       "    <rect x=\"480\" y=\"0\" width=\"1681\" height=\"1600\"/>\n",
       "  </clipPath>\n",
       "</defs>\n",
       "<polygon clip-path=\"url(#clip1601)\" points=\"\n",
       "211.005,1440.48 2321.26,1440.48 2321.26,47.2441 211.005,47.2441 \n",
       "  \" fill=\"#ffffff\" fill-rule=\"evenodd\" fill-opacity=\"1\"/>\n",
       "<defs>\n",
       "  <clipPath id=\"clip1603\">\n",
       "    <rect x=\"211\" y=\"47\" width=\"2111\" height=\"1394\"/>\n",
       "  </clipPath>\n",
       "</defs>\n",
       "<polyline clip-path=\"url(#clip1603)\" style=\"stroke:#000000; stroke-width:2; stroke-opacity:0.1; fill:none\" points=\"\n",
       "  211.005,1440.48 211.005,47.2441 \n",
       "  \"/>\n",
       "<polyline clip-path=\"url(#clip1603)\" style=\"stroke:#000000; stroke-width:2; stroke-opacity:0.1; fill:none\" points=\"\n",
       "  633.056,1440.48 633.056,47.2441 \n",
       "  \"/>\n",
       "<polyline clip-path=\"url(#clip1603)\" style=\"stroke:#000000; stroke-width:2; stroke-opacity:0.1; fill:none\" points=\"\n",
       "  1055.11,1440.48 1055.11,47.2441 \n",
       "  \"/>\n",
       "<polyline clip-path=\"url(#clip1603)\" style=\"stroke:#000000; stroke-width:2; stroke-opacity:0.1; fill:none\" points=\"\n",
       "  1477.16,1440.48 1477.16,47.2441 \n",
       "  \"/>\n",
       "<polyline clip-path=\"url(#clip1603)\" style=\"stroke:#000000; stroke-width:2; stroke-opacity:0.1; fill:none\" points=\"\n",
       "  1899.21,1440.48 1899.21,47.2441 \n",
       "  \"/>\n",
       "<polyline clip-path=\"url(#clip1603)\" style=\"stroke:#000000; stroke-width:2; stroke-opacity:0.1; fill:none\" points=\"\n",
       "  2321.26,1440.48 2321.26,47.2441 \n",
       "  \"/>\n",
       "<polyline clip-path=\"url(#clip1603)\" style=\"stroke:#000000; stroke-width:2; stroke-opacity:0.1; fill:none\" points=\"\n",
       "  211.005,1440.48 2321.26,1440.48 \n",
       "  \"/>\n",
       "<polyline clip-path=\"url(#clip1603)\" style=\"stroke:#000000; stroke-width:2; stroke-opacity:0.1; fill:none\" points=\"\n",
       "  211.005,976.07 2321.26,976.07 \n",
       "  \"/>\n",
       "<polyline clip-path=\"url(#clip1603)\" style=\"stroke:#000000; stroke-width:2; stroke-opacity:0.1; fill:none\" points=\"\n",
       "  211.005,511.657 2321.26,511.657 \n",
       "  \"/>\n",
       "<polyline clip-path=\"url(#clip1603)\" style=\"stroke:#000000; stroke-width:2; stroke-opacity:0.1; fill:none\" points=\"\n",
       "  211.005,47.2441 2321.26,47.2441 \n",
       "  \"/>\n",
       "<polyline clip-path=\"url(#clip1601)\" style=\"stroke:#000000; stroke-width:4; stroke-opacity:1; fill:none\" points=\"\n",
       "  211.005,1440.48 2321.26,1440.48 \n",
       "  \"/>\n",
       "<polyline clip-path=\"url(#clip1601)\" style=\"stroke:#000000; stroke-width:4; stroke-opacity:1; fill:none\" points=\"\n",
       "  211.005,1440.48 211.005,47.2441 \n",
       "  \"/>\n",
       "<polyline clip-path=\"url(#clip1601)\" style=\"stroke:#000000; stroke-width:4; stroke-opacity:1; fill:none\" points=\"\n",
       "  211.005,1440.48 211.005,1419.58 \n",
       "  \"/>\n",
       "<polyline clip-path=\"url(#clip1601)\" style=\"stroke:#000000; stroke-width:4; stroke-opacity:1; fill:none\" points=\"\n",
       "  633.056,1440.48 633.056,1419.58 \n",
       "  \"/>\n",
       "<polyline clip-path=\"url(#clip1601)\" style=\"stroke:#000000; stroke-width:4; stroke-opacity:1; fill:none\" points=\"\n",
       "  1055.11,1440.48 1055.11,1419.58 \n",
       "  \"/>\n",
       "<polyline clip-path=\"url(#clip1601)\" style=\"stroke:#000000; stroke-width:4; stroke-opacity:1; fill:none\" points=\"\n",
       "  1477.16,1440.48 1477.16,1419.58 \n",
       "  \"/>\n",
       "<polyline clip-path=\"url(#clip1601)\" style=\"stroke:#000000; stroke-width:4; stroke-opacity:1; fill:none\" points=\"\n",
       "  1899.21,1440.48 1899.21,1419.58 \n",
       "  \"/>\n",
       "<polyline clip-path=\"url(#clip1601)\" style=\"stroke:#000000; stroke-width:4; stroke-opacity:1; fill:none\" points=\"\n",
       "  2321.26,1440.48 2321.26,1419.58 \n",
       "  \"/>\n",
       "<polyline clip-path=\"url(#clip1601)\" style=\"stroke:#000000; stroke-width:4; stroke-opacity:1; fill:none\" points=\"\n",
       "  211.005,1440.48 242.659,1440.48 \n",
       "  \"/>\n",
       "<polyline clip-path=\"url(#clip1601)\" style=\"stroke:#000000; stroke-width:4; stroke-opacity:1; fill:none\" points=\"\n",
       "  211.005,976.07 242.659,976.07 \n",
       "  \"/>\n",
       "<polyline clip-path=\"url(#clip1601)\" style=\"stroke:#000000; stroke-width:4; stroke-opacity:1; fill:none\" points=\"\n",
       "  211.005,511.657 242.659,511.657 \n",
       "  \"/>\n",
       "<polyline clip-path=\"url(#clip1601)\" style=\"stroke:#000000; stroke-width:4; stroke-opacity:1; fill:none\" points=\"\n",
       "  211.005,47.2441 242.659,47.2441 \n",
       "  \"/>\n",
       "<g clip-path=\"url(#clip1601)\">\n",
       "<text style=\"fill:#000000; fill-opacity:1; font-family:Arial,Helvetica Neue,Helvetica,sans-serif; font-size:48px; text-anchor:middle;\" transform=\"rotate(0, 211.005, 1494.48)\" x=\"211.005\" y=\"1494.48\">0</text>\n",
       "</g>\n",
       "<g clip-path=\"url(#clip1601)\">\n",
       "<text style=\"fill:#000000; fill-opacity:1; font-family:Arial,Helvetica Neue,Helvetica,sans-serif; font-size:48px; text-anchor:middle;\" transform=\"rotate(0, 633.056, 1494.48)\" x=\"633.056\" y=\"1494.48\">20</text>\n",
       "</g>\n",
       "<g clip-path=\"url(#clip1601)\">\n",
       "<text style=\"fill:#000000; fill-opacity:1; font-family:Arial,Helvetica Neue,Helvetica,sans-serif; font-size:48px; text-anchor:middle;\" transform=\"rotate(0, 1055.11, 1494.48)\" x=\"1055.11\" y=\"1494.48\">40</text>\n",
       "</g>\n",
       "<g clip-path=\"url(#clip1601)\">\n",
       "<text style=\"fill:#000000; fill-opacity:1; font-family:Arial,Helvetica Neue,Helvetica,sans-serif; font-size:48px; text-anchor:middle;\" transform=\"rotate(0, 1477.16, 1494.48)\" x=\"1477.16\" y=\"1494.48\">60</text>\n",
       "</g>\n",
       "<g clip-path=\"url(#clip1601)\">\n",
       "<text style=\"fill:#000000; fill-opacity:1; font-family:Arial,Helvetica Neue,Helvetica,sans-serif; font-size:48px; text-anchor:middle;\" transform=\"rotate(0, 1899.21, 1494.48)\" x=\"1899.21\" y=\"1494.48\">80</text>\n",
       "</g>\n",
       "<g clip-path=\"url(#clip1601)\">\n",
       "<text style=\"fill:#000000; fill-opacity:1; font-family:Arial,Helvetica Neue,Helvetica,sans-serif; font-size:48px; text-anchor:middle;\" transform=\"rotate(0, 2321.26, 1494.48)\" x=\"2321.26\" y=\"1494.48\">100</text>\n",
       "</g>\n",
       "<g clip-path=\"url(#clip1601)\">\n",
       "<text style=\"fill:#000000; fill-opacity:1; font-family:Arial,Helvetica Neue,Helvetica,sans-serif; font-size:48px; text-anchor:end;\" transform=\"rotate(0, 187.005, 1457.98)\" x=\"187.005\" y=\"1457.98\">0</text>\n",
       "</g>\n",
       "<g clip-path=\"url(#clip1601)\">\n",
       "<text style=\"fill:#000000; fill-opacity:1; font-family:Arial,Helvetica Neue,Helvetica,sans-serif; font-size:48px; text-anchor:end;\" transform=\"rotate(0, 187.005, 993.57)\" x=\"187.005\" y=\"993.57\">10</text>\n",
       "</g>\n",
       "<g clip-path=\"url(#clip1601)\">\n",
       "<text style=\"fill:#000000; fill-opacity:1; font-family:Arial,Helvetica Neue,Helvetica,sans-serif; font-size:48px; text-anchor:end;\" transform=\"rotate(0, 187.005, 529.157)\" x=\"187.005\" y=\"529.157\">20</text>\n",
       "</g>\n",
       "<g clip-path=\"url(#clip1601)\">\n",
       "<text style=\"fill:#000000; fill-opacity:1; font-family:Arial,Helvetica Neue,Helvetica,sans-serif; font-size:48px; text-anchor:end;\" transform=\"rotate(0, 187.005, 64.7441)\" x=\"187.005\" y=\"64.7441\">30</text>\n",
       "</g>\n",
       "<g clip-path=\"url(#clip1601)\">\n",
       "<text style=\"fill:#000000; fill-opacity:1; font-family:Arial,Helvetica Neue,Helvetica,sans-serif; font-size:66px; text-anchor:middle;\" transform=\"rotate(0, 1266.13, 1590.4)\" x=\"1266.13\" y=\"1590.4\">a</text>\n",
       "</g>\n",
       "<g clip-path=\"url(#clip1601)\">\n",
       "<text style=\"fill:#000000; fill-opacity:1; font-family:Arial,Helvetica Neue,Helvetica,sans-serif; font-size:66px; text-anchor:middle;\" transform=\"rotate(-90, 57.6, 743.863)\" x=\"57.6\" y=\"743.863\">Utility_1steph(b,a) with b=[0.25, 0.25, 0.25, 0.25]</text>\n",
       "</g>\n",
       "<circle clip-path=\"url(#clip1603)\" style=\"fill:#000000; stroke:none; fill-opacity:1\" cx=\"211.005\" cy=\"1440.48\" r=\"5\"/>\n",
       "<circle clip-path=\"url(#clip1603)\" style=\"fill:#000000; stroke:none; fill-opacity:1\" cx=\"211.005\" cy=\"1440.48\" r=\"1\"/>\n",
       "<circle clip-path=\"url(#clip1603)\" style=\"fill:#000000; stroke:none; fill-opacity:1\" cx=\"422.03\" cy=\"1034.38\" r=\"21\"/>\n",
       "<circle clip-path=\"url(#clip1603)\" style=\"fill:#0000ff; stroke:none; fill-opacity:1\" cx=\"422.03\" cy=\"1034.38\" r=\"18\"/>\n",
       "<circle clip-path=\"url(#clip1603)\" style=\"fill:#000000; stroke:none; fill-opacity:1\" cx=\"633.056\" cy=\"695.463\" r=\"21\"/>\n",
       "<circle clip-path=\"url(#clip1603)\" style=\"fill:#0000ff; stroke:none; fill-opacity:1\" cx=\"633.056\" cy=\"695.463\" r=\"18\"/>\n",
       "<circle clip-path=\"url(#clip1603)\" style=\"fill:#000000; stroke:none; fill-opacity:1\" cx=\"844.081\" cy=\"449.071\" r=\"21\"/>\n",
       "<circle clip-path=\"url(#clip1603)\" style=\"fill:#0000ff; stroke:none; fill-opacity:1\" cx=\"844.081\" cy=\"449.071\" r=\"18\"/>\n",
       "<circle clip-path=\"url(#clip1603)\" style=\"fill:#000000; stroke:none; fill-opacity:1\" cx=\"1055.11\" cy=\"309.623\" r=\"21\"/>\n",
       "<circle clip-path=\"url(#clip1603)\" style=\"fill:#0000ff; stroke:none; fill-opacity:1\" cx=\"1055.11\" cy=\"309.623\" r=\"18\"/>\n",
       "<circle clip-path=\"url(#clip1603)\" style=\"fill:#000000; stroke:none; fill-opacity:1\" cx=\"1266.13\" cy=\"279.451\" r=\"21\"/>\n",
       "<circle clip-path=\"url(#clip1603)\" style=\"fill:#0000ff; stroke:none; fill-opacity:1\" cx=\"1266.13\" cy=\"279.451\" r=\"18\"/>\n",
       "<circle clip-path=\"url(#clip1603)\" style=\"fill:#000000; stroke:none; fill-opacity:1\" cx=\"1477.16\" cy=\"350.295\" r=\"21\"/>\n",
       "<circle clip-path=\"url(#clip1603)\" style=\"fill:#0000ff; stroke:none; fill-opacity:1\" cx=\"1477.16\" cy=\"350.295\" r=\"18\"/>\n",
       "<circle clip-path=\"url(#clip1603)\" style=\"fill:#000000; stroke:none; fill-opacity:1\" cx=\"1688.18\" cy=\"502.887\" r=\"21\"/>\n",
       "<circle clip-path=\"url(#clip1603)\" style=\"fill:#0000ff; stroke:none; fill-opacity:1\" cx=\"1688.18\" cy=\"502.887\" r=\"18\"/>\n",
       "<circle clip-path=\"url(#clip1603)\" style=\"fill:#000000; stroke:none; fill-opacity:1\" cx=\"1899.21\" cy=\"705.258\" r=\"21\"/>\n",
       "<circle clip-path=\"url(#clip1603)\" style=\"fill:#0000ff; stroke:none; fill-opacity:1\" cx=\"1899.21\" cy=\"705.258\" r=\"18\"/>\n",
       "<circle clip-path=\"url(#clip1603)\" style=\"fill:#000000; stroke:none; fill-opacity:1\" cx=\"2110.23\" cy=\"915.711\" r=\"21\"/>\n",
       "<circle clip-path=\"url(#clip1603)\" style=\"fill:#0000ff; stroke:none; fill-opacity:1\" cx=\"2110.23\" cy=\"915.711\" r=\"18\"/>\n",
       "</svg>\n"
      ]
     },
     "execution_count": 14,
     "metadata": {},
     "output_type": "execute_result"
    }
   ],
   "source": [
    "plt"
   ]
  },
  {
   "cell_type": "markdown",
   "metadata": {},
   "source": [
    "$$ \\boxed{\\text{The best action with a uniform belief for 1-step horizon is action}=50}$$"
   ]
  },
  {
   "cell_type": "markdown",
   "metadata": {},
   "source": [
    "# Question 3"
   ]
  },
  {
   "cell_type": "code",
   "execution_count": 15,
   "metadata": {
    "collapsed": false
   },
   "outputs": [
    {
     "name": "stdout",
     "output_type": "stream",
     "text": [
      "belief=[1.0, 0.0, 0.0, 0.0]\n",
      "Best action = 30 with utility = 10.177308937025483\n",
      "best_action = 30\n"
     ]
    }
   ],
   "source": [
    "println(\"belief=$belief_θ20\")\n",
    "best_action, plt = get_best_action_1step_horizon(belief_θ20, states, \n",
    "                                                    actions)\n",
    "println(\"best_action = $best_action\")"
   ]
  },
  {
   "cell_type": "code",
   "execution_count": 16,
   "metadata": {
    "collapsed": false
   },
   "outputs": [
    {
     "data": {
      "image/svg+xml": [
       "<?xml version=\"1.0\" encoding=\"utf-8\"?>\n",
       "<svg xmlns=\"http://www.w3.org/2000/svg\" xmlns:xlink=\"http://www.w3.org/1999/xlink\" width=\"600\" height=\"400\" viewBox=\"0 0 2400 1600\">\n",
       "<defs>\n",
       "  <clipPath id=\"clip1800\">\n",
       "    <rect x=\"0\" y=\"0\" width=\"2000\" height=\"2000\"/>\n",
       "  </clipPath>\n",
       "</defs>\n",
       "<defs>\n",
       "  <clipPath id=\"clip1801\">\n",
       "    <rect x=\"0\" y=\"0\" width=\"2400\" height=\"1600\"/>\n",
       "  </clipPath>\n",
       "</defs>\n",
       "<polygon clip-path=\"url(#clip1801)\" points=\"\n",
       "0,1600 2400,1600 2400,0 0,0 \n",
       "  \" fill=\"#ffffff\" fill-rule=\"evenodd\" fill-opacity=\"1\"/>\n",
       "<defs>\n",
       "  <clipPath id=\"clip1802\">\n",
       "    <rect x=\"480\" y=\"0\" width=\"1681\" height=\"1600\"/>\n",
       "  </clipPath>\n",
       "</defs>\n",
       "<polygon clip-path=\"url(#clip1801)\" points=\"\n",
       "211.005,1440.48 2321.26,1440.48 2321.26,47.2441 211.005,47.2441 \n",
       "  \" fill=\"#ffffff\" fill-rule=\"evenodd\" fill-opacity=\"1\"/>\n",
       "<defs>\n",
       "  <clipPath id=\"clip1803\">\n",
       "    <rect x=\"211\" y=\"47\" width=\"2111\" height=\"1394\"/>\n",
       "  </clipPath>\n",
       "</defs>\n",
       "<polyline clip-path=\"url(#clip1803)\" style=\"stroke:#000000; stroke-width:2; stroke-opacity:0.1; fill:none\" points=\"\n",
       "  211.005,1440.48 211.005,47.2441 \n",
       "  \"/>\n",
       "<polyline clip-path=\"url(#clip1803)\" style=\"stroke:#000000; stroke-width:2; stroke-opacity:0.1; fill:none\" points=\"\n",
       "  633.056,1440.48 633.056,47.2441 \n",
       "  \"/>\n",
       "<polyline clip-path=\"url(#clip1803)\" style=\"stroke:#000000; stroke-width:2; stroke-opacity:0.1; fill:none\" points=\"\n",
       "  1055.11,1440.48 1055.11,47.2441 \n",
       "  \"/>\n",
       "<polyline clip-path=\"url(#clip1803)\" style=\"stroke:#000000; stroke-width:2; stroke-opacity:0.1; fill:none\" points=\"\n",
       "  1477.16,1440.48 1477.16,47.2441 \n",
       "  \"/>\n",
       "<polyline clip-path=\"url(#clip1803)\" style=\"stroke:#000000; stroke-width:2; stroke-opacity:0.1; fill:none\" points=\"\n",
       "  1899.21,1440.48 1899.21,47.2441 \n",
       "  \"/>\n",
       "<polyline clip-path=\"url(#clip1803)\" style=\"stroke:#000000; stroke-width:2; stroke-opacity:0.1; fill:none\" points=\"\n",
       "  2321.26,1440.48 2321.26,47.2441 \n",
       "  \"/>\n",
       "<polyline clip-path=\"url(#clip1803)\" style=\"stroke:#000000; stroke-width:2; stroke-opacity:0.1; fill:none\" points=\"\n",
       "  211.005,1440.48 2321.26,1440.48 \n",
       "  \"/>\n",
       "<polyline clip-path=\"url(#clip1803)\" style=\"stroke:#000000; stroke-width:2; stroke-opacity:0.1; fill:none\" points=\"\n",
       "  211.005,976.07 2321.26,976.07 \n",
       "  \"/>\n",
       "<polyline clip-path=\"url(#clip1803)\" style=\"stroke:#000000; stroke-width:2; stroke-opacity:0.1; fill:none\" points=\"\n",
       "  211.005,511.657 2321.26,511.657 \n",
       "  \"/>\n",
       "<polyline clip-path=\"url(#clip1803)\" style=\"stroke:#000000; stroke-width:2; stroke-opacity:0.1; fill:none\" points=\"\n",
       "  211.005,47.2441 2321.26,47.2441 \n",
       "  \"/>\n",
       "<polyline clip-path=\"url(#clip1801)\" style=\"stroke:#000000; stroke-width:4; stroke-opacity:1; fill:none\" points=\"\n",
       "  211.005,1440.48 2321.26,1440.48 \n",
       "  \"/>\n",
       "<polyline clip-path=\"url(#clip1801)\" style=\"stroke:#000000; stroke-width:4; stroke-opacity:1; fill:none\" points=\"\n",
       "  211.005,1440.48 211.005,47.2441 \n",
       "  \"/>\n",
       "<polyline clip-path=\"url(#clip1801)\" style=\"stroke:#000000; stroke-width:4; stroke-opacity:1; fill:none\" points=\"\n",
       "  211.005,1440.48 211.005,1419.58 \n",
       "  \"/>\n",
       "<polyline clip-path=\"url(#clip1801)\" style=\"stroke:#000000; stroke-width:4; stroke-opacity:1; fill:none\" points=\"\n",
       "  633.056,1440.48 633.056,1419.58 \n",
       "  \"/>\n",
       "<polyline clip-path=\"url(#clip1801)\" style=\"stroke:#000000; stroke-width:4; stroke-opacity:1; fill:none\" points=\"\n",
       "  1055.11,1440.48 1055.11,1419.58 \n",
       "  \"/>\n",
       "<polyline clip-path=\"url(#clip1801)\" style=\"stroke:#000000; stroke-width:4; stroke-opacity:1; fill:none\" points=\"\n",
       "  1477.16,1440.48 1477.16,1419.58 \n",
       "  \"/>\n",
       "<polyline clip-path=\"url(#clip1801)\" style=\"stroke:#000000; stroke-width:4; stroke-opacity:1; fill:none\" points=\"\n",
       "  1899.21,1440.48 1899.21,1419.58 \n",
       "  \"/>\n",
       "<polyline clip-path=\"url(#clip1801)\" style=\"stroke:#000000; stroke-width:4; stroke-opacity:1; fill:none\" points=\"\n",
       "  2321.26,1440.48 2321.26,1419.58 \n",
       "  \"/>\n",
       "<polyline clip-path=\"url(#clip1801)\" style=\"stroke:#000000; stroke-width:4; stroke-opacity:1; fill:none\" points=\"\n",
       "  211.005,1440.48 242.659,1440.48 \n",
       "  \"/>\n",
       "<polyline clip-path=\"url(#clip1801)\" style=\"stroke:#000000; stroke-width:4; stroke-opacity:1; fill:none\" points=\"\n",
       "  211.005,976.07 242.659,976.07 \n",
       "  \"/>\n",
       "<polyline clip-path=\"url(#clip1801)\" style=\"stroke:#000000; stroke-width:4; stroke-opacity:1; fill:none\" points=\"\n",
       "  211.005,511.657 242.659,511.657 \n",
       "  \"/>\n",
       "<polyline clip-path=\"url(#clip1801)\" style=\"stroke:#000000; stroke-width:4; stroke-opacity:1; fill:none\" points=\"\n",
       "  211.005,47.2441 242.659,47.2441 \n",
       "  \"/>\n",
       "<g clip-path=\"url(#clip1801)\">\n",
       "<text style=\"fill:#000000; fill-opacity:1; font-family:Arial,Helvetica Neue,Helvetica,sans-serif; font-size:48px; text-anchor:middle;\" transform=\"rotate(0, 211.005, 1494.48)\" x=\"211.005\" y=\"1494.48\">0</text>\n",
       "</g>\n",
       "<g clip-path=\"url(#clip1801)\">\n",
       "<text style=\"fill:#000000; fill-opacity:1; font-family:Arial,Helvetica Neue,Helvetica,sans-serif; font-size:48px; text-anchor:middle;\" transform=\"rotate(0, 633.056, 1494.48)\" x=\"633.056\" y=\"1494.48\">20</text>\n",
       "</g>\n",
       "<g clip-path=\"url(#clip1801)\">\n",
       "<text style=\"fill:#000000; fill-opacity:1; font-family:Arial,Helvetica Neue,Helvetica,sans-serif; font-size:48px; text-anchor:middle;\" transform=\"rotate(0, 1055.11, 1494.48)\" x=\"1055.11\" y=\"1494.48\">40</text>\n",
       "</g>\n",
       "<g clip-path=\"url(#clip1801)\">\n",
       "<text style=\"fill:#000000; fill-opacity:1; font-family:Arial,Helvetica Neue,Helvetica,sans-serif; font-size:48px; text-anchor:middle;\" transform=\"rotate(0, 1477.16, 1494.48)\" x=\"1477.16\" y=\"1494.48\">60</text>\n",
       "</g>\n",
       "<g clip-path=\"url(#clip1801)\">\n",
       "<text style=\"fill:#000000; fill-opacity:1; font-family:Arial,Helvetica Neue,Helvetica,sans-serif; font-size:48px; text-anchor:middle;\" transform=\"rotate(0, 1899.21, 1494.48)\" x=\"1899.21\" y=\"1494.48\">80</text>\n",
       "</g>\n",
       "<g clip-path=\"url(#clip1801)\">\n",
       "<text style=\"fill:#000000; fill-opacity:1; font-family:Arial,Helvetica Neue,Helvetica,sans-serif; font-size:48px; text-anchor:middle;\" transform=\"rotate(0, 2321.26, 1494.48)\" x=\"2321.26\" y=\"1494.48\">100</text>\n",
       "</g>\n",
       "<g clip-path=\"url(#clip1801)\">\n",
       "<text style=\"fill:#000000; fill-opacity:1; font-family:Arial,Helvetica Neue,Helvetica,sans-serif; font-size:48px; text-anchor:end;\" transform=\"rotate(0, 187.005, 1457.98)\" x=\"187.005\" y=\"1457.98\">0</text>\n",
       "</g>\n",
       "<g clip-path=\"url(#clip1801)\">\n",
       "<text style=\"fill:#000000; fill-opacity:1; font-family:Arial,Helvetica Neue,Helvetica,sans-serif; font-size:48px; text-anchor:end;\" transform=\"rotate(0, 187.005, 993.57)\" x=\"187.005\" y=\"993.57\">10</text>\n",
       "</g>\n",
       "<g clip-path=\"url(#clip1801)\">\n",
       "<text style=\"fill:#000000; fill-opacity:1; font-family:Arial,Helvetica Neue,Helvetica,sans-serif; font-size:48px; text-anchor:end;\" transform=\"rotate(0, 187.005, 529.157)\" x=\"187.005\" y=\"529.157\">20</text>\n",
       "</g>\n",
       "<g clip-path=\"url(#clip1801)\">\n",
       "<text style=\"fill:#000000; fill-opacity:1; font-family:Arial,Helvetica Neue,Helvetica,sans-serif; font-size:48px; text-anchor:end;\" transform=\"rotate(0, 187.005, 64.7441)\" x=\"187.005\" y=\"64.7441\">30</text>\n",
       "</g>\n",
       "<g clip-path=\"url(#clip1801)\">\n",
       "<text style=\"fill:#000000; fill-opacity:1; font-family:Arial,Helvetica Neue,Helvetica,sans-serif; font-size:66px; text-anchor:middle;\" transform=\"rotate(0, 1266.13, 1590.4)\" x=\"1266.13\" y=\"1590.4\">a</text>\n",
       "</g>\n",
       "<g clip-path=\"url(#clip1801)\">\n",
       "<text style=\"fill:#000000; fill-opacity:1; font-family:Arial,Helvetica Neue,Helvetica,sans-serif; font-size:66px; text-anchor:middle;\" transform=\"rotate(-90, 57.6, 743.863)\" x=\"57.6\" y=\"743.863\">Utility_1steph(b,a) with b=[1.0, 0.0, 0.0, 0.0]</text>\n",
       "</g>\n",
       "<circle clip-path=\"url(#clip1803)\" style=\"fill:#000000; stroke:none; fill-opacity:1\" cx=\"211.005\" cy=\"1440.48\" r=\"5\"/>\n",
       "<circle clip-path=\"url(#clip1803)\" style=\"fill:#000000; stroke:none; fill-opacity:1\" cx=\"211.005\" cy=\"1440.48\" r=\"1\"/>\n",
       "<circle clip-path=\"url(#clip1803)\" style=\"fill:#000000; stroke:none; fill-opacity:1\" cx=\"422.03\" cy=\"1133.62\" r=\"21\"/>\n",
       "<circle clip-path=\"url(#clip1803)\" style=\"fill:#0000ff; stroke:none; fill-opacity:1\" cx=\"422.03\" cy=\"1133.62\" r=\"18\"/>\n",
       "<circle clip-path=\"url(#clip1803)\" style=\"fill:#000000; stroke:none; fill-opacity:1\" cx=\"633.056\" cy=\"976.07\" r=\"21\"/>\n",
       "<circle clip-path=\"url(#clip1803)\" style=\"fill:#0000ff; stroke:none; fill-opacity:1\" cx=\"633.056\" cy=\"976.07\" r=\"18\"/>\n",
       "<circle clip-path=\"url(#clip1803)\" style=\"fill:#000000; stroke:none; fill-opacity:1\" cx=\"844.081\" cy=\"967.835\" r=\"21\"/>\n",
       "<circle clip-path=\"url(#clip1803)\" style=\"fill:#0000ff; stroke:none; fill-opacity:1\" cx=\"844.081\" cy=\"967.835\" r=\"18\"/>\n",
       "<circle clip-path=\"url(#clip1803)\" style=\"fill:#000000; stroke:none; fill-opacity:1\" cx=\"1055.11\" cy=\"1052.96\" r=\"21\"/>\n",
       "<circle clip-path=\"url(#clip1803)\" style=\"fill:#0000ff; stroke:none; fill-opacity:1\" cx=\"1055.11\" cy=\"1052.96\" r=\"18\"/>\n",
       "<circle clip-path=\"url(#clip1803)\" style=\"fill:#000000; stroke:none; fill-opacity:1\" cx=\"1266.13\" cy=\"1163.69\" r=\"21\"/>\n",
       "<circle clip-path=\"url(#clip1803)\" style=\"fill:#0000ff; stroke:none; fill-opacity:1\" cx=\"1266.13\" cy=\"1163.69\" r=\"18\"/>\n",
       "<circle clip-path=\"url(#clip1803)\" style=\"fill:#000000; stroke:none; fill-opacity:1\" cx=\"1477.16\" cy=\"1259.45\" r=\"21\"/>\n",
       "<circle clip-path=\"url(#clip1803)\" style=\"fill:#0000ff; stroke:none; fill-opacity:1\" cx=\"1477.16\" cy=\"1259.45\" r=\"18\"/>\n",
       "<circle clip-path=\"url(#clip1803)\" style=\"fill:#000000; stroke:none; fill-opacity:1\" cx=\"1688.18\" cy=\"1328.51\" r=\"21\"/>\n",
       "<circle clip-path=\"url(#clip1803)\" style=\"fill:#0000ff; stroke:none; fill-opacity:1\" cx=\"1688.18\" cy=\"1328.51\" r=\"18\"/>\n",
       "<circle clip-path=\"url(#clip1803)\" style=\"fill:#000000; stroke:none; fill-opacity:1\" cx=\"1899.21\" cy=\"1373.66\" r=\"21\"/>\n",
       "<circle clip-path=\"url(#clip1803)\" style=\"fill:#0000ff; stroke:none; fill-opacity:1\" cx=\"1899.21\" cy=\"1373.66\" r=\"18\"/>\n",
       "<circle clip-path=\"url(#clip1803)\" style=\"fill:#000000; stroke:none; fill-opacity:1\" cx=\"2110.23\" cy=\"1401.54\" r=\"21\"/>\n",
       "<circle clip-path=\"url(#clip1803)\" style=\"fill:#0000ff; stroke:none; fill-opacity:1\" cx=\"2110.23\" cy=\"1401.54\" r=\"18\"/>\n",
       "</svg>\n"
      ]
     },
     "execution_count": 16,
     "metadata": {},
     "output_type": "execute_result"
    }
   ],
   "source": [
    "plt"
   ]
  },
  {
   "cell_type": "markdown",
   "metadata": {},
   "source": [
    "$$ \\boxed{\\text{The best action with belief } \\theta=20\\text{ certain for 1-step horizon is action}=30}$$"
   ]
  },
  {
   "cell_type": "markdown",
   "metadata": {},
   "source": [
    "# Question 4"
   ]
  },
  {
   "cell_type": "markdown",
   "metadata": {},
   "source": [
    "  \n",
    "**Transition Model:**\n",
    "$$T(s' \\mid s,a) = 1 \\text{ if } s'=s$$\n",
    "$$T(s' \\mid s,a) = 0 \\text{ if } s'\\neq s$$  \n",
    "  \n",
    "Because $\\theta$ remains (unobservable directly) but constant over steps: hidden but constant  \n",
    "  \n",
    "  \n",
    "**Belief Update:** Cf DMU 6.2.1: Belief Updating with Discrete State Filter  \n",
    "$$b'(s')=P(s' \\mid o,a,b)$$  \n",
    "$$b'(s') \\propto O(o \\mid s',a) \\sum_s T(s' \\mid s,a) \\: b(s)$$  \n",
    "\n",
    "And based on our \"Playing Catch\" Transition Model:  \n",
    "$$b'(s') \\propto O(o \\mid s',a) \\: b(s')$$"
   ]
  },
  {
   "cell_type": "code",
   "execution_count": 17,
   "metadata": {
    "collapsed": false
   },
   "outputs": [],
   "source": [
    "\"\"\"\n",
    "    proba_obs(o::Symbol, s::Int64, a::Int64)\n",
    "\n",
    "OBSERVATION MODEL: return P(o|s,a). With o being :c0 or :c1, s=θ, a=d\n",
    "\"\"\"\n",
    "function proba_obs(o::Symbol, s::Int64, a::Int64)\n",
    "    if o == :c1\n",
    "        return proba_obs_c1(s, a)\n",
    "    else\n",
    "        return 1 - proba_obs_c1(s, a)\n",
    "    end\n",
    "end;"
   ]
  },
  {
   "cell_type": "code",
   "execution_count": 18,
   "metadata": {
    "collapsed": false
   },
   "outputs": [],
   "source": [
    "\"\"\"\n",
    "    UpdateBelief(b::VecBelief, a::Int64, o::Symbol, \n",
    "                    states::VecStates)\n",
    "\n",
    "FILTER UpdateBelief: return new belief based on current belief, \n",
    "                        action and observation\n",
    "\"\"\"\n",
    "function UpdateBelief(b::VecBelief, a::Int64, o::Symbol, \n",
    "                        states::VecStates)\n",
    "    bp = copy(b)\n",
    "    for i in 1:length(b)\n",
    "        bp[i] = proba_obs(o, states[i], a) * b[i]\n",
    "    end\n",
    "    bp = bp / sum(bp)\n",
    "    return bp\n",
    "end;"
   ]
  },
  {
   "cell_type": "code",
   "execution_count": 19,
   "metadata": {
    "collapsed": false
   },
   "outputs": [
    {
     "data": {
      "text/plain": [
       "4-element Array{Float64,1}:\n",
       " 0.11918541531789291\n",
       " 0.23214149061189945\n",
       " 0.3094477121579715 \n",
       " 0.3392253819122361 "
      ]
     },
     "execution_count": 19,
     "metadata": {},
     "output_type": "execute_result"
    }
   ],
   "source": [
    "b = [1/4, 1/4, 1/4, 1/4] # uniform prior belief\n",
    "a = 30 # action: catch at distance of 30 meters\n",
    "o = :c1 # we observe a successful catch\n",
    "\n",
    "bp = UpdateBelief(b, a, o, states)"
   ]
  },
  {
   "cell_type": "markdown",
   "metadata": {},
   "source": [
    "$$ \\boxed{\n",
    "[0.12, 0.23, 0.31, 0.34]=UpdateBelief(b=\\text{uniform}, a=30, o=:c1)}$$"
   ]
  },
  {
   "cell_type": "markdown",
   "metadata": {},
   "source": [
    "# Question 5"
   ]
  },
  {
   "cell_type": "code",
   "execution_count": 20,
   "metadata": {
    "collapsed": false
   },
   "outputs": [
    {
     "name": "stdout",
     "output_type": "stream",
     "text": [
      "[0.0162121, 0.0606886, 0.219217, 0.703882]\n",
      "[0.0004801, 0.00672773, 0.0877817, 0.90501]\n",
      "[1.18527e-5, 0.00062176, 0.0293039, 0.970062]\n",
      "[2.78782e-7, 5.47444e-5, 0.00931988, 0.990625]\n"
     ]
    }
   ],
   "source": [
    "b = [1/4, 1/4, 1/4, 1/4] # prior uniform belief\n",
    "a = 100 # action: catch at distance of 100 meters\n",
    "o = :c1 # we observe a successful catch\n",
    "\n",
    "for i in 1:4\n",
    "    b = UpdateBelief(b, a, o, states)\n",
    "    println(b)\n",
    "end"
   ]
  },
  {
   "cell_type": "markdown",
   "metadata": {},
   "source": [
    " Which makes sense: the most probable state is $\\theta=80$  \n",
    " If we can catch successfuly, 4 times in a row, starting from a uniform prior, at 100 meters"
   ]
  },
  {
   "cell_type": "markdown",
   "metadata": {},
   "source": [
    "$$ \\boxed{\\text{Our new belief is }\\approx [0.00, \\: 0.00, \\: 0.01, \\: 0.99]}$$"
   ]
  },
  {
   "cell_type": "markdown",
   "metadata": {},
   "source": [
    "# Question 6"
   ]
  },
  {
   "cell_type": "markdown",
   "metadata": {},
   "source": [
    "Cf DMU section 6.3.2 & 6.3.3   \n",
    "And figure 6.4 for an example 3-step conditional plan"
   ]
  },
  {
   "cell_type": "markdown",
   "metadata": {},
   "source": [
    "We have: h = 4, |O| = 2, |A| = 10  \n",
    "  \n",
    "$$\\boxed{n\\_nodes=\\frac{|O|^h-1}{|O|-1}=\\frac{2^4-1}{2-1}=15}$$"
   ]
  },
  {
   "cell_type": "markdown",
   "metadata": {},
   "source": [
    "The number of possible h-step plans is:  \n",
    "$$\\boxed{n\\_plans= |A|^{n\\_nodes}=10^{15}}$$"
   ]
  },
  {
   "cell_type": "markdown",
   "metadata": {},
   "source": [
    "# Question 7"
   ]
  },
  {
   "cell_type": "markdown",
   "metadata": {},
   "source": [
    "We can recursively compute $U^P(s)$, the expected utility associated with conditional plan $P$ when starting in state s with:  \n",
    "  \n",
    "$$ U^P(s)=R(s,a) + \\sum_{s'} T(s' \\mid s,a) \\sum_o O(o \\mid s',a) \\: U^{P(o)}(s')$$  \n",
    "  \n",
    "Where $a$ is the action associated with the root node of $P$ and $P(o)$ represents the subplan associated with observation $o$  \n",
    "  \n",
    "With our Transition model:   \n",
    "$$T(s' \\mid s,a) = 1 \\text{ if } s'=s$$\n",
    "$$T(s' \\mid s,a) = 0 \\text{ if } s'\\neq s$$  \n",
    "  \n",
    "So we have:  \n",
    "  \n",
    "$$ U^P(s)=R(s,a) +  \\sum_o O(o \\mid s,a) \\: U^{P(o)}(s)$$   "
   ]
  },
  {
   "cell_type": "code",
   "execution_count": 25,
   "metadata": {
    "collapsed": false
   },
   "outputs": [],
   "source": [
    "function Utility_Pjohnny(s::Int64, a::Int64, h::Int64)\n",
    "    if h == 0\n",
    "        return 0\n",
    "    end\n",
    "    \n",
    "    u = Reward_sa(s, a)\n",
    "    u += proba_obs(:c0, s, a) * Utility_Pjohnny(s, a-10, h-1)\n",
    "    u += proba_obs(:c1, s, a) * Utility_Pjohnny(s, a+10, h-1)\n",
    "    #println(\"Pjohnny: s=$s a=$a h=$h u=$u\")\n",
    "    return u\n",
    "end;"
   ]
  },
  {
   "cell_type": "code",
   "execution_count": 26,
   "metadata": {
    "collapsed": false
   },
   "outputs": [],
   "source": [
    "function compute_α_johnny(root_a::Int64, h::Int64, \n",
    "                            states::VecStates)\n",
    "    \n",
    "    α = zeros(Float64, length(states))\n",
    "    for i in 1:length(states)\n",
    "        α[i] = Utility_Pjohnny(states[i], root_a, h)\n",
    "    end\n",
    "    return α\n",
    "end;"
   ]
  },
  {
   "cell_type": "code",
   "execution_count": 27,
   "metadata": {
    "collapsed": false
   },
   "outputs": [
    {
     "data": {
      "text/plain": [
       "4-element Array{Float64,1}:\n",
       "  31.562110114119033\n",
       "  69.14152457714357 \n",
       " 121.95210828903213 \n",
       " 179.38638822051192 "
      ]
     },
     "execution_count": 27,
     "metadata": {},
     "output_type": "execute_result"
    }
   ],
   "source": [
    "root_a = 50\n",
    "h = 4\n",
    "\n",
    "α_johnny = compute_α_johnny(root_a, h, states)"
   ]
  },
  {
   "cell_type": "markdown",
   "metadata": {},
   "source": [
    "$$ \\boxed{\\text{The alpha vector for Johnny's policy is: } \\alpha_{Johnny}=[31.56, \\: 69.14, \\: 121.95, \\: 179.39]}$$"
   ]
  },
  {
   "cell_type": "markdown",
   "metadata": {},
   "source": [
    "# Question 8"
   ]
  },
  {
   "cell_type": "markdown",
   "metadata": {},
   "source": [
    "The expected utility associated with a belief state can be computed as:  \n",
    "$U^P(b)=\\sum_s U^P(s) \\: b(s)$  \n",
    "$U^P(\\mathbf{b})= \\mathbf{\\alpha_P}^T \\: \\mathbf{b}$ which is a dot product between $\\alpha$ vector and belief vector"
   ]
  },
  {
   "cell_type": "code",
   "execution_count": 28,
   "metadata": {
    "collapsed": true
   },
   "outputs": [],
   "source": [
    "using LinearAlgebra\n",
    "\n",
    "const VecAlpha = Array{Float64, 1};"
   ]
  },
  {
   "cell_type": "code",
   "execution_count": 29,
   "metadata": {
    "collapsed": false
   },
   "outputs": [],
   "source": [
    "\"\"\"\n",
    "    Utility_bα(b::VecBelief, α::VecAlpha)\n",
    "\n",
    "UTILITY: returns expected utility based on a belief \n",
    "            and an alpha-vector \n",
    "\"\"\"\n",
    "function Utility_bα(b::VecBelief, α::VecAlpha)\n",
    "    return transpose(α) * b\n",
    "end;"
   ]
  },
  {
   "cell_type": "code",
   "execution_count": 30,
   "metadata": {
    "collapsed": false
   },
   "outputs": [
    {
     "name": "stdout",
     "output_type": "stream",
     "text": [
      "[0.0, 0.0, 0.0, 1.0]\n",
      "[31.5621, 69.1415, 121.952, 179.386]\n"
     ]
    },
    {
     "data": {
      "text/plain": [
       "179.38638822051192"
      ]
     },
     "execution_count": 30,
     "metadata": {},
     "output_type": "execute_result"
    }
   ],
   "source": [
    "println(belief_θ80)\n",
    "println(α_johnny)\n",
    "Utility_bα(belief_θ80, α_johnny)"
   ]
  },
  {
   "cell_type": "markdown",
   "metadata": {},
   "source": [
    "$$ \\boxed{\\text{The 4-steps strategy from Johnny has an expeted utility } U^{Johnny}(\\text{belief}\\:\\theta80)=179.39}$$"
   ]
  },
  {
   "cell_type": "code",
   "execution_count": 31,
   "metadata": {
    "collapsed": false
   },
   "outputs": [
    {
     "name": "stdout",
     "output_type": "stream",
     "text": [
      "[0.25, 0.25, 0.25, 0.25]\n",
      "[31.5621, 69.1415, 121.952, 179.386]\n"
     ]
    },
    {
     "data": {
      "text/plain": [
       "100.51053280020167"
      ]
     },
     "execution_count": 31,
     "metadata": {},
     "output_type": "execute_result"
    }
   ],
   "source": [
    "println(belief_uniform)\n",
    "println(α_johnny)\n",
    "Utility_bα(belief_uniform, α_johnny)"
   ]
  },
  {
   "cell_type": "markdown",
   "metadata": {},
   "source": [
    "$$ \\boxed{\\text{The 4-steps strategy from Johnny has an expeted utility } U^{Johnny}(\\text{belief Uniform})=100.51}$$"
   ]
  },
  {
   "cell_type": "markdown",
   "metadata": {},
   "source": [
    "# Question 9"
   ]
  },
  {
   "cell_type": "markdown",
   "metadata": {},
   "source": [
    "**1-step lookahead policy:**  \n",
    "\n",
    "$$ \\pi(b) = argmax_a \\: [R(b,a) + \\gamma \\sum_o P(o \\mid b,a) \\: U(\\text{UpdateBelief}(b,a,o))]$$  \n",
    "\n",
    "As a reminder, by applying the Law of Total Probability multiple times we have:  \n",
    "  \n",
    "$$ P(o \\mid a,b) = \\sum_s P(o, s \\mid a,b) = \\sum_s P(o  \\mid a,b,s) \\: p(s \\mid a,b)$$\n",
    "$$ P(o \\mid a,b) = \\sum_s b(s) \\: P(o  \\mid a,b,s) = \\sum_s b(s) \\: P(o  \\mid a,s)$$\n",
    "$$ P(o \\mid a,b) = \\sum_s b(s) \\: P(o  \\mid a,s) = \\sum_s b(s) \\: \\sum_{s'} P(o, s'  \\mid a,s) $$\n",
    "$$ P(o \\mid a,b) = \\sum_s b(s) \\: \\sum_{s'} P(o \\mid a,s,s') \\: P(s' \\mid a,s) $$\n",
    "$$ P(o \\mid a,b) = \\sum_s b(s) \\: \\sum_{s'} P(o \\mid a,s') \\: P(s' \\mid a,s) $$\n",
    "  \n",
    "$$ P(o \\mid b,a) = \\sum_s b(s) \\sum_{s'} O(o \\mid s',a) \\: T(s' \\mid s,a)$$  \n",
    "  \n",
    "With our Transition model:   \n",
    "$$T(s' \\mid s,a) = 1 \\text{ if } s'=s$$\n",
    "$$T(s' \\mid s,a) = 0 \\text{ if } s'\\neq s$$  \n",
    "  \n",
    "$\\gamma=1$ as we are dealing with finite horizon  \n",
    "  \n",
    "So we have:  \n",
    "$$ P(o \\mid b,a) = \\sum_s b(s) \\: O(o \\mid s,a)$$  "
   ]
  },
  {
   "cell_type": "code",
   "execution_count": 36,
   "metadata": {
    "collapsed": false
   },
   "outputs": [],
   "source": [
    "\"\"\"\n",
    "    proba_obs(o::Symbol, belief::VecBelief, a::Int64, \n",
    "                states::VecStates)\n",
    "\n",
    "OBSERVATION MODEL: return P(o|b,a). With o being :c0 or :c1, \n",
    "                        b=belief, a=d\n",
    "\"\"\"\n",
    "function proba_obs(o::Symbol, belief::VecBelief, a::Int64, \n",
    "                    states::VecStates)\n",
    "    p = 0\n",
    "    for i in 1:length(states)\n",
    "        p += belief[i] * proba_obs(o, states[i], a)\n",
    "    end\n",
    "    return p\n",
    "end;"
   ]
  },
  {
   "cell_type": "code",
   "execution_count": 37,
   "metadata": {
    "collapsed": false
   },
   "outputs": [
    {
     "name": "stdout",
     "output_type": "stream",
     "text": [
      "search: \u001b[0m\u001b[1mp\u001b[22m\u001b[0m\u001b[1mr\u001b[22m\u001b[0m\u001b[1mo\u001b[22m\u001b[0m\u001b[1mb\u001b[22m\u001b[0m\u001b[1ma\u001b[22m\u001b[0m\u001b[1m_\u001b[22m\u001b[0m\u001b[1mo\u001b[22m\u001b[0m\u001b[1mb\u001b[22m\u001b[0m\u001b[1ms\u001b[22m \u001b[0m\u001b[1mp\u001b[22m\u001b[0m\u001b[1mr\u001b[22m\u001b[0m\u001b[1mo\u001b[22m\u001b[0m\u001b[1mb\u001b[22m\u001b[0m\u001b[1ma\u001b[22m\u001b[0m\u001b[1m_\u001b[22m\u001b[0m\u001b[1mo\u001b[22m\u001b[0m\u001b[1mb\u001b[22m\u001b[0m\u001b[1ms\u001b[22m_c1\n",
      "\n"
     ]
    },
    {
     "data": {
      "text/markdown": [
       "```\n",
       "proba_obs(o::Symbol, s::Int64, a::Int64)\n",
       "```\n",
       "\n",
       "OBSERVATION MODEL: return P(o|s,a). With o being :c0 or :c1, s=θ, a=d\n",
       "\n",
       "---\n",
       "\n",
       "```\n",
       "proba_obs(o::Symbol, belief::VecBelief, a::Int64, \n",
       "            states::VecStates)\n",
       "```\n",
       "\n",
       "OBSERVATION MODEL: return P(o|b,a). With o being :c0 or :c1,                          b=belief, a=d\n"
      ],
      "text/plain": [
       "\u001b[36m  proba_obs(o::Symbol, s::Int64, a::Int64)\u001b[39m\n",
       "\n",
       "  OBSERVATION MODEL: return P(o|s,a). With o being :c0 or :c1, s=θ, a=d\n",
       "\n",
       "  ────────────────────────────────────────────────────────────────────────────\n",
       "\n",
       "\u001b[36m  proba_obs(o::Symbol, belief::VecBelief, a::Int64, \u001b[39m\n",
       "\u001b[36m              states::VecStates)\u001b[39m\n",
       "\n",
       "  OBSERVATION MODEL: return P(o|b,a). With o being :c0 or :c1, b=belief, a=d"
      ]
     },
     "execution_count": 37,
     "metadata": {},
     "output_type": "execute_result"
    }
   ],
   "source": [
    "?proba_obs"
   ]
  },
  {
   "cell_type": "markdown",
   "metadata": {},
   "source": [
    "**1-step lookahead policy:**  \n",
    "\n",
    "$$ \\pi(b) = argmax_a \\: [R(b,a) + \\gamma \\sum_o P(o \\mid b,a) \\: U(\\text{UpdateBelief}(b,a,o))]$$  "
   ]
  },
  {
   "cell_type": "code",
   "execution_count": 38,
   "metadata": {
    "collapsed": false
   },
   "outputs": [],
   "source": [
    "function Lookahead_1step(b::VecBelief, α::VecAlpha, states::VecStates, \n",
    "                    actions::VecActions, observations::VecObservations)\n",
    "    \n",
    "    best_action = nothing\n",
    "    best_utility = -Inf\n",
    "    \n",
    "    for a in actions\n",
    "        utility = Reward_ba(b ,a, states)\n",
    "        for o in observations\n",
    "            p = proba_obs(o, b, a, states)\n",
    "            bp = UpdateBelief(b, a, o, states)\n",
    "            utility += p * Utility_bα(bp, α)\n",
    "        end\n",
    "        \n",
    "        println(\"utility($a)=$utility\")\n",
    "        \n",
    "        if utility > best_utility\n",
    "            best_utility = utility\n",
    "            best_action = a\n",
    "        end\n",
    "    end\n",
    "    \n",
    "    return best_action\n",
    "end;"
   ]
  },
  {
   "cell_type": "code",
   "execution_count": 39,
   "metadata": {
    "collapsed": false
   },
   "outputs": [
    {
     "name": "stdout",
     "output_type": "stream",
     "text": [
      "[31.5621, 69.1415, 121.952, 179.386]\n",
      "[20, 40, 60, 80]\n",
      "[10, 20, 30, 40, 50, 60, 70, 80, 90, 100]\n",
      "Symbol[:c0, :c1]\n",
      "utility(10)=58.0595845793498\n",
      "utility(20)=63.26573207237086\n",
      "utility(30)=65.3518173456313\n",
      "utility(40)=64.5239878921522\n",
      "utility(50)=61.81298117703882\n",
      "utility(60)=58.55914823927257\n",
      "utility(70)=55.72950146472281\n",
      "utility(80)=53.670032509261524\n",
      "utility(90)=52.3210693211388\n",
      "utility(100)=51.491365488093855\n"
     ]
    },
    {
     "data": {
      "text/plain": [
       "30"
      ]
     },
     "execution_count": 39,
     "metadata": {},
     "output_type": "execute_result"
    }
   ],
   "source": [
    "belief = [0.5, 0.5, 0, 0]\n",
    "println(α_johnny)\n",
    "println(states)\n",
    "println(actions)\n",
    "println(observations)\n",
    "\n",
    "Lookahead_1step(belief, α_johnny, states, actions, observations)"
   ]
  },
  {
   "cell_type": "markdown",
   "metadata": {},
   "source": [
    "$$ \\boxed{\\text{The 1-step lookahead with } \\alpha_{Johnny} \\text{ and a belief } b=[0.5, 0.5, 0 ,0] \\text{ leads to action } a=30 }$$"
   ]
  },
  {
   "cell_type": "markdown",
   "metadata": {
    "collapsed": true
   },
   "source": [
    "# Question 10"
   ]
  },
  {
   "cell_type": "markdown",
   "metadata": {},
   "source": [
    "I will use a Forward Search algorithm extending the one-step lookahead strategy to a depth corresponding to our finite horizon. To compute the value for an action a, we evaluate:\n",
    "  \n",
    "$$ \\boxed{R(b,a) + \\gamma \\sum_o P(o \\mid b,a) \\: U_{d-1}(\\text{UpdateBelief}(b,a,o))}$$\n",
    "  \n",
    "As a reminder, by applying the Law of Total Probability multiple times we have:  \n",
    "  \n",
    "$$ P(o \\mid a,b) = \\sum_s P(o, s \\mid a,b) = \\sum_s P(o  \\mid a,b,s) \\: p(s \\mid a,b)$$\n",
    "$$ P(o \\mid a,b) = \\sum_s b(s) \\: P(o  \\mid a,b,s) = \\sum_s b(s) \\: P(o  \\mid a,s)$$\n",
    "$$ P(o \\mid a,b) = \\sum_s b(s) \\: P(o  \\mid a,s) = \\sum_s b(s) \\: \\sum_{s'} P(o, s'  \\mid a,s) $$\n",
    "$$ P(o \\mid a,b) = \\sum_s b(s) \\: \\sum_{s'} P(o \\mid a,s,s') \\: P(s' \\mid a,s) $$\n",
    "$$ P(o \\mid a,b) = \\sum_s b(s) \\: \\sum_{s'} P(o \\mid a,s') \\: P(s' \\mid a,s) $$\n",
    "  \n",
    "With our Transition model:\n",
    "$$P(s' \\mid s,a) = 1 \\text{ if } s'=s$$\n",
    "$$P(s' \\mid s,a) = 0 \\text{ if } s'\\neq s$$\n",
    "So we end up with:\n",
    "$$ \\boxed{P(o \\mid a,b) = \\sum_s b(s) \\:  P(o \\mid a,s)} $$"
   ]
  },
  {
   "cell_type": "code",
   "execution_count": 40,
   "metadata": {
    "collapsed": false
   },
   "outputs": [],
   "source": [
    "# Forward Search algorithm used over h-step horizon\n",
    "\n",
    "\"\"\"\n",
    "    SelectAction(b::VecBelief, h::Int64, \n",
    "                    states::VecStates, actions::VecActions, \n",
    "                    observations::VecObservations)\n",
    "\n",
    "FORWARD SEARCH: return (best_action, best_utility) \n",
    "        for a finite h-step horizon problem based on current belief\n",
    "\"\"\"\n",
    "function SelectAction(b::VecBelief, h::Int64, states::VecStates, \n",
    "                    actions::VecActions, observations::VecObservations)\n",
    "    \n",
    "    if h == 0\n",
    "        return -1, 0 # for inf horizon we would use a U(b) approximation\n",
    "    end\n",
    "    \n",
    "    best_a = -1\n",
    "    best_u = -Inf\n",
    "    \n",
    "    for a in actions\n",
    "        u = Reward_ba(b, a, states)\n",
    "        for o in observations\n",
    "            bp = UpdateBelief(b, a, o, states)\n",
    "            ap, up = SelectAction(bp, h-1, states,actions,observations)\n",
    "            u += proba_obs(o, b, a, states) * up\n",
    "        end\n",
    "        \n",
    "        if u > best_u\n",
    "            best_u = u\n",
    "            best_a = a\n",
    "        end\n",
    "    end\n",
    "    #println(\"h=$h best_a=$best_a best_u=$best_u\")\n",
    "    return (best_a, best_u)\n",
    "    \n",
    "end;"
   ]
  },
  {
   "cell_type": "code",
   "execution_count": 41,
   "metadata": {
    "collapsed": false
   },
   "outputs": [
    {
     "name": "stdout",
     "output_type": "stream",
     "text": [
      "[0.25, 0.25, 0.25, 0.25]\n",
      "[20, 40, 60, 80][10, 20, 30, 40, 50, 60, 70, 80, 90, 100]Symbol[:c0, :c1]\n"
     ]
    },
    {
     "data": {
      "text/plain": [
       "(50, 25.0)"
      ]
     },
     "execution_count": 41,
     "metadata": {},
     "output_type": "execute_result"
    }
   ],
   "source": [
    "println(belief_uniform)\n",
    "println(states, actions, observations)\n",
    "\n",
    "# Just check with 1-step plan: we should get back Q2 answer\n",
    "h = 1\n",
    "SelectAction(belief_uniform, h, states, actions, observations)"
   ]
  },
  {
   "cell_type": "markdown",
   "metadata": {},
   "source": [
    "Sanity check ok: we find same result than in question 2 with a 1-step plan."
   ]
  },
  {
   "cell_type": "code",
   "execution_count": 73,
   "metadata": {
    "collapsed": false
   },
   "outputs": [
    {
     "name": "stdout",
     "output_type": "stream",
     "text": [
      "[0.25, 0.25, 0.25, 0.25]\n",
      "[20, 40, 60, 80][10, 20, 30, 40, 50, 60, 70, 80, 90, 100]Symbol[:c0, :c1]\n",
      "  0.067787 seconds (362.11 k allocations: 36.493 MiB, 11.40% gc time)\n"
     ]
    },
    {
     "data": {
      "text/plain": [
       "(50, 103.28237451968727)"
      ]
     },
     "execution_count": 73,
     "metadata": {},
     "output_type": "execute_result"
    }
   ],
   "source": [
    "h = 4\n",
    "println(belief_uniform)\n",
    "println(states, actions, observations)\n",
    "@time SelectAction(belief_uniform, h, states, actions, observations)"
   ]
  },
  {
   "cell_type": "markdown",
   "metadata": {},
   "source": [
    "This utility is better than the one from Johnny. So it looks consistent."
   ]
  },
  {
   "cell_type": "markdown",
   "metadata": {},
   "source": [
    "$$ \\boxed{\\text{The optimal 4-steps strategy has root action } a=50 \\text{ and an expeted utility } U^*(\\text{belief Uniform})=103.28}$$"
   ]
  },
  {
   "cell_type": "markdown",
   "metadata": {},
   "source": [
    "# Question 11"
   ]
  },
  {
   "cell_type": "markdown",
   "metadata": {},
   "source": [
    "I did this question in 2 different ways. My first implementation corresponding to Question 11.b below, was actually doing several h-step searches: to retrieve the best action from every one of the 15 policy tree nodes. But this is not efficient: after a single h-step search from h=4 we should already have all the relevant information.  \n",
    "  \n",
    "So I did a new version in question 11.a below: the Forward Search procedure from **Question 10** is modified such that it keeps tracks of the SearchTree. And then we just have to extract from this SearchTree the policy tree in a format suitable for D3Trees dump.  \n",
    "  \n",
    "We can check that the results obtained by the 2 different methods are the same but that method 11.a is faster.  "
   ]
  },
  {
   "cell_type": "markdown",
   "metadata": {},
   "source": [
    "## Question 11.a: more efficient way"
   ]
  },
  {
   "cell_type": "code",
   "execution_count": 48,
   "metadata": {
    "collapsed": true
   },
   "outputs": [],
   "source": [
    "using Parameters # for @with_kw"
   ]
  },
  {
   "cell_type": "code",
   "execution_count": 122,
   "metadata": {
    "collapsed": false
   },
   "outputs": [],
   "source": [
    "@with_kw mutable struct ActionNodeInfo\n",
    "    belief::VecBelief = belief_uniform\n",
    "    id::Int64 = -1\n",
    "    parent::Int64 = -1\n",
    "    \n",
    "    # best_c0child best_c1child\n",
    "    best_obschild::Vector{Int64} = []\n",
    "    best_u::Float64 = -Inf\n",
    "    best_a::Int64 = -1\n",
    "end;"
   ]
  },
  {
   "cell_type": "code",
   "execution_count": 123,
   "metadata": {
    "collapsed": false
   },
   "outputs": [],
   "source": [
    "function ActionNodeInfo(n_obs::Int64)\n",
    "    node = ActionNodeInfo()\n",
    "    node.best_obschild = [-1 for i in 1:n_obs]\n",
    "    return node\n",
    "end;"
   ]
  },
  {
   "cell_type": "code",
   "execution_count": 124,
   "metadata": {
    "collapsed": true
   },
   "outputs": [],
   "source": [
    "# Forward Search algorithm used over h-step horizon \n",
    "# + keeps track of SearchTree\n",
    "\n",
    "\"\"\"\n",
    "    TreeSelectAction(b::VecBelief, h::Int64, parentid::Int64,\n",
    "                    states::VecStates, actions::VecActions, \n",
    "                    observations::VecObservations)\n",
    "\n",
    "FORWARD SEARCH: return (best_action, best_utility) \n",
    "        for a finite h-step horizon problem based on current belief\n",
    "        and keeps track of the SearchTree\n",
    "\"\"\"\n",
    "function TreeSelectAction(b::VecBelief, h::Int64,  parentid::Int64,\n",
    "                        states::VecStates, actions::VecActions, \n",
    "                        observations::VecObservations)\n",
    "        \n",
    "    if h == 0\n",
    "        return nothing, 0, -1\n",
    "    end\n",
    "    \n",
    "    best_a = nothing\n",
    "    best_u = -Inf\n",
    "    \n",
    "    nid = length(SearchTree) + 1 # XXXX\n",
    "    \n",
    "    node = ActionNodeInfo(length(observations))\n",
    "    push!(SearchTree, node)\n",
    "    node.id = length(SearchTree)\n",
    "    \n",
    "    node.belief = b\n",
    "    node.parent = parentid\n",
    "    \n",
    "    obschild = [-1 for i in 1:length(observations)]\n",
    "        \n",
    "    for a in actions\n",
    "        u = Reward_ba(b, a, states)\n",
    "        \n",
    "        for (i, o) in enumerate(observations)\n",
    "            bp = UpdateBelief(b, a, o, states)\n",
    "            ap, up, cid  = TreeSelectAction(bp, h-1, nid, \n",
    "                                states,actions,observations)\n",
    "            u += proba_obs(o, b, a, states) * up\n",
    "            if cid > 0\n",
    "                obschild[i] = cid\n",
    "            end\n",
    "        end\n",
    "        \n",
    "        if u > best_u\n",
    "            best_u = u\n",
    "            best_a = a\n",
    "            \n",
    "            node.best_u = u\n",
    "            node.best_a = a\n",
    "            for i in 1:length(observations)\n",
    "                node.best_obschild[i] = obschild[i]\n",
    "            end\n",
    "        end\n",
    "        \n",
    "    end\n",
    "    \n",
    "    return best_a, best_u, nid\n",
    "end;"
   ]
  },
  {
   "cell_type": "code",
   "execution_count": 136,
   "metadata": {
    "collapsed": false
   },
   "outputs": [
    {
     "name": "stdout",
     "output_type": "stream",
     "text": [
      "[0.25, 0.25, 0.25, 0.25]\n",
      "[20, 40, 60, 80][10, 20, 30, 40, 50, 60, 70, 80, 90, 100]Symbol[:c0, :c1]\n",
      "  0.086977 seconds (529.86 k allocations: 42.001 MiB, 14.55% gc time)\n"
     ]
    },
    {
     "data": {
      "text/plain": [
       "(50, 103.28237451968727, 1)"
      ]
     },
     "execution_count": 136,
     "metadata": {},
     "output_type": "execute_result"
    }
   ],
   "source": [
    "h = 4\n",
    "\n",
    " # this is the only var used as global ...\n",
    "global SearchTree = ActionNodeInfo[]\n",
    "\n",
    "println(belief_uniform)\n",
    "println(states, actions, observations)\n",
    "\n",
    "# We redo question 10 ...\n",
    "# But this time we call TreeSelectAction instead of SelectAction\n",
    "# which will update and keep track of the SearchTree\n",
    "@time TreeSelectAction(belief_uniform, h, -1, states,actions,observations)"
   ]
  },
  {
   "cell_type": "code",
   "execution_count": 137,
   "metadata": {
    "collapsed": true
   },
   "outputs": [],
   "source": [
    "using D3Trees"
   ]
  },
  {
   "cell_type": "code",
   "execution_count": 138,
   "metadata": {
    "collapsed": false
   },
   "outputs": [],
   "source": [
    "function GetPolicyTree(h::Int64, SeachTreeId::Int64, \n",
    "            Pchildren::Vector{Vector{Int64}}, \n",
    "            Ptext::Vector{String}, observations::VecObservations)\n",
    "\n",
    "    if h == 0\n",
    "        return -1\n",
    "    end\n",
    "        \n",
    "    push!(Ptext, string(\"action\\n\", SearchTree[SeachTreeId].best_a))\n",
    "    push!(Pchildren, [])\n",
    "    shortid = length(Ptext) \n",
    "        \n",
    "    for i in 1:length(observations)\n",
    "        short_cid = GetPolicyTree(h-1, \n",
    "                        SearchTree[SeachTreeId].best_obschild[i], \n",
    "                        Pchildren, Ptext, observations)\n",
    "        if short_cid > 0\n",
    "            push!(Pchildren[shortid], short_cid)\n",
    "        end\n",
    "    end\n",
    "    \n",
    "    return shortid\n",
    "end;"
   ]
  },
  {
   "cell_type": "code",
   "execution_count": 143,
   "metadata": {
    "collapsed": false
   },
   "outputs": [
    {
     "name": "stdout",
     "output_type": "stream",
     "text": [
      "  0.000041 seconds (208 allocations: 8.922 KiB)\n"
     ]
    }
   ],
   "source": [
    "h = 4\n",
    "Pchildren = Vector{Int64}[]\n",
    "Ptext = String[];\n",
    "@time GetPolicyTree(h, 1, Pchildren, Ptext, observations);"
   ]
  },
  {
   "cell_type": "code",
   "execution_count": 144,
   "metadata": {
    "collapsed": false
   },
   "outputs": [
    {
     "name": "stdout",
     "output_type": "stream",
     "text": [
      "Array{Int64,1}[[2, 9], [3, 6], [4, 5], [], [], [7, 8], [], [], [10, 13], [11, 12], [], [], [14, 15], [], []]\n",
      "[\"action\\n50\", \"action\\n40\", \"action\\n30\", \"action\\n30\", \"action\\n30\", \"action\\n40\", \"action\\n40\", \"action\\n50\", \"action\\n50\", \"action\\n50\", \"action\\n40\", \"action\\n50\", \"action\\n60\", \"action\\n50\", \"action\\n60\"]\n"
     ]
    }
   ],
   "source": [
    "println(Pchildren)\n",
    "println(Ptext)"
   ]
  },
  {
   "cell_type": "markdown",
   "metadata": {},
   "source": [
    "We can check that the call to **GetPolicyTree()** is much faster than the call to **SelectAction()**"
   ]
  },
  {
   "cell_type": "code",
   "execution_count": 145,
   "metadata": {
    "collapsed": false
   },
   "outputs": [],
   "source": [
    "# And now we can get a nice interactive display with D3Tree\n",
    "# NB: to use D3Tree you need an online connection\n",
    "Panna = D3Tree(Pchildren, text=Ptext, init_expand=h);"
   ]
  },
  {
   "cell_type": "markdown",
   "metadata": {},
   "source": [
    "To enable the ipynb to pdf generation, I have to save the Panna image generated by D3Tree and load it.  \n",
    "Otherwise I get a failure message (nbconvert failed...)"
   ]
  },
  {
   "cell_type": "code",
   "execution_count": 146,
   "metadata": {
    "collapsed": false
   },
   "outputs": [
    {
     "data": {
      "image/png": "[encoded data removed]",
      "text/plain": [
       "591×838 Array{RGB{N0f8},2} with eltype RGB{Normed{UInt8,8}}:\n",
       " RGB{N0f8}(1.0,1.0,1.0)  RGB{N0f8}(1.0,1.0,1.0)  …  RGB{N0f8}(1.0,1.0,1.0)\n",
       " RGB{N0f8}(1.0,1.0,1.0)  RGB{N0f8}(1.0,1.0,1.0)     RGB{N0f8}(1.0,1.0,1.0)\n",
       " RGB{N0f8}(1.0,1.0,1.0)  RGB{N0f8}(1.0,1.0,1.0)     RGB{N0f8}(1.0,1.0,1.0)\n",
       " RGB{N0f8}(1.0,1.0,1.0)  RGB{N0f8}(1.0,1.0,1.0)     RGB{N0f8}(1.0,1.0,1.0)\n",
       " RGB{N0f8}(1.0,1.0,1.0)  RGB{N0f8}(1.0,1.0,1.0)     RGB{N0f8}(1.0,1.0,1.0)\n",
       " RGB{N0f8}(1.0,1.0,1.0)  RGB{N0f8}(1.0,1.0,1.0)  …  RGB{N0f8}(1.0,1.0,1.0)\n",
       " RGB{N0f8}(1.0,1.0,1.0)  RGB{N0f8}(1.0,1.0,1.0)     RGB{N0f8}(1.0,1.0,1.0)\n",
       " RGB{N0f8}(1.0,1.0,1.0)  RGB{N0f8}(1.0,1.0,1.0)     RGB{N0f8}(1.0,1.0,1.0)\n",
       " RGB{N0f8}(1.0,1.0,1.0)  RGB{N0f8}(1.0,1.0,1.0)     RGB{N0f8}(1.0,1.0,1.0)\n",
       " RGB{N0f8}(1.0,1.0,1.0)  RGB{N0f8}(1.0,1.0,1.0)     RGB{N0f8}(1.0,1.0,1.0)\n",
       " RGB{N0f8}(1.0,1.0,1.0)  RGB{N0f8}(1.0,1.0,1.0)  …  RGB{N0f8}(1.0,1.0,1.0)\n",
       " RGB{N0f8}(1.0,1.0,1.0)  RGB{N0f8}(1.0,1.0,1.0)     RGB{N0f8}(1.0,1.0,1.0)\n",
       " RGB{N0f8}(1.0,1.0,1.0)  RGB{N0f8}(1.0,1.0,1.0)     RGB{N0f8}(1.0,1.0,1.0)\n",
       " ⋮                                               ⋱                        \n",
       " RGB{N0f8}(1.0,1.0,1.0)  RGB{N0f8}(1.0,1.0,1.0)     RGB{N0f8}(1.0,1.0,1.0)\n",
       " RGB{N0f8}(1.0,1.0,1.0)  RGB{N0f8}(1.0,1.0,1.0)  …  RGB{N0f8}(1.0,1.0,1.0)\n",
       " RGB{N0f8}(1.0,1.0,1.0)  RGB{N0f8}(1.0,1.0,1.0)     RGB{N0f8}(1.0,1.0,1.0)\n",
       " RGB{N0f8}(1.0,1.0,1.0)  RGB{N0f8}(1.0,1.0,1.0)     RGB{N0f8}(1.0,1.0,1.0)\n",
       " RGB{N0f8}(1.0,1.0,1.0)  RGB{N0f8}(1.0,1.0,1.0)     RGB{N0f8}(1.0,1.0,1.0)\n",
       " RGB{N0f8}(1.0,1.0,1.0)  RGB{N0f8}(1.0,1.0,1.0)     RGB{N0f8}(1.0,1.0,1.0)\n",
       " RGB{N0f8}(1.0,1.0,1.0)  RGB{N0f8}(1.0,1.0,1.0)  …  RGB{N0f8}(1.0,1.0,1.0)\n",
       " RGB{N0f8}(1.0,1.0,1.0)  RGB{N0f8}(1.0,1.0,1.0)     RGB{N0f8}(1.0,1.0,1.0)\n",
       " RGB{N0f8}(1.0,1.0,1.0)  RGB{N0f8}(1.0,1.0,1.0)     RGB{N0f8}(1.0,1.0,1.0)\n",
       " RGB{N0f8}(1.0,1.0,1.0)  RGB{N0f8}(1.0,1.0,1.0)     RGB{N0f8}(1.0,1.0,1.0)\n",
       " RGB{N0f8}(1.0,1.0,1.0)  RGB{N0f8}(1.0,1.0,1.0)     RGB{N0f8}(1.0,1.0,1.0)\n",
       " RGB{N0f8}(1.0,1.0,1.0)  RGB{N0f8}(1.0,1.0,1.0)  …  RGB{N0f8}(1.0,1.0,1.0)"
      ]
     },
     "execution_count": 146,
     "metadata": {},
     "output_type": "execute_result"
    }
   ],
   "source": [
    "img = load(\"Panna.png\")"
   ]
  },
  {
   "cell_type": "markdown",
   "metadata": {},
   "source": [
    "We can see that the optimal policy proposed by Anna has many nodes in common with the policy proposed by Johnny. Which is consistent with the fact that the utilities are indeed pretty close. So Johnny had some good intuition about what to do."
   ]
  },
  {
   "cell_type": "markdown",
   "metadata": {},
   "source": [
    "## Question 11.b: less efficient way"
   ]
  },
  {
   "cell_type": "code",
   "execution_count": 80,
   "metadata": {
    "collapsed": false
   },
   "outputs": [],
   "source": [
    "using D3Trees"
   ]
  },
  {
   "cell_type": "code",
   "execution_count": 81,
   "metadata": {
    "collapsed": false
   },
   "outputs": [],
   "source": [
    "# convert a sequence of observations to a NodeId in a PolicyTree\n",
    "\"\"\"\n",
    "    GetNodeId(history_o::VecObservations)\n",
    "\n",
    "POLICY TREE UTILITY: converts a history of observations \n",
    "                        to a unique NodeId\n",
    "\"\"\"\n",
    "function GetNodeId(history_o::VecObservations)\n",
    "    id = 1\n",
    "    mult = 1\n",
    "    for o in history_o\n",
    "        if o == :c0\n",
    "            id += 1 * mult\n",
    "        elseif o == :c1\n",
    "            id += 2 * mult\n",
    "        end\n",
    "        mult *= 2\n",
    "    end\n",
    "    return id\n",
    "end;"
   ]
  },
  {
   "cell_type": "code",
   "execution_count": 82,
   "metadata": {
    "collapsed": false
   },
   "outputs": [],
   "source": [
    "\"\"\"\n",
    "    GetPolicyTree(b::VecBelief, a::Int64, h::Int64, \n",
    "                    history_o::VecObservations, tree::D3Tree, \n",
    "                    states::VecStates, actions::VecActions, \n",
    "                    observations::VecObservations)\n",
    "\n",
    "POLICY TREE UTILITY: updates a D3Tree structure \n",
    "                        for a finite h-steps optimal \n",
    "                        policy starting with root action a and belief b\n",
    "\"\"\"\n",
    "function GetPolicyTree(b::VecBelief, a::Int64, h::Int64, \n",
    "                        history_o::VecObservations, tree::D3Tree, \n",
    "                        states::VecStates, actions::VecActions, \n",
    "                        observations::VecObservations)\n",
    "    h -= 1\n",
    "    for o in observations\n",
    "        parent_id = GetNodeId(history_o)\n",
    "        push!(history_o, o)\n",
    "        node_id = GetNodeId(history_o)\n",
    "        push!(tree.children[parent_id], node_id)\n",
    "        \n",
    "        bp = UpdateBelief(b, a, o, states)\n",
    "        ap, up = SelectAction(bp, h, states, actions, observations)\n",
    "        \n",
    "        tree.text[node_id] = \"action\\n$ap\"\n",
    "        println(\"h=$h a=$ap history_o=$history_o\")\n",
    "        if h > 1\n",
    "            GetPolicyTree(bp, ap, h, history_o, tree, \n",
    "                            states, actions, observations)\n",
    "        end\n",
    "        pop!(history_o)\n",
    "    end\n",
    "\n",
    "end;"
   ]
  },
  {
   "cell_type": "code",
   "execution_count": 83,
   "metadata": {
    "collapsed": false
   },
   "outputs": [
    {
     "name": "stdout",
     "output_type": "stream",
     "text": [
      "belief_uniform=[0.25, 0.25, 0.25, 0.25]\n",
      "sates=[20, 40, 60, 80]\n",
      "actions=[10, 20, 30, 40, 50, 60, 70, 80, 90, 100]\n",
      "observations=Symbol[:c0, :c1]\n",
      "15\n",
      "We dump the policy tree in text\n",
      "and retieve it also in D3Tree format (Panna)\n",
      "h=3 a=40 history_o=Symbol[:c0]\n",
      "h=2 a=30 history_o=Symbol[:c0, :c0]\n",
      "h=1 a=30 history_o=Symbol[:c0, :c0, :c0]\n",
      "h=1 a=30 history_o=Symbol[:c0, :c0, :c1]\n",
      "h=2 a=40 history_o=Symbol[:c0, :c1]\n",
      "h=1 a=40 history_o=Symbol[:c0, :c1, :c0]\n",
      "h=1 a=50 history_o=Symbol[:c0, :c1, :c1]\n",
      "h=3 a=50 history_o=Symbol[:c1]\n",
      "h=2 a=50 history_o=Symbol[:c1, :c0]\n",
      "h=1 a=40 history_o=Symbol[:c1, :c0, :c0]\n",
      "h=1 a=50 history_o=Symbol[:c1, :c0, :c1]\n",
      "h=2 a=60 history_o=Symbol[:c1, :c1]\n",
      "h=1 a=50 history_o=Symbol[:c1, :c1, :c0]\n",
      "h=1 a=60 history_o=Symbol[:c1, :c1, :c1]\n",
      "  0.079742 seconds (106.86 k allocations: 7.112 MiB, 9.56% gc time)\n"
     ]
    }
   ],
   "source": [
    "println(\"belief_uniform=$belief_uniform\")\n",
    "println(\"sates=$states\")\n",
    "println(\"actions=$actions\")\n",
    "println(\"observations=$observations\")\n",
    "\n",
    "h = 4\n",
    "b = belief_uniform\n",
    "root_a = 50\n",
    "history_o = Symbol[]\n",
    "\n",
    "n_obs = length(observations)\n",
    "n_nodes = Int64((n_obs^h - 1)/(n_obs - 1))\n",
    "println(n_nodes)\n",
    "\n",
    "empty_tree=[[] for i in 1:n_nodes]\n",
    "Panna = D3Tree(empty_tree, init_expand=h)\n",
    "Panna.text[1] = \"root action\\n$root_a\" \n",
    "Panna.tooltip\n",
    "\n",
    "println(\"We dump the policy tree in text\")\n",
    "println(\"and retieve it also in D3Tree format (Panna)\")\n",
    "@time GetPolicyTree(b, root_a, h, history_o, Panna, \n",
    "                states, actions, observations)"
   ]
  },
  {
   "cell_type": "code",
   "execution_count": 84,
   "metadata": {
    "collapsed": false
   },
   "outputs": [],
   "source": [
    "#Panna # you need an internet connection to dump it"
   ]
  },
  {
   "cell_type": "code",
   "execution_count": 85,
   "metadata": {
    "collapsed": false
   },
   "outputs": [],
   "source": [
    "#HTML(\"\"\"<img src=\"Panna.png\"/>\"\"\")"
   ]
  },
  {
   "cell_type": "code",
   "execution_count": 86,
   "metadata": {
    "collapsed": false
   },
   "outputs": [
    {
     "data": {
      "image/png": "[encoded data removed]",
      "text/plain": [
       "591×838 Array{RGB{N0f8},2} with eltype RGB{Normed{UInt8,8}}:\n",
       " RGB{N0f8}(1.0,1.0,1.0)  RGB{N0f8}(1.0,1.0,1.0)  …  RGB{N0f8}(1.0,1.0,1.0)\n",
       " RGB{N0f8}(1.0,1.0,1.0)  RGB{N0f8}(1.0,1.0,1.0)     RGB{N0f8}(1.0,1.0,1.0)\n",
       " RGB{N0f8}(1.0,1.0,1.0)  RGB{N0f8}(1.0,1.0,1.0)     RGB{N0f8}(1.0,1.0,1.0)\n",
       " RGB{N0f8}(1.0,1.0,1.0)  RGB{N0f8}(1.0,1.0,1.0)     RGB{N0f8}(1.0,1.0,1.0)\n",
       " RGB{N0f8}(1.0,1.0,1.0)  RGB{N0f8}(1.0,1.0,1.0)     RGB{N0f8}(1.0,1.0,1.0)\n",
       " RGB{N0f8}(1.0,1.0,1.0)  RGB{N0f8}(1.0,1.0,1.0)  …  RGB{N0f8}(1.0,1.0,1.0)\n",
       " RGB{N0f8}(1.0,1.0,1.0)  RGB{N0f8}(1.0,1.0,1.0)     RGB{N0f8}(1.0,1.0,1.0)\n",
       " RGB{N0f8}(1.0,1.0,1.0)  RGB{N0f8}(1.0,1.0,1.0)     RGB{N0f8}(1.0,1.0,1.0)\n",
       " RGB{N0f8}(1.0,1.0,1.0)  RGB{N0f8}(1.0,1.0,1.0)     RGB{N0f8}(1.0,1.0,1.0)\n",
       " RGB{N0f8}(1.0,1.0,1.0)  RGB{N0f8}(1.0,1.0,1.0)     RGB{N0f8}(1.0,1.0,1.0)\n",
       " RGB{N0f8}(1.0,1.0,1.0)  RGB{N0f8}(1.0,1.0,1.0)  …  RGB{N0f8}(1.0,1.0,1.0)\n",
       " RGB{N0f8}(1.0,1.0,1.0)  RGB{N0f8}(1.0,1.0,1.0)     RGB{N0f8}(1.0,1.0,1.0)\n",
       " RGB{N0f8}(1.0,1.0,1.0)  RGB{N0f8}(1.0,1.0,1.0)     RGB{N0f8}(1.0,1.0,1.0)\n",
       " ⋮                                               ⋱                        \n",
       " RGB{N0f8}(1.0,1.0,1.0)  RGB{N0f8}(1.0,1.0,1.0)     RGB{N0f8}(1.0,1.0,1.0)\n",
       " RGB{N0f8}(1.0,1.0,1.0)  RGB{N0f8}(1.0,1.0,1.0)  …  RGB{N0f8}(1.0,1.0,1.0)\n",
       " RGB{N0f8}(1.0,1.0,1.0)  RGB{N0f8}(1.0,1.0,1.0)     RGB{N0f8}(1.0,1.0,1.0)\n",
       " RGB{N0f8}(1.0,1.0,1.0)  RGB{N0f8}(1.0,1.0,1.0)     RGB{N0f8}(1.0,1.0,1.0)\n",
       " RGB{N0f8}(1.0,1.0,1.0)  RGB{N0f8}(1.0,1.0,1.0)     RGB{N0f8}(1.0,1.0,1.0)\n",
       " RGB{N0f8}(1.0,1.0,1.0)  RGB{N0f8}(1.0,1.0,1.0)     RGB{N0f8}(1.0,1.0,1.0)\n",
       " RGB{N0f8}(1.0,1.0,1.0)  RGB{N0f8}(1.0,1.0,1.0)  …  RGB{N0f8}(1.0,1.0,1.0)\n",
       " RGB{N0f8}(1.0,1.0,1.0)  RGB{N0f8}(1.0,1.0,1.0)     RGB{N0f8}(1.0,1.0,1.0)\n",
       " RGB{N0f8}(1.0,1.0,1.0)  RGB{N0f8}(1.0,1.0,1.0)     RGB{N0f8}(1.0,1.0,1.0)\n",
       " RGB{N0f8}(1.0,1.0,1.0)  RGB{N0f8}(1.0,1.0,1.0)     RGB{N0f8}(1.0,1.0,1.0)\n",
       " RGB{N0f8}(1.0,1.0,1.0)  RGB{N0f8}(1.0,1.0,1.0)     RGB{N0f8}(1.0,1.0,1.0)\n",
       " RGB{N0f8}(1.0,1.0,1.0)  RGB{N0f8}(1.0,1.0,1.0)  …  RGB{N0f8}(1.0,1.0,1.0)"
      ]
     },
     "execution_count": 86,
     "metadata": {},
     "output_type": "execute_result"
    }
   ],
   "source": [
    "img = load(\"Panna.png\")\n",
    "#plot(img)"
   ]
  },
  {
   "cell_type": "markdown",
   "metadata": {
    "collapsed": true
   },
   "source": [
    "We can see that the optimal policy proposed by Anna has many nodes in common with the policy proposed by Johnny. Which is consistent with the fact that the utilities are indeed pretty close. So Johnny had some good intuition about what to do."
   ]
  },
  {
   "cell_type": "code",
   "execution_count": null,
   "metadata": {
    "collapsed": true
   },
   "outputs": [],
   "source": []
  }
 ],
 "metadata": {
  "anaconda-cloud": {},
  "kernelspec": {
   "display_name": "Julia 1.0.0",
   "language": "julia",
   "name": "julia-1.0"
  },
  "language_info": {
   "file_extension": ".jl",
   "mimetype": "application/julia",
   "name": "julia",
   "version": "1.0.0"
  }
 },
 "nbformat": 4,
 "nbformat_minor": 1
}
